{
  "cells": [
    {
      "cell_type": "markdown",
      "metadata": {
        "id": "SdqK2N_6A11U"
      },
      "source": [
        "# Imports"
      ]
    },
    {
      "cell_type": "code",
      "execution_count": 2,
      "metadata": {
        "id": "FTdXZ8npAeXg"
      },
      "outputs": [],
      "source": [
        "import time\n",
        "from sklearn.preprocessing import StandardScaler\n",
        "import pandas as pd\n",
        "import numpy as np\n",
        "import seaborn as sns  # visualisation\n",
        "from sklearn.model_selection import cross_val_score,GridSearchCV, cross_validate\n",
        "from sklearn import neighbors\n",
        "from sklearn.model_selection import TimeSeriesSplit\n",
        "import matplotlib.pyplot as plt  # visualisation\n",
        "from sklearn.pipeline import Pipeline\n",
        "from sklearn.preprocessing import MinMaxScaler, RobustScaler\n",
        "from sklearn.tree import DecisionTreeRegressor"
      ]
    },
    {
      "cell_type": "markdown",
      "metadata": {
        "id": "rZ5fNsWWA-A8"
      },
      "source": [
        "# Leer archivo"
      ]
    },
    {
      "cell_type": "code",
      "execution_count": 3,
      "metadata": {
        "colab": {
          "base_uri": "https://localhost:8080/",
          "height": 447
        },
        "id": "gX2xqLVVA9KU",
        "outputId": "2b6e489f-fc59-4c95-c965-66b5f58a1153"
      },
      "outputs": [
        {
          "output_type": "stream",
          "name": "stdout",
          "text": [
            "Drive already mounted at /content/drive; to attempt to forcibly remount, call drive.mount(\"/content/drive\", force_remount=True).\n"
          ]
        },
        {
          "output_type": "execute_result",
          "data": {
            "text/plain": [
              "              datetime   energy     p54.162.1     p54.162.2     p54.162.3  \\\n",
              "0  2005-01-02 18:00:00   402.71  2.534970e+06  2.526864e+06  2.518754e+06   \n",
              "1  2005-01-03 00:00:00   696.80  2.537369e+06  2.529277e+06  2.521184e+06   \n",
              "2  2005-01-03 06:00:00  1591.15  2.533727e+06  2.525703e+06  2.517678e+06   \n",
              "3  2005-01-03 12:00:00  1338.62  2.534491e+06  2.526548e+06  2.518609e+06   \n",
              "4  2005-01-03 18:00:00   562.50  2.529543e+06  2.521623e+06  2.513702e+06   \n",
              "\n",
              "      p54.162.4     p54.162.5     p54.162.6     p54.162.7     p54.162.8  ...  \\\n",
              "0  2.510648e+06  2.502537e+06  2.531111e+06  2.522721e+06  2.514330e+06  ...   \n",
              "1  2.513088e+06  2.504995e+06  2.533465e+06  2.525088e+06  2.516716e+06  ...   \n",
              "2  2.509654e+06  2.501629e+06  2.529801e+06  2.521496e+06  2.513187e+06  ...   \n",
              "3  2.510670e+06  2.502732e+06  2.530569e+06  2.522346e+06  2.514127e+06  ...   \n",
              "4  2.505782e+06  2.497861e+06  2.525621e+06  2.517421e+06  2.509215e+06  ...   \n",
              "\n",
              "    v100.16   v100.17   v100.18   v100.19   v100.20   v100.21   v100.22  \\\n",
              "0 -4.683596 -4.545396 -4.407196 -4.268996 -4.131295 -4.669626 -4.528932   \n",
              "1 -3.397886 -3.257192 -3.115998 -2.975304 -2.834609 -3.396390 -3.254198   \n",
              "2 -1.454105 -1.296447 -1.138290 -0.980134 -0.822476 -1.459094 -1.302933   \n",
              "3  1.255015  1.370265  1.485515  1.600765  1.716015  1.210612  1.319376   \n",
              "4  1.939031  2.023847  2.108663  2.193977  2.278793  1.873673  1.953000   \n",
              "\n",
              "    v100.23   v100.24   v100.25  \n",
              "0 -4.388736 -4.248540 -4.107846  \n",
              "1 -3.112506 -2.970314 -2.828622  \n",
              "2 -1.147271 -0.991110 -0.834949  \n",
              "3  1.428140  1.536405  1.645169  \n",
              "4  2.031829  2.111157  2.189986  \n",
              "\n",
              "[5 rows x 552 columns]"
            ],
            "text/html": [
              "\n",
              "  <div id=\"df-3a57a338-b4c4-41ef-84ec-c02fd65f681b\" class=\"colab-df-container\">\n",
              "    <div>\n",
              "<style scoped>\n",
              "    .dataframe tbody tr th:only-of-type {\n",
              "        vertical-align: middle;\n",
              "    }\n",
              "\n",
              "    .dataframe tbody tr th {\n",
              "        vertical-align: top;\n",
              "    }\n",
              "\n",
              "    .dataframe thead th {\n",
              "        text-align: right;\n",
              "    }\n",
              "</style>\n",
              "<table border=\"1\" class=\"dataframe\">\n",
              "  <thead>\n",
              "    <tr style=\"text-align: right;\">\n",
              "      <th></th>\n",
              "      <th>datetime</th>\n",
              "      <th>energy</th>\n",
              "      <th>p54.162.1</th>\n",
              "      <th>p54.162.2</th>\n",
              "      <th>p54.162.3</th>\n",
              "      <th>p54.162.4</th>\n",
              "      <th>p54.162.5</th>\n",
              "      <th>p54.162.6</th>\n",
              "      <th>p54.162.7</th>\n",
              "      <th>p54.162.8</th>\n",
              "      <th>...</th>\n",
              "      <th>v100.16</th>\n",
              "      <th>v100.17</th>\n",
              "      <th>v100.18</th>\n",
              "      <th>v100.19</th>\n",
              "      <th>v100.20</th>\n",
              "      <th>v100.21</th>\n",
              "      <th>v100.22</th>\n",
              "      <th>v100.23</th>\n",
              "      <th>v100.24</th>\n",
              "      <th>v100.25</th>\n",
              "    </tr>\n",
              "  </thead>\n",
              "  <tbody>\n",
              "    <tr>\n",
              "      <th>0</th>\n",
              "      <td>2005-01-02 18:00:00</td>\n",
              "      <td>402.71</td>\n",
              "      <td>2.534970e+06</td>\n",
              "      <td>2.526864e+06</td>\n",
              "      <td>2.518754e+06</td>\n",
              "      <td>2.510648e+06</td>\n",
              "      <td>2.502537e+06</td>\n",
              "      <td>2.531111e+06</td>\n",
              "      <td>2.522721e+06</td>\n",
              "      <td>2.514330e+06</td>\n",
              "      <td>...</td>\n",
              "      <td>-4.683596</td>\n",
              "      <td>-4.545396</td>\n",
              "      <td>-4.407196</td>\n",
              "      <td>-4.268996</td>\n",
              "      <td>-4.131295</td>\n",
              "      <td>-4.669626</td>\n",
              "      <td>-4.528932</td>\n",
              "      <td>-4.388736</td>\n",
              "      <td>-4.248540</td>\n",
              "      <td>-4.107846</td>\n",
              "    </tr>\n",
              "    <tr>\n",
              "      <th>1</th>\n",
              "      <td>2005-01-03 00:00:00</td>\n",
              "      <td>696.80</td>\n",
              "      <td>2.537369e+06</td>\n",
              "      <td>2.529277e+06</td>\n",
              "      <td>2.521184e+06</td>\n",
              "      <td>2.513088e+06</td>\n",
              "      <td>2.504995e+06</td>\n",
              "      <td>2.533465e+06</td>\n",
              "      <td>2.525088e+06</td>\n",
              "      <td>2.516716e+06</td>\n",
              "      <td>...</td>\n",
              "      <td>-3.397886</td>\n",
              "      <td>-3.257192</td>\n",
              "      <td>-3.115998</td>\n",
              "      <td>-2.975304</td>\n",
              "      <td>-2.834609</td>\n",
              "      <td>-3.396390</td>\n",
              "      <td>-3.254198</td>\n",
              "      <td>-3.112506</td>\n",
              "      <td>-2.970314</td>\n",
              "      <td>-2.828622</td>\n",
              "    </tr>\n",
              "    <tr>\n",
              "      <th>2</th>\n",
              "      <td>2005-01-03 06:00:00</td>\n",
              "      <td>1591.15</td>\n",
              "      <td>2.533727e+06</td>\n",
              "      <td>2.525703e+06</td>\n",
              "      <td>2.517678e+06</td>\n",
              "      <td>2.509654e+06</td>\n",
              "      <td>2.501629e+06</td>\n",
              "      <td>2.529801e+06</td>\n",
              "      <td>2.521496e+06</td>\n",
              "      <td>2.513187e+06</td>\n",
              "      <td>...</td>\n",
              "      <td>-1.454105</td>\n",
              "      <td>-1.296447</td>\n",
              "      <td>-1.138290</td>\n",
              "      <td>-0.980134</td>\n",
              "      <td>-0.822476</td>\n",
              "      <td>-1.459094</td>\n",
              "      <td>-1.302933</td>\n",
              "      <td>-1.147271</td>\n",
              "      <td>-0.991110</td>\n",
              "      <td>-0.834949</td>\n",
              "    </tr>\n",
              "    <tr>\n",
              "      <th>3</th>\n",
              "      <td>2005-01-03 12:00:00</td>\n",
              "      <td>1338.62</td>\n",
              "      <td>2.534491e+06</td>\n",
              "      <td>2.526548e+06</td>\n",
              "      <td>2.518609e+06</td>\n",
              "      <td>2.510670e+06</td>\n",
              "      <td>2.502732e+06</td>\n",
              "      <td>2.530569e+06</td>\n",
              "      <td>2.522346e+06</td>\n",
              "      <td>2.514127e+06</td>\n",
              "      <td>...</td>\n",
              "      <td>1.255015</td>\n",
              "      <td>1.370265</td>\n",
              "      <td>1.485515</td>\n",
              "      <td>1.600765</td>\n",
              "      <td>1.716015</td>\n",
              "      <td>1.210612</td>\n",
              "      <td>1.319376</td>\n",
              "      <td>1.428140</td>\n",
              "      <td>1.536405</td>\n",
              "      <td>1.645169</td>\n",
              "    </tr>\n",
              "    <tr>\n",
              "      <th>4</th>\n",
              "      <td>2005-01-03 18:00:00</td>\n",
              "      <td>562.50</td>\n",
              "      <td>2.529543e+06</td>\n",
              "      <td>2.521623e+06</td>\n",
              "      <td>2.513702e+06</td>\n",
              "      <td>2.505782e+06</td>\n",
              "      <td>2.497861e+06</td>\n",
              "      <td>2.525621e+06</td>\n",
              "      <td>2.517421e+06</td>\n",
              "      <td>2.509215e+06</td>\n",
              "      <td>...</td>\n",
              "      <td>1.939031</td>\n",
              "      <td>2.023847</td>\n",
              "      <td>2.108663</td>\n",
              "      <td>2.193977</td>\n",
              "      <td>2.278793</td>\n",
              "      <td>1.873673</td>\n",
              "      <td>1.953000</td>\n",
              "      <td>2.031829</td>\n",
              "      <td>2.111157</td>\n",
              "      <td>2.189986</td>\n",
              "    </tr>\n",
              "  </tbody>\n",
              "</table>\n",
              "<p>5 rows × 552 columns</p>\n",
              "</div>\n",
              "    <div class=\"colab-df-buttons\">\n",
              "\n",
              "  <div class=\"colab-df-container\">\n",
              "    <button class=\"colab-df-convert\" onclick=\"convertToInteractive('df-3a57a338-b4c4-41ef-84ec-c02fd65f681b')\"\n",
              "            title=\"Convert this dataframe to an interactive table.\"\n",
              "            style=\"display:none;\">\n",
              "\n",
              "  <svg xmlns=\"http://www.w3.org/2000/svg\" height=\"24px\" viewBox=\"0 -960 960 960\">\n",
              "    <path d=\"M120-120v-720h720v720H120Zm60-500h600v-160H180v160Zm220 220h160v-160H400v160Zm0 220h160v-160H400v160ZM180-400h160v-160H180v160Zm440 0h160v-160H620v160ZM180-180h160v-160H180v160Zm440 0h160v-160H620v160Z\"/>\n",
              "  </svg>\n",
              "    </button>\n",
              "\n",
              "  <style>\n",
              "    .colab-df-container {\n",
              "      display:flex;\n",
              "      gap: 12px;\n",
              "    }\n",
              "\n",
              "    .colab-df-convert {\n",
              "      background-color: #E8F0FE;\n",
              "      border: none;\n",
              "      border-radius: 50%;\n",
              "      cursor: pointer;\n",
              "      display: none;\n",
              "      fill: #1967D2;\n",
              "      height: 32px;\n",
              "      padding: 0 0 0 0;\n",
              "      width: 32px;\n",
              "    }\n",
              "\n",
              "    .colab-df-convert:hover {\n",
              "      background-color: #E2EBFA;\n",
              "      box-shadow: 0px 1px 2px rgba(60, 64, 67, 0.3), 0px 1px 3px 1px rgba(60, 64, 67, 0.15);\n",
              "      fill: #174EA6;\n",
              "    }\n",
              "\n",
              "    .colab-df-buttons div {\n",
              "      margin-bottom: 4px;\n",
              "    }\n",
              "\n",
              "    [theme=dark] .colab-df-convert {\n",
              "      background-color: #3B4455;\n",
              "      fill: #D2E3FC;\n",
              "    }\n",
              "\n",
              "    [theme=dark] .colab-df-convert:hover {\n",
              "      background-color: #434B5C;\n",
              "      box-shadow: 0px 1px 3px 1px rgba(0, 0, 0, 0.15);\n",
              "      filter: drop-shadow(0px 1px 2px rgba(0, 0, 0, 0.3));\n",
              "      fill: #FFFFFF;\n",
              "    }\n",
              "  </style>\n",
              "\n",
              "    <script>\n",
              "      const buttonEl =\n",
              "        document.querySelector('#df-3a57a338-b4c4-41ef-84ec-c02fd65f681b button.colab-df-convert');\n",
              "      buttonEl.style.display =\n",
              "        google.colab.kernel.accessAllowed ? 'block' : 'none';\n",
              "\n",
              "      async function convertToInteractive(key) {\n",
              "        const element = document.querySelector('#df-3a57a338-b4c4-41ef-84ec-c02fd65f681b');\n",
              "        const dataTable =\n",
              "          await google.colab.kernel.invokeFunction('convertToInteractive',\n",
              "                                                    [key], {});\n",
              "        if (!dataTable) return;\n",
              "\n",
              "        const docLinkHtml = 'Like what you see? Visit the ' +\n",
              "          '<a target=\"_blank\" href=https://colab.research.google.com/notebooks/data_table.ipynb>data table notebook</a>'\n",
              "          + ' to learn more about interactive tables.';\n",
              "        element.innerHTML = '';\n",
              "        dataTable['output_type'] = 'display_data';\n",
              "        await google.colab.output.renderOutput(dataTable, element);\n",
              "        const docLink = document.createElement('div');\n",
              "        docLink.innerHTML = docLinkHtml;\n",
              "        element.appendChild(docLink);\n",
              "      }\n",
              "    </script>\n",
              "  </div>\n",
              "\n",
              "\n",
              "<div id=\"df-b5c32545-a2c3-4b7e-85eb-3ee4a3b4a3b2\">\n",
              "  <button class=\"colab-df-quickchart\" onclick=\"quickchart('df-b5c32545-a2c3-4b7e-85eb-3ee4a3b4a3b2')\"\n",
              "            title=\"Suggest charts\"\n",
              "            style=\"display:none;\">\n",
              "\n",
              "<svg xmlns=\"http://www.w3.org/2000/svg\" height=\"24px\"viewBox=\"0 0 24 24\"\n",
              "     width=\"24px\">\n",
              "    <g>\n",
              "        <path d=\"M19 3H5c-1.1 0-2 .9-2 2v14c0 1.1.9 2 2 2h14c1.1 0 2-.9 2-2V5c0-1.1-.9-2-2-2zM9 17H7v-7h2v7zm4 0h-2V7h2v10zm4 0h-2v-4h2v4z\"/>\n",
              "    </g>\n",
              "</svg>\n",
              "  </button>\n",
              "\n",
              "<style>\n",
              "  .colab-df-quickchart {\n",
              "      --bg-color: #E8F0FE;\n",
              "      --fill-color: #1967D2;\n",
              "      --hover-bg-color: #E2EBFA;\n",
              "      --hover-fill-color: #174EA6;\n",
              "      --disabled-fill-color: #AAA;\n",
              "      --disabled-bg-color: #DDD;\n",
              "  }\n",
              "\n",
              "  [theme=dark] .colab-df-quickchart {\n",
              "      --bg-color: #3B4455;\n",
              "      --fill-color: #D2E3FC;\n",
              "      --hover-bg-color: #434B5C;\n",
              "      --hover-fill-color: #FFFFFF;\n",
              "      --disabled-bg-color: #3B4455;\n",
              "      --disabled-fill-color: #666;\n",
              "  }\n",
              "\n",
              "  .colab-df-quickchart {\n",
              "    background-color: var(--bg-color);\n",
              "    border: none;\n",
              "    border-radius: 50%;\n",
              "    cursor: pointer;\n",
              "    display: none;\n",
              "    fill: var(--fill-color);\n",
              "    height: 32px;\n",
              "    padding: 0;\n",
              "    width: 32px;\n",
              "  }\n",
              "\n",
              "  .colab-df-quickchart:hover {\n",
              "    background-color: var(--hover-bg-color);\n",
              "    box-shadow: 0 1px 2px rgba(60, 64, 67, 0.3), 0 1px 3px 1px rgba(60, 64, 67, 0.15);\n",
              "    fill: var(--button-hover-fill-color);\n",
              "  }\n",
              "\n",
              "  .colab-df-quickchart-complete:disabled,\n",
              "  .colab-df-quickchart-complete:disabled:hover {\n",
              "    background-color: var(--disabled-bg-color);\n",
              "    fill: var(--disabled-fill-color);\n",
              "    box-shadow: none;\n",
              "  }\n",
              "\n",
              "  .colab-df-spinner {\n",
              "    border: 2px solid var(--fill-color);\n",
              "    border-color: transparent;\n",
              "    border-bottom-color: var(--fill-color);\n",
              "    animation:\n",
              "      spin 1s steps(1) infinite;\n",
              "  }\n",
              "\n",
              "  @keyframes spin {\n",
              "    0% {\n",
              "      border-color: transparent;\n",
              "      border-bottom-color: var(--fill-color);\n",
              "      border-left-color: var(--fill-color);\n",
              "    }\n",
              "    20% {\n",
              "      border-color: transparent;\n",
              "      border-left-color: var(--fill-color);\n",
              "      border-top-color: var(--fill-color);\n",
              "    }\n",
              "    30% {\n",
              "      border-color: transparent;\n",
              "      border-left-color: var(--fill-color);\n",
              "      border-top-color: var(--fill-color);\n",
              "      border-right-color: var(--fill-color);\n",
              "    }\n",
              "    40% {\n",
              "      border-color: transparent;\n",
              "      border-right-color: var(--fill-color);\n",
              "      border-top-color: var(--fill-color);\n",
              "    }\n",
              "    60% {\n",
              "      border-color: transparent;\n",
              "      border-right-color: var(--fill-color);\n",
              "    }\n",
              "    80% {\n",
              "      border-color: transparent;\n",
              "      border-right-color: var(--fill-color);\n",
              "      border-bottom-color: var(--fill-color);\n",
              "    }\n",
              "    90% {\n",
              "      border-color: transparent;\n",
              "      border-bottom-color: var(--fill-color);\n",
              "    }\n",
              "  }\n",
              "</style>\n",
              "\n",
              "  <script>\n",
              "    async function quickchart(key) {\n",
              "      const quickchartButtonEl =\n",
              "        document.querySelector('#' + key + ' button');\n",
              "      quickchartButtonEl.disabled = true;  // To prevent multiple clicks.\n",
              "      quickchartButtonEl.classList.add('colab-df-spinner');\n",
              "      try {\n",
              "        const charts = await google.colab.kernel.invokeFunction(\n",
              "            'suggestCharts', [key], {});\n",
              "      } catch (error) {\n",
              "        console.error('Error during call to suggestCharts:', error);\n",
              "      }\n",
              "      quickchartButtonEl.classList.remove('colab-df-spinner');\n",
              "      quickchartButtonEl.classList.add('colab-df-quickchart-complete');\n",
              "    }\n",
              "    (() => {\n",
              "      let quickchartButtonEl =\n",
              "        document.querySelector('#df-b5c32545-a2c3-4b7e-85eb-3ee4a3b4a3b2 button');\n",
              "      quickchartButtonEl.style.display =\n",
              "        google.colab.kernel.accessAllowed ? 'block' : 'none';\n",
              "    })();\n",
              "  </script>\n",
              "</div>\n",
              "    </div>\n",
              "  </div>\n"
            ],
            "application/vnd.google.colaboratory.intrinsic+json": {
              "type": "dataframe",
              "variable_name": "df"
            }
          },
          "metadata": {},
          "execution_count": 3
        }
      ],
      "source": [
        "from google.colab import drive\n",
        "drive.mount('/content/drive')\n",
        "\n",
        "file_path = '/content/drive/MyDrive/wind_ava.csv'\n",
        "df = pd.read_csv(file_path)\n",
        "df.head(5)"
      ]
    },
    {
      "cell_type": "markdown",
      "metadata": {
        "id": "32E4lJSLCIei"
      },
      "source": [
        "# EDA"
      ]
    },
    {
      "cell_type": "markdown",
      "metadata": {
        "id": "zFtYrHQmCNeB"
      },
      "source": [
        "## Análisis de atributos e instancias\n",
        "\n"
      ]
    },
    {
      "cell_type": "code",
      "execution_count": 4,
      "metadata": {
        "colab": {
          "base_uri": "https://localhost:8080/"
        },
        "id": "JnlkI1yoCYgO",
        "outputId": "9cdfab8b-f408-44d4-b1c3-7860d79a6196"
      },
      "outputs": [
        {
          "output_type": "stream",
          "name": "stdout",
          "text": [
            "Number of instances:  4748\n",
            "Number of features:  552\n"
          ]
        }
      ],
      "source": [
        "num_instances, num_features = df.shape\n",
        "print(\"Number of instances: \", num_instances)\n",
        "print(\"Number of features: \", num_features)"
      ]
    },
    {
      "cell_type": "markdown",
      "metadata": {
        "id": "hOqUKfdVCfhV"
      },
      "source": [
        "## Análisis de cada atributo\n",
        "Esto es un análisi"
      ]
    },
    {
      "cell_type": "code",
      "execution_count": 5,
      "metadata": {
        "colab": {
          "base_uri": "https://localhost:8080/"
        },
        "id": "c9QpR6NFCkmr",
        "outputId": "d293a3c0-68b7-4ac6-b40f-2a9c629129bc"
      },
      "outputs": [
        {
          "output_type": "stream",
          "name": "stdout",
          "text": [
            "Tipos de variables:\n",
            "datetime :  object -> categórico. || Missing values:  0\n",
            "energy :  float64 -> numérico. || Missing values:  0\n",
            "p54.162.1 :  float64 -> numérico. || Missing values:  0\n",
            "p54.162.2 :  float64 -> numérico. || Missing values:  0\n",
            "p54.162.3 :  float64 -> numérico. || Missing values:  0\n",
            "p54.162.4 :  float64 -> numérico. || Missing values:  0\n",
            "p54.162.5 :  float64 -> numérico. || Missing values:  0\n",
            "p54.162.6 :  float64 -> numérico. || Missing values:  0\n",
            "p54.162.7 :  float64 -> numérico. || Missing values:  0\n",
            "p54.162.8 :  float64 -> numérico. || Missing values:  0\n",
            "p54.162.9 :  float64 -> numérico. || Missing values:  0\n",
            "p54.162.10 :  float64 -> numérico. || Missing values:  0\n",
            "p54.162.11 :  float64 -> numérico. || Missing values:  0\n",
            "p54.162.12 :  float64 -> numérico. || Missing values:  0\n",
            "p54.162.13 :  float64 -> numérico. || Missing values:  0\n",
            "p54.162.14 :  float64 -> numérico. || Missing values:  0\n",
            "p54.162.15 :  float64 -> numérico. || Missing values:  0\n",
            "p54.162.16 :  float64 -> numérico. || Missing values:  0\n",
            "p54.162.17 :  float64 -> numérico. || Missing values:  0\n",
            "p54.162.18 :  float64 -> numérico. || Missing values:  0\n",
            "p54.162.19 :  float64 -> numérico. || Missing values:  0\n",
            "p54.162.20 :  float64 -> numérico. || Missing values:  0\n",
            "p54.162.21 :  float64 -> numérico. || Missing values:  0\n",
            "p54.162.22 :  float64 -> numérico. || Missing values:  0\n",
            "p54.162.23 :  float64 -> numérico. || Missing values:  0\n",
            "p54.162.24 :  float64 -> numérico. || Missing values:  0\n",
            "p54.162.25 :  float64 -> numérico. || Missing values:  0\n",
            "p55.162.1 :  float64 -> numérico. || Missing values:  0\n",
            "p55.162.2 :  float64 -> numérico. || Missing values:  0\n",
            "p55.162.3 :  float64 -> numérico. || Missing values:  0\n",
            "p55.162.4 :  float64 -> numérico. || Missing values:  0\n",
            "p55.162.5 :  float64 -> numérico. || Missing values:  0\n",
            "p55.162.6 :  float64 -> numérico. || Missing values:  0\n",
            "p55.162.7 :  float64 -> numérico. || Missing values:  0\n",
            "p55.162.8 :  float64 -> numérico. || Missing values:  0\n",
            "p55.162.9 :  float64 -> numérico. || Missing values:  0\n",
            "p55.162.10 :  float64 -> numérico. || Missing values:  0\n",
            "p55.162.11 :  float64 -> numérico. || Missing values:  0\n",
            "p55.162.12 :  float64 -> numérico. || Missing values:  0\n",
            "p55.162.13 :  float64 -> numérico. || Missing values:  0\n",
            "p55.162.14 :  float64 -> numérico. || Missing values:  0\n",
            "p55.162.15 :  float64 -> numérico. || Missing values:  0\n",
            "p55.162.16 :  float64 -> numérico. || Missing values:  0\n",
            "p55.162.17 :  float64 -> numérico. || Missing values:  0\n",
            "p55.162.18 :  float64 -> numérico. || Missing values:  0\n",
            "p55.162.19 :  float64 -> numérico. || Missing values:  0\n",
            "p55.162.20 :  float64 -> numérico. || Missing values:  0\n",
            "p55.162.21 :  float64 -> numérico. || Missing values:  0\n",
            "p55.162.22 :  float64 -> numérico. || Missing values:  0\n",
            "p55.162.23 :  float64 -> numérico. || Missing values:  0\n",
            "p55.162.24 :  float64 -> numérico. || Missing values:  0\n",
            "p55.162.25 :  float64 -> numérico. || Missing values:  0\n",
            "cape.1 :  float64 -> numérico. || Missing values:  0\n",
            "cape.2 :  float64 -> numérico. || Missing values:  0\n",
            "cape.3 :  float64 -> numérico. || Missing values:  0\n",
            "cape.4 :  float64 -> numérico. || Missing values:  0\n",
            "cape.5 :  float64 -> numérico. || Missing values:  0\n",
            "cape.6 :  float64 -> numérico. || Missing values:  0\n",
            "cape.7 :  float64 -> numérico. || Missing values:  0\n",
            "cape.8 :  float64 -> numérico. || Missing values:  0\n",
            "cape.9 :  float64 -> numérico. || Missing values:  0\n",
            "cape.10 :  float64 -> numérico. || Missing values:  0\n",
            "cape.11 :  float64 -> numérico. || Missing values:  0\n",
            "cape.12 :  float64 -> numérico. || Missing values:  0\n",
            "cape.13 :  float64 -> numérico. || Missing values:  0\n",
            "cape.14 :  float64 -> numérico. || Missing values:  0\n",
            "cape.15 :  float64 -> numérico. || Missing values:  0\n",
            "cape.16 :  float64 -> numérico. || Missing values:  0\n",
            "cape.17 :  float64 -> numérico. || Missing values:  0\n",
            "cape.18 :  float64 -> numérico. || Missing values:  0\n",
            "cape.19 :  float64 -> numérico. || Missing values:  0\n",
            "cape.20 :  float64 -> numérico. || Missing values:  0\n",
            "cape.21 :  float64 -> numérico. || Missing values:  0\n",
            "cape.22 :  float64 -> numérico. || Missing values:  0\n",
            "cape.23 :  float64 -> numérico. || Missing values:  0\n",
            "cape.24 :  float64 -> numérico. || Missing values:  0\n",
            "cape.25 :  float64 -> numérico. || Missing values:  0\n",
            "p59.162.1 :  float64 -> numérico. || Missing values:  0\n",
            "p59.162.2 :  float64 -> numérico. || Missing values:  0\n",
            "p59.162.3 :  float64 -> numérico. || Missing values:  0\n",
            "p59.162.4 :  float64 -> numérico. || Missing values:  0\n",
            "p59.162.5 :  float64 -> numérico. || Missing values:  0\n",
            "p59.162.6 :  float64 -> numérico. || Missing values:  0\n",
            "p59.162.7 :  float64 -> numérico. || Missing values:  0\n",
            "p59.162.8 :  float64 -> numérico. || Missing values:  0\n",
            "p59.162.9 :  float64 -> numérico. || Missing values:  0\n",
            "p59.162.10 :  float64 -> numérico. || Missing values:  0\n",
            "p59.162.11 :  float64 -> numérico. || Missing values:  0\n",
            "p59.162.12 :  float64 -> numérico. || Missing values:  0\n",
            "p59.162.13 :  float64 -> numérico. || Missing values:  0\n",
            "p59.162.14 :  float64 -> numérico. || Missing values:  0\n",
            "p59.162.15 :  float64 -> numérico. || Missing values:  0\n",
            "p59.162.16 :  float64 -> numérico. || Missing values:  0\n",
            "p59.162.17 :  float64 -> numérico. || Missing values:  0\n",
            "p59.162.18 :  float64 -> numérico. || Missing values:  0\n",
            "p59.162.19 :  float64 -> numérico. || Missing values:  0\n",
            "p59.162.20 :  float64 -> numérico. || Missing values:  0\n",
            "p59.162.21 :  float64 -> numérico. || Missing values:  0\n",
            "p59.162.22 :  float64 -> numérico. || Missing values:  0\n",
            "p59.162.23 :  float64 -> numérico. || Missing values:  0\n",
            "p59.162.24 :  float64 -> numérico. || Missing values:  0\n",
            "p59.162.25 :  float64 -> numérico. || Missing values:  0\n",
            "lai_lv.1 :  float64 -> numérico. || Missing values:  0\n",
            "lai_lv.2 :  float64 -> numérico. || Missing values:  0\n",
            "lai_lv.3 :  float64 -> numérico. || Missing values:  0\n",
            "lai_lv.4 :  float64 -> numérico. || Missing values:  0\n",
            "lai_lv.5 :  float64 -> numérico. || Missing values:  0\n",
            "lai_lv.6 :  float64 -> numérico. || Missing values:  0\n",
            "lai_lv.7 :  float64 -> numérico. || Missing values:  0\n",
            "lai_lv.8 :  float64 -> numérico. || Missing values:  0\n",
            "lai_lv.9 :  float64 -> numérico. || Missing values:  0\n",
            "lai_lv.10 :  float64 -> numérico. || Missing values:  0\n",
            "lai_lv.11 :  float64 -> numérico. || Missing values:  0\n",
            "lai_lv.12 :  float64 -> numérico. || Missing values:  0\n",
            "lai_lv.13 :  float64 -> numérico. || Missing values:  0\n",
            "lai_lv.14 :  float64 -> numérico. || Missing values:  0\n",
            "lai_lv.15 :  float64 -> numérico. || Missing values:  0\n",
            "lai_lv.16 :  float64 -> numérico. || Missing values:  0\n",
            "lai_lv.17 :  float64 -> numérico. || Missing values:  0\n",
            "lai_lv.18 :  float64 -> numérico. || Missing values:  0\n",
            "lai_lv.19 :  float64 -> numérico. || Missing values:  0\n",
            "lai_lv.20 :  float64 -> numérico. || Missing values:  0\n",
            "lai_lv.21 :  float64 -> numérico. || Missing values:  0\n",
            "lai_lv.22 :  float64 -> numérico. || Missing values:  0\n",
            "lai_lv.23 :  float64 -> numérico. || Missing values:  0\n",
            "lai_lv.24 :  float64 -> numérico. || Missing values:  0\n",
            "lai_lv.25 :  float64 -> numérico. || Missing values:  0\n",
            "lai_hv.1 :  float64 -> numérico. || Missing values:  0\n",
            "lai_hv.2 :  float64 -> numérico. || Missing values:  0\n",
            "lai_hv.3 :  float64 -> numérico. || Missing values:  0\n",
            "lai_hv.4 :  float64 -> numérico. || Missing values:  0\n",
            "lai_hv.5 :  float64 -> numérico. || Missing values:  0\n",
            "lai_hv.6 :  float64 -> numérico. || Missing values:  0\n",
            "lai_hv.7 :  float64 -> numérico. || Missing values:  0\n",
            "lai_hv.8 :  float64 -> numérico. || Missing values:  0\n",
            "lai_hv.9 :  float64 -> numérico. || Missing values:  0\n",
            "lai_hv.10 :  float64 -> numérico. || Missing values:  0\n",
            "lai_hv.11 :  float64 -> numérico. || Missing values:  0\n",
            "lai_hv.12 :  float64 -> numérico. || Missing values:  0\n",
            "lai_hv.13 :  float64 -> numérico. || Missing values:  0\n",
            "lai_hv.14 :  float64 -> numérico. || Missing values:  0\n",
            "lai_hv.15 :  float64 -> numérico. || Missing values:  0\n",
            "lai_hv.16 :  float64 -> numérico. || Missing values:  0\n",
            "lai_hv.17 :  float64 -> numérico. || Missing values:  0\n",
            "lai_hv.18 :  float64 -> numérico. || Missing values:  0\n",
            "lai_hv.19 :  float64 -> numérico. || Missing values:  0\n",
            "lai_hv.20 :  float64 -> numérico. || Missing values:  0\n",
            "lai_hv.21 :  float64 -> numérico. || Missing values:  0\n",
            "lai_hv.22 :  float64 -> numérico. || Missing values:  0\n",
            "lai_hv.23 :  float64 -> numérico. || Missing values:  0\n",
            "lai_hv.24 :  float64 -> numérico. || Missing values:  0\n",
            "lai_hv.25 :  float64 -> numérico. || Missing values:  0\n",
            "u10n.1 :  float64 -> numérico. || Missing values:  0\n",
            "u10n.2 :  float64 -> numérico. || Missing values:  0\n",
            "u10n.3 :  float64 -> numérico. || Missing values:  0\n",
            "u10n.4 :  float64 -> numérico. || Missing values:  0\n",
            "u10n.5 :  float64 -> numérico. || Missing values:  0\n",
            "u10n.6 :  float64 -> numérico. || Missing values:  0\n",
            "u10n.7 :  float64 -> numérico. || Missing values:  0\n",
            "u10n.8 :  float64 -> numérico. || Missing values:  0\n",
            "u10n.9 :  float64 -> numérico. || Missing values:  0\n",
            "u10n.10 :  float64 -> numérico. || Missing values:  0\n",
            "u10n.11 :  float64 -> numérico. || Missing values:  0\n",
            "u10n.12 :  float64 -> numérico. || Missing values:  0\n",
            "u10n.13 :  float64 -> numérico. || Missing values:  0\n",
            "u10n.14 :  float64 -> numérico. || Missing values:  0\n",
            "u10n.15 :  float64 -> numérico. || Missing values:  0\n",
            "u10n.16 :  float64 -> numérico. || Missing values:  0\n",
            "u10n.17 :  float64 -> numérico. || Missing values:  0\n",
            "u10n.18 :  float64 -> numérico. || Missing values:  0\n",
            "u10n.19 :  float64 -> numérico. || Missing values:  0\n",
            "u10n.20 :  float64 -> numérico. || Missing values:  0\n",
            "u10n.21 :  float64 -> numérico. || Missing values:  0\n",
            "u10n.22 :  float64 -> numérico. || Missing values:  0\n",
            "u10n.23 :  float64 -> numérico. || Missing values:  0\n",
            "u10n.24 :  float64 -> numérico. || Missing values:  0\n",
            "u10n.25 :  float64 -> numérico. || Missing values:  0\n",
            "v10n.1 :  float64 -> numérico. || Missing values:  0\n",
            "v10n.2 :  float64 -> numérico. || Missing values:  0\n",
            "v10n.3 :  float64 -> numérico. || Missing values:  0\n",
            "v10n.4 :  float64 -> numérico. || Missing values:  0\n",
            "v10n.5 :  float64 -> numérico. || Missing values:  0\n",
            "v10n.6 :  float64 -> numérico. || Missing values:  0\n",
            "v10n.7 :  float64 -> numérico. || Missing values:  0\n",
            "v10n.8 :  float64 -> numérico. || Missing values:  0\n",
            "v10n.9 :  float64 -> numérico. || Missing values:  0\n",
            "v10n.10 :  float64 -> numérico. || Missing values:  0\n",
            "v10n.11 :  float64 -> numérico. || Missing values:  0\n",
            "v10n.12 :  float64 -> numérico. || Missing values:  0\n",
            "v10n.13 :  float64 -> numérico. || Missing values:  0\n",
            "v10n.14 :  float64 -> numérico. || Missing values:  0\n",
            "v10n.15 :  float64 -> numérico. || Missing values:  0\n",
            "v10n.16 :  float64 -> numérico. || Missing values:  0\n",
            "v10n.17 :  float64 -> numérico. || Missing values:  0\n",
            "v10n.18 :  float64 -> numérico. || Missing values:  0\n",
            "v10n.19 :  float64 -> numérico. || Missing values:  0\n",
            "v10n.20 :  float64 -> numérico. || Missing values:  0\n",
            "v10n.21 :  float64 -> numérico. || Missing values:  0\n",
            "v10n.22 :  float64 -> numérico. || Missing values:  0\n",
            "v10n.23 :  float64 -> numérico. || Missing values:  0\n",
            "v10n.24 :  float64 -> numérico. || Missing values:  0\n",
            "v10n.25 :  float64 -> numérico. || Missing values:  0\n",
            "sp.1 :  float64 -> numérico. || Missing values:  0\n",
            "sp.2 :  float64 -> numérico. || Missing values:  0\n",
            "sp.3 :  float64 -> numérico. || Missing values:  0\n",
            "sp.4 :  float64 -> numérico. || Missing values:  0\n",
            "sp.5 :  float64 -> numérico. || Missing values:  0\n",
            "sp.6 :  float64 -> numérico. || Missing values:  0\n",
            "sp.7 :  float64 -> numérico. || Missing values:  0\n",
            "sp.8 :  float64 -> numérico. || Missing values:  0\n",
            "sp.9 :  float64 -> numérico. || Missing values:  0\n",
            "sp.10 :  float64 -> numérico. || Missing values:  0\n",
            "sp.11 :  float64 -> numérico. || Missing values:  0\n",
            "sp.12 :  float64 -> numérico. || Missing values:  0\n",
            "sp.13 :  float64 -> numérico. || Missing values:  0\n",
            "sp.14 :  float64 -> numérico. || Missing values:  0\n",
            "sp.15 :  float64 -> numérico. || Missing values:  0\n",
            "sp.16 :  float64 -> numérico. || Missing values:  0\n",
            "sp.17 :  float64 -> numérico. || Missing values:  0\n",
            "sp.18 :  float64 -> numérico. || Missing values:  0\n",
            "sp.19 :  float64 -> numérico. || Missing values:  0\n",
            "sp.20 :  float64 -> numérico. || Missing values:  0\n",
            "sp.21 :  float64 -> numérico. || Missing values:  0\n",
            "sp.22 :  float64 -> numérico. || Missing values:  0\n",
            "sp.23 :  float64 -> numérico. || Missing values:  0\n",
            "sp.24 :  float64 -> numérico. || Missing values:  0\n",
            "sp.25 :  float64 -> numérico. || Missing values:  0\n",
            "stl1.1 :  float64 -> numérico. || Missing values:  0\n",
            "stl1.2 :  float64 -> numérico. || Missing values:  0\n",
            "stl1.3 :  float64 -> numérico. || Missing values:  0\n",
            "stl1.4 :  float64 -> numérico. || Missing values:  0\n",
            "stl1.5 :  float64 -> numérico. || Missing values:  0\n",
            "stl1.6 :  float64 -> numérico. || Missing values:  0\n",
            "stl1.7 :  float64 -> numérico. || Missing values:  0\n",
            "stl1.8 :  float64 -> numérico. || Missing values:  0\n",
            "stl1.9 :  float64 -> numérico. || Missing values:  0\n",
            "stl1.10 :  float64 -> numérico. || Missing values:  0\n",
            "stl1.11 :  float64 -> numérico. || Missing values:  0\n",
            "stl1.12 :  float64 -> numérico. || Missing values:  0\n",
            "stl1.13 :  float64 -> numérico. || Missing values:  0\n",
            "stl1.14 :  float64 -> numérico. || Missing values:  0\n",
            "stl1.15 :  float64 -> numérico. || Missing values:  0\n",
            "stl1.16 :  float64 -> numérico. || Missing values:  0\n",
            "stl1.17 :  float64 -> numérico. || Missing values:  0\n",
            "stl1.18 :  float64 -> numérico. || Missing values:  0\n",
            "stl1.19 :  float64 -> numérico. || Missing values:  0\n",
            "stl1.20 :  float64 -> numérico. || Missing values:  0\n",
            "stl1.21 :  float64 -> numérico. || Missing values:  0\n",
            "stl1.22 :  float64 -> numérico. || Missing values:  0\n",
            "stl1.23 :  float64 -> numérico. || Missing values:  0\n",
            "stl1.24 :  float64 -> numérico. || Missing values:  0\n",
            "stl1.25 :  float64 -> numérico. || Missing values:  0\n",
            "u10.1 :  float64 -> numérico. || Missing values:  0\n",
            "u10.2 :  float64 -> numérico. || Missing values:  0\n",
            "u10.3 :  float64 -> numérico. || Missing values:  0\n",
            "u10.4 :  float64 -> numérico. || Missing values:  0\n",
            "u10.5 :  float64 -> numérico. || Missing values:  0\n",
            "u10.6 :  float64 -> numérico. || Missing values:  0\n",
            "u10.7 :  float64 -> numérico. || Missing values:  0\n",
            "u10.8 :  float64 -> numérico. || Missing values:  0\n",
            "u10.9 :  float64 -> numérico. || Missing values:  0\n",
            "u10.10 :  float64 -> numérico. || Missing values:  0\n",
            "u10.11 :  float64 -> numérico. || Missing values:  0\n",
            "u10.12 :  float64 -> numérico. || Missing values:  0\n",
            "u10.13 :  float64 -> numérico. || Missing values:  0\n",
            "u10.14 :  float64 -> numérico. || Missing values:  0\n",
            "u10.15 :  float64 -> numérico. || Missing values:  0\n",
            "u10.16 :  float64 -> numérico. || Missing values:  0\n",
            "u10.17 :  float64 -> numérico. || Missing values:  0\n",
            "u10.18 :  float64 -> numérico. || Missing values:  0\n",
            "u10.19 :  float64 -> numérico. || Missing values:  0\n",
            "u10.20 :  float64 -> numérico. || Missing values:  0\n",
            "u10.21 :  float64 -> numérico. || Missing values:  0\n",
            "u10.22 :  float64 -> numérico. || Missing values:  0\n",
            "u10.23 :  float64 -> numérico. || Missing values:  0\n",
            "u10.24 :  float64 -> numérico. || Missing values:  0\n",
            "u10.25 :  float64 -> numérico. || Missing values:  0\n",
            "v10.1 :  float64 -> numérico. || Missing values:  0\n",
            "v10.2 :  float64 -> numérico. || Missing values:  0\n",
            "v10.3 :  float64 -> numérico. || Missing values:  0\n",
            "v10.4 :  float64 -> numérico. || Missing values:  0\n",
            "v10.5 :  float64 -> numérico. || Missing values:  0\n",
            "v10.6 :  float64 -> numérico. || Missing values:  0\n",
            "v10.7 :  float64 -> numérico. || Missing values:  0\n",
            "v10.8 :  float64 -> numérico. || Missing values:  0\n",
            "v10.9 :  float64 -> numérico. || Missing values:  0\n",
            "v10.10 :  float64 -> numérico. || Missing values:  0\n",
            "v10.11 :  float64 -> numérico. || Missing values:  0\n",
            "v10.12 :  float64 -> numérico. || Missing values:  0\n",
            "v10.13 :  float64 -> numérico. || Missing values:  0\n",
            "v10.14 :  float64 -> numérico. || Missing values:  0\n",
            "v10.15 :  float64 -> numérico. || Missing values:  0\n",
            "v10.16 :  float64 -> numérico. || Missing values:  0\n",
            "v10.17 :  float64 -> numérico. || Missing values:  0\n",
            "v10.18 :  float64 -> numérico. || Missing values:  0\n",
            "v10.19 :  float64 -> numérico. || Missing values:  0\n",
            "v10.20 :  float64 -> numérico. || Missing values:  0\n",
            "v10.21 :  float64 -> numérico. || Missing values:  0\n",
            "v10.22 :  float64 -> numérico. || Missing values:  0\n",
            "v10.23 :  float64 -> numérico. || Missing values:  0\n",
            "v10.24 :  float64 -> numérico. || Missing values:  0\n",
            "v10.25 :  float64 -> numérico. || Missing values:  0\n",
            "t2m.1 :  float64 -> numérico. || Missing values:  0\n",
            "t2m.2 :  float64 -> numérico. || Missing values:  0\n",
            "t2m.3 :  float64 -> numérico. || Missing values:  0\n",
            "t2m.4 :  float64 -> numérico. || Missing values:  0\n",
            "t2m.5 :  float64 -> numérico. || Missing values:  0\n",
            "t2m.6 :  float64 -> numérico. || Missing values:  0\n",
            "t2m.7 :  float64 -> numérico. || Missing values:  0\n",
            "t2m.8 :  float64 -> numérico. || Missing values:  0\n",
            "t2m.9 :  float64 -> numérico. || Missing values:  0\n",
            "t2m.10 :  float64 -> numérico. || Missing values:  0\n",
            "t2m.11 :  float64 -> numérico. || Missing values:  0\n",
            "t2m.12 :  float64 -> numérico. || Missing values:  0\n",
            "t2m.13 :  float64 -> numérico. || Missing values:  0\n",
            "t2m.14 :  float64 -> numérico. || Missing values:  0\n",
            "t2m.15 :  float64 -> numérico. || Missing values:  0\n",
            "t2m.16 :  float64 -> numérico. || Missing values:  0\n",
            "t2m.17 :  float64 -> numérico. || Missing values:  0\n",
            "t2m.18 :  float64 -> numérico. || Missing values:  0\n",
            "t2m.19 :  float64 -> numérico. || Missing values:  0\n",
            "t2m.20 :  float64 -> numérico. || Missing values:  0\n",
            "t2m.21 :  float64 -> numérico. || Missing values:  0\n",
            "t2m.22 :  float64 -> numérico. || Missing values:  0\n",
            "t2m.23 :  float64 -> numérico. || Missing values:  0\n",
            "t2m.24 :  float64 -> numérico. || Missing values:  0\n",
            "t2m.25 :  float64 -> numérico. || Missing values:  0\n",
            "stl2.1 :  float64 -> numérico. || Missing values:  0\n",
            "stl2.2 :  float64 -> numérico. || Missing values:  0\n",
            "stl2.3 :  float64 -> numérico. || Missing values:  0\n",
            "stl2.4 :  float64 -> numérico. || Missing values:  0\n",
            "stl2.5 :  float64 -> numérico. || Missing values:  0\n",
            "stl2.6 :  float64 -> numérico. || Missing values:  0\n",
            "stl2.7 :  float64 -> numérico. || Missing values:  0\n",
            "stl2.8 :  float64 -> numérico. || Missing values:  0\n",
            "stl2.9 :  float64 -> numérico. || Missing values:  0\n",
            "stl2.10 :  float64 -> numérico. || Missing values:  0\n",
            "stl2.11 :  float64 -> numérico. || Missing values:  0\n",
            "stl2.12 :  float64 -> numérico. || Missing values:  0\n",
            "stl2.13 :  float64 -> numérico. || Missing values:  0\n",
            "stl2.14 :  float64 -> numérico. || Missing values:  0\n",
            "stl2.15 :  float64 -> numérico. || Missing values:  0\n",
            "stl2.16 :  float64 -> numérico. || Missing values:  0\n",
            "stl2.17 :  float64 -> numérico. || Missing values:  0\n",
            "stl2.18 :  float64 -> numérico. || Missing values:  0\n",
            "stl2.19 :  float64 -> numérico. || Missing values:  0\n",
            "stl2.20 :  float64 -> numérico. || Missing values:  0\n",
            "stl2.21 :  float64 -> numérico. || Missing values:  0\n",
            "stl2.22 :  float64 -> numérico. || Missing values:  0\n",
            "stl2.23 :  float64 -> numérico. || Missing values:  0\n",
            "stl2.24 :  float64 -> numérico. || Missing values:  0\n",
            "stl2.25 :  float64 -> numérico. || Missing values:  0\n",
            "stl3.1 :  float64 -> numérico. || Missing values:  0\n",
            "stl3.2 :  float64 -> numérico. || Missing values:  0\n",
            "stl3.3 :  float64 -> numérico. || Missing values:  0\n",
            "stl3.4 :  float64 -> numérico. || Missing values:  0\n",
            "stl3.5 :  float64 -> numérico. || Missing values:  0\n",
            "stl3.6 :  float64 -> numérico. || Missing values:  0\n",
            "stl3.7 :  float64 -> numérico. || Missing values:  0\n",
            "stl3.8 :  float64 -> numérico. || Missing values:  0\n",
            "stl3.9 :  float64 -> numérico. || Missing values:  0\n",
            "stl3.10 :  float64 -> numérico. || Missing values:  0\n",
            "stl3.11 :  float64 -> numérico. || Missing values:  0\n",
            "stl3.12 :  float64 -> numérico. || Missing values:  0\n",
            "stl3.13 :  float64 -> numérico. || Missing values:  0\n",
            "stl3.14 :  float64 -> numérico. || Missing values:  0\n",
            "stl3.15 :  float64 -> numérico. || Missing values:  0\n",
            "stl3.16 :  float64 -> numérico. || Missing values:  0\n",
            "stl3.17 :  float64 -> numérico. || Missing values:  0\n",
            "stl3.18 :  float64 -> numérico. || Missing values:  0\n",
            "stl3.19 :  float64 -> numérico. || Missing values:  0\n",
            "stl3.20 :  float64 -> numérico. || Missing values:  0\n",
            "stl3.21 :  float64 -> numérico. || Missing values:  0\n",
            "stl3.22 :  float64 -> numérico. || Missing values:  0\n",
            "stl3.23 :  float64 -> numérico. || Missing values:  0\n",
            "stl3.24 :  float64 -> numérico. || Missing values:  0\n",
            "stl3.25 :  float64 -> numérico. || Missing values:  0\n",
            "iews.1 :  float64 -> numérico. || Missing values:  0\n",
            "iews.2 :  float64 -> numérico. || Missing values:  0\n",
            "iews.3 :  float64 -> numérico. || Missing values:  0\n",
            "iews.4 :  float64 -> numérico. || Missing values:  0\n",
            "iews.5 :  float64 -> numérico. || Missing values:  0\n",
            "iews.6 :  float64 -> numérico. || Missing values:  0\n",
            "iews.7 :  float64 -> numérico. || Missing values:  0\n",
            "iews.8 :  float64 -> numérico. || Missing values:  0\n",
            "iews.9 :  float64 -> numérico. || Missing values:  0\n",
            "iews.10 :  float64 -> numérico. || Missing values:  0\n",
            "iews.11 :  float64 -> numérico. || Missing values:  0\n",
            "iews.12 :  float64 -> numérico. || Missing values:  0\n",
            "iews.13 :  float64 -> numérico. || Missing values:  0\n",
            "iews.14 :  float64 -> numérico. || Missing values:  0\n",
            "iews.15 :  float64 -> numérico. || Missing values:  0\n",
            "iews.16 :  float64 -> numérico. || Missing values:  0\n",
            "iews.17 :  float64 -> numérico. || Missing values:  0\n",
            "iews.18 :  float64 -> numérico. || Missing values:  0\n",
            "iews.19 :  float64 -> numérico. || Missing values:  0\n",
            "iews.20 :  float64 -> numérico. || Missing values:  0\n",
            "iews.21 :  float64 -> numérico. || Missing values:  0\n",
            "iews.22 :  float64 -> numérico. || Missing values:  0\n",
            "iews.23 :  float64 -> numérico. || Missing values:  0\n",
            "iews.24 :  float64 -> numérico. || Missing values:  0\n",
            "iews.25 :  float64 -> numérico. || Missing values:  0\n",
            "inss.1 :  float64 -> numérico. || Missing values:  0\n",
            "inss.2 :  float64 -> numérico. || Missing values:  0\n",
            "inss.3 :  float64 -> numérico. || Missing values:  0\n",
            "inss.4 :  float64 -> numérico. || Missing values:  0\n",
            "inss.5 :  float64 -> numérico. || Missing values:  0\n",
            "inss.6 :  float64 -> numérico. || Missing values:  0\n",
            "inss.7 :  float64 -> numérico. || Missing values:  0\n",
            "inss.8 :  float64 -> numérico. || Missing values:  0\n",
            "inss.9 :  float64 -> numérico. || Missing values:  0\n",
            "inss.10 :  float64 -> numérico. || Missing values:  0\n",
            "inss.11 :  float64 -> numérico. || Missing values:  0\n",
            "inss.12 :  float64 -> numérico. || Missing values:  0\n",
            "inss.13 :  float64 -> numérico. || Missing values:  0\n",
            "inss.14 :  float64 -> numérico. || Missing values:  0\n",
            "inss.15 :  float64 -> numérico. || Missing values:  0\n",
            "inss.16 :  float64 -> numérico. || Missing values:  0\n",
            "inss.17 :  float64 -> numérico. || Missing values:  0\n",
            "inss.18 :  float64 -> numérico. || Missing values:  0\n",
            "inss.19 :  float64 -> numérico. || Missing values:  0\n",
            "inss.20 :  float64 -> numérico. || Missing values:  0\n",
            "inss.21 :  float64 -> numérico. || Missing values:  0\n",
            "inss.22 :  float64 -> numérico. || Missing values:  0\n",
            "inss.23 :  float64 -> numérico. || Missing values:  0\n",
            "inss.24 :  float64 -> numérico. || Missing values:  0\n",
            "inss.25 :  float64 -> numérico. || Missing values:  0\n",
            "stl4.1 :  float64 -> numérico. || Missing values:  0\n",
            "stl4.2 :  float64 -> numérico. || Missing values:  0\n",
            "stl4.3 :  float64 -> numérico. || Missing values:  0\n",
            "stl4.4 :  float64 -> numérico. || Missing values:  0\n",
            "stl4.5 :  float64 -> numérico. || Missing values:  0\n",
            "stl4.6 :  float64 -> numérico. || Missing values:  0\n",
            "stl4.7 :  float64 -> numérico. || Missing values:  0\n",
            "stl4.8 :  float64 -> numérico. || Missing values:  0\n",
            "stl4.9 :  float64 -> numérico. || Missing values:  0\n",
            "stl4.10 :  float64 -> numérico. || Missing values:  0\n",
            "stl4.11 :  float64 -> numérico. || Missing values:  0\n",
            "stl4.12 :  float64 -> numérico. || Missing values:  0\n",
            "stl4.13 :  float64 -> numérico. || Missing values:  0\n",
            "stl4.14 :  float64 -> numérico. || Missing values:  0\n",
            "stl4.15 :  float64 -> numérico. || Missing values:  0\n",
            "stl4.16 :  float64 -> numérico. || Missing values:  0\n",
            "stl4.17 :  float64 -> numérico. || Missing values:  0\n",
            "stl4.18 :  float64 -> numérico. || Missing values:  0\n",
            "stl4.19 :  float64 -> numérico. || Missing values:  0\n",
            "stl4.20 :  float64 -> numérico. || Missing values:  0\n",
            "stl4.21 :  float64 -> numérico. || Missing values:  0\n",
            "stl4.22 :  float64 -> numérico. || Missing values:  0\n",
            "stl4.23 :  float64 -> numérico. || Missing values:  0\n",
            "stl4.24 :  float64 -> numérico. || Missing values:  0\n",
            "stl4.25 :  float64 -> numérico. || Missing values:  0\n",
            "fsr.1 :  float64 -> numérico. || Missing values:  0\n",
            "fsr.2 :  float64 -> numérico. || Missing values:  0\n",
            "fsr.3 :  float64 -> numérico. || Missing values:  0\n",
            "fsr.4 :  float64 -> numérico. || Missing values:  0\n",
            "fsr.5 :  float64 -> numérico. || Missing values:  0\n",
            "fsr.6 :  float64 -> numérico. || Missing values:  0\n",
            "fsr.7 :  float64 -> numérico. || Missing values:  0\n",
            "fsr.8 :  float64 -> numérico. || Missing values:  0\n",
            "fsr.9 :  float64 -> numérico. || Missing values:  0\n",
            "fsr.10 :  float64 -> numérico. || Missing values:  0\n",
            "fsr.11 :  float64 -> numérico. || Missing values:  0\n",
            "fsr.12 :  float64 -> numérico. || Missing values:  0\n",
            "fsr.13 :  float64 -> numérico. || Missing values:  0\n",
            "fsr.14 :  float64 -> numérico. || Missing values:  0\n",
            "fsr.15 :  float64 -> numérico. || Missing values:  0\n",
            "fsr.16 :  float64 -> numérico. || Missing values:  0\n",
            "fsr.17 :  float64 -> numérico. || Missing values:  0\n",
            "fsr.18 :  float64 -> numérico. || Missing values:  0\n",
            "fsr.19 :  float64 -> numérico. || Missing values:  0\n",
            "fsr.20 :  float64 -> numérico. || Missing values:  0\n",
            "fsr.21 :  float64 -> numérico. || Missing values:  0\n",
            "fsr.22 :  float64 -> numérico. || Missing values:  0\n",
            "fsr.23 :  float64 -> numérico. || Missing values:  0\n",
            "fsr.24 :  float64 -> numérico. || Missing values:  0\n",
            "fsr.25 :  float64 -> numérico. || Missing values:  0\n",
            "flsr.1 :  float64 -> numérico. || Missing values:  0\n",
            "flsr.2 :  float64 -> numérico. || Missing values:  0\n",
            "flsr.3 :  float64 -> numérico. || Missing values:  0\n",
            "flsr.4 :  float64 -> numérico. || Missing values:  0\n",
            "flsr.5 :  float64 -> numérico. || Missing values:  0\n",
            "flsr.6 :  float64 -> numérico. || Missing values:  0\n",
            "flsr.7 :  float64 -> numérico. || Missing values:  0\n",
            "flsr.8 :  float64 -> numérico. || Missing values:  0\n",
            "flsr.9 :  float64 -> numérico. || Missing values:  0\n",
            "flsr.10 :  float64 -> numérico. || Missing values:  0\n",
            "flsr.11 :  float64 -> numérico. || Missing values:  0\n",
            "flsr.12 :  float64 -> numérico. || Missing values:  0\n",
            "flsr.13 :  float64 -> numérico. || Missing values:  0\n",
            "flsr.14 :  float64 -> numérico. || Missing values:  0\n",
            "flsr.15 :  float64 -> numérico. || Missing values:  0\n",
            "flsr.16 :  float64 -> numérico. || Missing values:  0\n",
            "flsr.17 :  float64 -> numérico. || Missing values:  0\n",
            "flsr.18 :  float64 -> numérico. || Missing values:  0\n",
            "flsr.19 :  float64 -> numérico. || Missing values:  0\n",
            "flsr.20 :  float64 -> numérico. || Missing values:  0\n",
            "flsr.21 :  float64 -> numérico. || Missing values:  0\n",
            "flsr.22 :  float64 -> numérico. || Missing values:  0\n",
            "flsr.23 :  float64 -> numérico. || Missing values:  0\n",
            "flsr.24 :  float64 -> numérico. || Missing values:  0\n",
            "flsr.25 :  float64 -> numérico. || Missing values:  0\n",
            "u100.1 :  float64 -> numérico. || Missing values:  0\n",
            "u100.2 :  float64 -> numérico. || Missing values:  0\n",
            "u100.3 :  float64 -> numérico. || Missing values:  0\n",
            "u100.4 :  float64 -> numérico. || Missing values:  0\n",
            "u100.5 :  float64 -> numérico. || Missing values:  0\n",
            "u100.6 :  float64 -> numérico. || Missing values:  0\n",
            "u100.7 :  float64 -> numérico. || Missing values:  0\n",
            "u100.8 :  float64 -> numérico. || Missing values:  0\n",
            "u100.9 :  float64 -> numérico. || Missing values:  0\n",
            "u100.10 :  float64 -> numérico. || Missing values:  0\n",
            "u100.11 :  float64 -> numérico. || Missing values:  0\n",
            "u100.12 :  float64 -> numérico. || Missing values:  0\n",
            "u100.13 :  float64 -> numérico. || Missing values:  0\n",
            "u100.14 :  float64 -> numérico. || Missing values:  0\n",
            "u100.15 :  float64 -> numérico. || Missing values:  0\n",
            "u100.16 :  float64 -> numérico. || Missing values:  0\n",
            "u100.17 :  float64 -> numérico. || Missing values:  0\n",
            "u100.18 :  float64 -> numérico. || Missing values:  0\n",
            "u100.19 :  float64 -> numérico. || Missing values:  0\n",
            "u100.20 :  float64 -> numérico. || Missing values:  0\n",
            "u100.21 :  float64 -> numérico. || Missing values:  0\n",
            "u100.22 :  float64 -> numérico. || Missing values:  0\n",
            "u100.23 :  float64 -> numérico. || Missing values:  0\n",
            "u100.24 :  float64 -> numérico. || Missing values:  0\n",
            "u100.25 :  float64 -> numérico. || Missing values:  0\n",
            "v100.1 :  float64 -> numérico. || Missing values:  0\n",
            "v100.2 :  float64 -> numérico. || Missing values:  0\n",
            "v100.3 :  float64 -> numérico. || Missing values:  0\n",
            "v100.4 :  float64 -> numérico. || Missing values:  0\n",
            "v100.5 :  float64 -> numérico. || Missing values:  0\n",
            "v100.6 :  float64 -> numérico. || Missing values:  0\n",
            "v100.7 :  float64 -> numérico. || Missing values:  0\n",
            "v100.8 :  float64 -> numérico. || Missing values:  0\n",
            "v100.9 :  float64 -> numérico. || Missing values:  0\n",
            "v100.10 :  float64 -> numérico. || Missing values:  0\n",
            "v100.11 :  float64 -> numérico. || Missing values:  0\n",
            "v100.12 :  float64 -> numérico. || Missing values:  0\n",
            "v100.13 :  float64 -> numérico. || Missing values:  0\n",
            "v100.14 :  float64 -> numérico. || Missing values:  0\n",
            "v100.15 :  float64 -> numérico. || Missing values:  0\n",
            "v100.16 :  float64 -> numérico. || Missing values:  0\n",
            "v100.17 :  float64 -> numérico. || Missing values:  0\n",
            "v100.18 :  float64 -> numérico. || Missing values:  0\n",
            "v100.19 :  float64 -> numérico. || Missing values:  0\n",
            "v100.20 :  float64 -> numérico. || Missing values:  0\n",
            "v100.21 :  float64 -> numérico. || Missing values:  0\n",
            "v100.22 :  float64 -> numérico. || Missing values:  0\n",
            "v100.23 :  float64 -> numérico. || Missing values:  0\n",
            "v100.24 :  float64 -> numérico. || Missing values:  0\n",
            "v100.25 :  float64 -> numérico. || Missing values:  0\n"
          ]
        }
      ],
      "source": [
        "variable_types = df.dtypes\n",
        "columns = df.columns\n",
        "missing_values = df.isnull().sum()\n",
        "print(\"Tipos de variables:\")\n",
        "for i in range(len(variable_types)):\n",
        "    if variable_types[i] in ['float64', 'int64']:\n",
        "        print(columns[i], \": \", variable_types[i], \"-> numérico. || Missing values: \", missing_values[i])\n",
        "    else:\n",
        "        print(columns[i], \": \", variable_types[i], \"-> categórico. || Missing values: \", missing_values[i])"
      ]
    },
    {
      "cell_type": "markdown",
      "metadata": {
        "id": "_DjICWOuCqf2"
      },
      "source": [
        "## Atributos duplicados, vacíos y constantes"
      ]
    },
    {
      "cell_type": "code",
      "execution_count": 6,
      "metadata": {
        "colab": {
          "base_uri": "https://localhost:8080/"
        },
        "id": "Xy3uag68CpwY",
        "outputId": "3cec22a9-4f33-436e-ec11-edbc1456d1e7"
      },
      "outputs": [
        {
          "output_type": "stream",
          "name": "stdout",
          "text": [
            "Columnas con valores faltantes:\n",
            "No hay columnas con valores faltantes\n",
            "Columnas constantes:\n",
            "No hay columnas constantes\n",
            "Filas duplicadas:  0\n",
            "Filas vacías:  0\n"
          ]
        }
      ],
      "source": [
        "# Mostrar columnas con valores faltantes\n",
        "print(\"Columnas con valores faltantes:\")\n",
        "if missing_values.sum() == 0:\n",
        "    print(\"No hay columnas con valores faltantes\")\n",
        "else:\n",
        "    for col in columns:\n",
        "        if missing_values[col] > 0:\n",
        "            print(col, \": \", missing_values[col])\n",
        "\n",
        "# Columnas constantes\n",
        "constant_columns = df.columns[df.nunique() == 1]\n",
        "print(\"Columnas constantes:\")\n",
        "if len(constant_columns) == 0:\n",
        "    print(\"No hay columnas constantes\")\n",
        "else:\n",
        "    for col in constant_columns:\n",
        "        print(col)\n",
        "\n",
        "# Filas duplicadas\n",
        "duplicated_rows = df.duplicated()\n",
        "print(\"Filas duplicadas: \", duplicated_rows.sum())\n",
        "\n",
        "# Filas vacías\n",
        "empty_rows = df.isnull().all(axis=1)\n",
        "print(\"Filas vacías: \", empty_rows.sum())"
      ]
    },
    {
      "cell_type": "markdown",
      "metadata": {
        "id": "ZNHbh8ZpC0d3"
      },
      "source": [
        "## Naturaleza del problema"
      ]
    },
    {
      "cell_type": "code",
      "execution_count": 7,
      "metadata": {
        "colab": {
          "base_uri": "https://localhost:8080/"
        },
        "id": "MOR_sz9mC0Gm",
        "outputId": "fcf28709-9696-4e17-9aeb-d7b8a69787ff"
      },
      "outputs": [
        {
          "output_type": "stream",
          "name": "stdout",
          "text": [
            "Naturaleza del problema: Problema de Regresión\n"
          ]
        }
      ],
      "source": [
        "problem_type = \"Problema de Regresión\" if df['energy'].dtype in ['float64', 'int64'] else \"Problema de Clasificación\"\n",
        "print(f\"Naturaleza del problema: {problem_type}\")"
      ]
    },
    {
      "cell_type": "markdown",
      "metadata": {
        "id": "wT5qcrrHDGHu"
      },
      "source": [
        "## Selección de columnas relevantes"
      ]
    },
    {
      "cell_type": "code",
      "execution_count": 8,
      "metadata": {
        "colab": {
          "base_uri": "https://localhost:8080/"
        },
        "id": "mD_4xbVNDEOu",
        "outputId": "c1d6635c-9461-4abb-dd66-38803d95cd3b"
      },
      "outputs": [
        {
          "output_type": "stream",
          "name": "stdout",
          "text": [
            "Columnas relevantes:\n",
            "Número de columnas relevantes:  24\n"
          ]
        }
      ],
      "source": [
        "# Eliminación de variables meteorológicas no correspondientes a la localización 13\n",
        "print(\"Columnas relevantes:\")\n",
        "relevant_columns = [col for col in df.columns if col.endswith(\".13\") or col in ['datetime', 'energy']]\n",
        "df_relevant = df[relevant_columns]\n",
        "print(\"Número de columnas relevantes: \", len(df_relevant.columns))"
      ]
    },
    {
      "cell_type": "markdown",
      "metadata": {
        "id": "ZJBqnXnvDLb0"
      },
      "source": [
        "## Análisis de la variable objetivo"
      ]
    },
    {
      "cell_type": "code",
      "execution_count": 9,
      "metadata": {
        "colab": {
          "base_uri": "https://localhost:8080/"
        },
        "id": "fGipvxw-DLAs",
        "outputId": "de30754d-9a7f-4e8d-ff3a-615cab96882b"
      },
      "outputs": [
        {
          "output_type": "stream",
          "name": "stdout",
          "text": [
            "Máximo de la columna 'energía': 2792.55\n",
            "Mínimo de la columna 'energía': 0.01\n",
            "Promedio de la columna 'energía': 693.126246840775\n"
          ]
        }
      ],
      "source": [
        "maximo = df_relevant['energy'].max()\n",
        "minimo = df_relevant['energy'].min()\n",
        "promedio = df_relevant['energy'].mean()\n",
        "\n",
        "print(\"Máximo de la columna 'energía':\", maximo)\n",
        "print(\"Mínimo de la columna 'energía':\", minimo)\n",
        "print(\"Promedio de la columna 'energía':\", promedio)"
      ]
    },
    {
      "cell_type": "code",
      "execution_count": 10,
      "metadata": {
        "colab": {
          "base_uri": "https://localhost:8080/"
        },
        "id": "_9BTOm8UiuuJ",
        "outputId": "4911c682-c9a1-44ce-8ef2-d35dd698a19d"
      },
      "outputs": [
        {
          "output_type": "stream",
          "name": "stdout",
          "text": [
            "<class 'pandas.core.frame.DataFrame'>\n",
            "RangeIndex: 4748 entries, 0 to 4747\n",
            "Data columns (total 24 columns):\n",
            " #   Column      Non-Null Count  Dtype  \n",
            "---  ------      --------------  -----  \n",
            " 0   datetime    4748 non-null   object \n",
            " 1   energy      4748 non-null   float64\n",
            " 2   p54.162.13  4748 non-null   float64\n",
            " 3   p55.162.13  4748 non-null   float64\n",
            " 4   cape.13     4748 non-null   float64\n",
            " 5   p59.162.13  4748 non-null   float64\n",
            " 6   lai_lv.13   4748 non-null   float64\n",
            " 7   lai_hv.13   4748 non-null   float64\n",
            " 8   u10n.13     4748 non-null   float64\n",
            " 9   v10n.13     4748 non-null   float64\n",
            " 10  sp.13       4748 non-null   float64\n",
            " 11  stl1.13     4748 non-null   float64\n",
            " 12  u10.13      4748 non-null   float64\n",
            " 13  v10.13      4748 non-null   float64\n",
            " 14  t2m.13      4748 non-null   float64\n",
            " 15  stl2.13     4748 non-null   float64\n",
            " 16  stl3.13     4748 non-null   float64\n",
            " 17  iews.13     4748 non-null   float64\n",
            " 18  inss.13     4748 non-null   float64\n",
            " 19  stl4.13     4748 non-null   float64\n",
            " 20  fsr.13      4748 non-null   float64\n",
            " 21  flsr.13     4748 non-null   float64\n",
            " 22  u100.13     4748 non-null   float64\n",
            " 23  v100.13     4748 non-null   float64\n",
            "dtypes: float64(23), object(1)\n",
            "memory usage: 890.4+ KB\n"
          ]
        }
      ],
      "source": [
        "df_relevant.info()"
      ]
    },
    {
      "cell_type": "markdown",
      "metadata": {
        "id": "UJBHQyAEDOuJ"
      },
      "source": [
        "## Renombrado de columnas"
      ]
    },
    {
      "cell_type": "code",
      "execution_count": 11,
      "metadata": {
        "id": "IuveWR5DDUD5"
      },
      "outputs": [],
      "source": [
        "df_relevant = df_relevant.rename(columns={\n",
        "    't2m.13': 'temp_2m',\n",
        "    'u10.13': 'wind_U_10m',\n",
        "    'v10.13': 'wind_V_10m',\n",
        "    'u100.13': 'wind_U_100m',\n",
        "    'v100.13': 'wind_V_100m',\n",
        "    'cape.13': 'convective_energy',\n",
        "    'flsr.13': 'log_surface_roughness_heat_forecast',\n",
        "    'fsr.13': 'surface_roughness_forecast',\n",
        "    'iews.13': 'eastward_turbulent_stress',\n",
        "    'inss.13': 'northward_turbulent_stress',\n",
        "    'lai_hv.13': 'lai_high_vegetation',\n",
        "    'lai_lv.13': 'lai_low_vegetation',\n",
        "    'u10n.13': 'neutral_wind_10m_U',\n",
        "    'v10n.13': 'neutral_wind_10m_V',\n",
        "    'stl1.13': 'soil_temp_level_1',\n",
        "    'stl2.13': 'soil_temp_level_2',\n",
        "    'stl3.13': 'soil_temp_level_3',\n",
        "    'stl4.13': 'soil_temp_level_4',\n",
        "    'sp.13': 'surface_pressure',\n",
        "    'p54.162.13': 'vertical_integral_temp',\n",
        "    'p59.162.13': 'vertical_integral_div_kinetic_energy',\n",
        "    'p55.162.13': 'vertical_integral_water_vapour',\n",
        "    'datetime': 'datetime',\n",
        "    'energy': 'energy'\n",
        "})"
      ]
    },
    {
      "cell_type": "markdown",
      "metadata": {
        "id": "EKoZc6VJDVQA"
      },
      "source": [
        "## Conversión de tiempo en formato fecha"
      ]
    },
    {
      "cell_type": "code",
      "execution_count": 12,
      "metadata": {
        "id": "iuuQrA6SDuc6"
      },
      "outputs": [],
      "source": [
        "df_relevant['datetime'] = pd.to_datetime(df_relevant['datetime'])\n",
        "\n",
        "df_relevant['year'] = df_relevant['datetime'].dt.year\n",
        "df_relevant['month'] = df_relevant['datetime'].dt.month\n",
        "df_relevant['day'] = df_relevant['datetime'].dt.day\n",
        "df_relevant['hour'] = df_relevant['datetime'].dt.hour"
      ]
    },
    {
      "cell_type": "markdown",
      "metadata": {
        "id": "ijODwbGSDv7e"
      },
      "source": [
        "## Días sin mediciones"
      ]
    },
    {
      "cell_type": "code",
      "execution_count": 13,
      "metadata": {
        "colab": {
          "base_uri": "https://localhost:8080/"
        },
        "id": "SpB7MAS2Dvut",
        "outputId": "eb668b45-e422-4d54-b565-b256594c737e"
      },
      "outputs": [
        {
          "output_type": "stream",
          "name": "stdout",
          "text": [
            "Days with no measurements:\n",
            "missing_dates\n",
            "   2005-06-12\n",
            "   2005-06-19\n",
            "   2005-12-22\n",
            "   2006-01-21\n",
            "   2006-01-22\n",
            "   2006-11-11\n",
            "   2006-12-24\n",
            "   2007-02-05\n",
            "   2007-03-12\n",
            "   2007-03-13\n",
            "   2007-03-14\n",
            "   2007-03-15\n",
            "   2007-03-16\n",
            "   2007-03-17\n",
            "   2007-03-18\n",
            "   2007-03-19\n",
            "   2007-03-20\n",
            "   2007-03-21\n",
            "   2007-03-22\n",
            "   2007-03-23\n",
            "   2007-03-24\n",
            "   2007-03-25\n",
            "   2007-03-26\n",
            "   2007-03-27\n",
            "   2007-03-28\n",
            "   2007-03-29\n",
            "   2007-03-30\n",
            "   2007-03-31\n",
            "   2007-04-01\n",
            "   2007-04-02\n",
            "   2007-04-03\n",
            "   2007-09-26\n",
            "   2007-09-27\n",
            "   2007-10-08\n",
            "   2007-12-15\n",
            "   2007-12-30\n",
            "   2008-02-10\n",
            "   2008-02-11\n",
            "   2008-02-26\n",
            "   2008-02-27\n",
            "   2008-02-28\n",
            "   2008-02-29\n",
            "   2008-03-01\n",
            "   2008-03-02\n",
            "   2008-03-03\n",
            "   2008-03-04\n",
            "   2008-03-05\n",
            "   2008-03-06\n",
            "   2008-03-07\n",
            "   2008-03-08\n",
            "   2008-03-09\n",
            "   2008-03-10\n",
            "   2008-03-11\n",
            "   2008-03-12\n",
            "   2008-03-13\n",
            "   2008-03-14\n",
            "   2008-03-15\n",
            "   2008-03-16\n",
            "   2008-03-17\n",
            "   2008-03-18\n",
            "   2008-03-19\n",
            "   2008-03-20\n",
            "   2008-03-21\n",
            "   2008-03-22\n",
            "   2008-03-23\n",
            "   2008-03-24\n",
            "   2008-03-25\n",
            "   2008-03-26\n",
            "   2008-03-27\n",
            "   2008-03-28\n",
            "   2008-03-29\n",
            "   2008-03-30\n",
            "   2008-03-31\n",
            "   2008-04-01\n",
            "   2008-04-02\n",
            "   2008-04-03\n",
            "   2008-04-04\n",
            "   2008-04-05\n",
            "   2008-04-06\n",
            "   2008-04-07\n",
            "   2008-04-08\n",
            "   2008-04-09\n",
            "   2008-04-10\n",
            "   2008-04-11\n",
            "   2008-04-12\n",
            "   2008-04-13\n",
            "   2008-04-14\n",
            "   2008-04-15\n",
            "   2008-04-16\n",
            "   2008-04-17\n",
            "   2008-04-18\n",
            "   2008-04-19\n",
            "   2008-04-20\n",
            "   2008-04-21\n",
            "   2008-04-22\n",
            "   2008-04-23\n",
            "   2008-04-24\n",
            "   2008-04-25\n",
            "   2008-04-26\n",
            "   2008-04-27\n",
            "   2008-04-28\n",
            "   2008-04-29\n",
            "   2008-04-30\n",
            "   2008-05-01\n",
            "   2008-05-02\n",
            "   2008-05-03\n",
            "   2008-05-04\n",
            "   2008-05-05\n",
            "   2008-05-06\n",
            "   2008-05-07\n",
            "   2008-05-08\n",
            "   2008-05-09\n",
            "   2008-05-10\n",
            "   2008-05-11\n",
            "   2008-05-12\n",
            "   2008-05-13\n",
            "   2008-05-14\n",
            "   2008-05-15\n",
            "   2008-05-16\n",
            "   2008-05-17\n",
            "   2008-05-18\n",
            "   2008-05-19\n",
            "   2008-05-20\n",
            "   2008-05-21\n",
            "   2008-05-22\n",
            "   2008-05-23\n",
            "   2008-05-24\n",
            "   2008-05-25\n",
            "   2008-05-26\n",
            "   2008-05-27\n",
            "   2008-05-28\n",
            "   2008-05-29\n",
            "   2008-05-30\n",
            "   2008-05-31\n",
            "   2008-06-01\n",
            "   2008-06-02\n",
            "   2008-06-03\n",
            "   2008-06-04\n",
            "   2008-06-05\n",
            "   2008-06-06\n",
            "   2008-06-07\n",
            "   2008-06-08\n",
            "   2008-06-09\n",
            "   2008-06-10\n",
            "   2008-06-11\n",
            "   2008-06-12\n",
            "   2008-06-13\n",
            "   2008-06-14\n",
            "   2008-06-15\n",
            "   2008-06-16\n",
            "   2008-06-17\n",
            "   2008-06-18\n",
            "   2008-06-19\n",
            "   2008-06-20\n",
            "   2008-06-21\n",
            "   2008-06-22\n",
            "   2008-06-23\n",
            "   2008-06-24\n",
            "   2008-06-25\n",
            "   2008-06-26\n",
            "   2008-06-27\n",
            "   2008-06-28\n",
            "   2008-06-29\n",
            "   2008-06-30\n",
            "   2008-07-01\n",
            "   2008-07-02\n",
            "   2008-07-03\n",
            "   2008-07-04\n",
            "   2008-07-05\n",
            "   2008-07-06\n",
            "   2008-07-07\n",
            "   2008-07-08\n",
            "   2008-07-09\n",
            "   2008-07-10\n",
            "   2008-07-11\n",
            "   2008-07-12\n",
            "   2008-07-13\n",
            "   2008-07-14\n",
            "   2008-07-15\n",
            "   2008-07-16\n",
            "   2008-07-17\n",
            "   2008-07-18\n",
            "   2008-07-19\n",
            "   2008-07-20\n",
            "   2008-07-21\n",
            "   2008-07-22\n",
            "   2008-07-23\n",
            "   2008-07-24\n",
            "   2008-07-25\n",
            "   2008-07-26\n",
            "   2008-07-27\n",
            "   2008-07-28\n",
            "   2008-07-29\n",
            "   2008-07-30\n",
            "   2008-07-31\n",
            "   2008-08-01\n",
            "   2008-08-02\n",
            "   2008-08-03\n",
            "   2008-08-04\n",
            "   2008-08-05\n",
            "   2008-08-06\n",
            "   2008-08-07\n",
            "   2008-08-08\n",
            "   2008-08-09\n",
            "   2008-08-10\n",
            "   2008-08-11\n",
            "   2008-08-12\n",
            "   2008-08-13\n",
            "   2008-08-14\n",
            "   2008-08-15\n",
            "   2008-08-16\n",
            "   2008-08-17\n",
            "   2008-08-18\n",
            "   2008-08-19\n",
            "   2008-08-20\n",
            "   2008-08-21\n",
            "   2008-08-22\n",
            "   2008-08-23\n",
            "   2008-08-24\n",
            "   2008-08-25\n",
            "   2008-08-26\n",
            "   2008-08-27\n",
            "   2008-08-28\n",
            "   2008-08-29\n",
            "   2008-08-30\n",
            "   2008-08-31\n",
            "   2008-09-01\n",
            "   2008-09-02\n",
            "   2008-09-03\n",
            "   2008-09-04\n",
            "   2008-09-05\n",
            "   2008-09-06\n",
            "   2008-09-07\n",
            "   2008-09-08\n",
            "   2008-09-09\n",
            "   2008-09-10\n",
            "   2008-09-11\n",
            "   2008-09-12\n",
            "   2008-09-13\n",
            "   2008-09-14\n",
            "   2008-09-15\n",
            "   2008-09-16\n",
            "   2008-09-17\n",
            "   2008-09-18\n",
            "   2008-09-19\n",
            "   2008-09-20\n",
            "   2008-09-21\n",
            "   2008-09-22\n",
            "   2008-09-23\n",
            "   2008-09-24\n",
            "   2008-09-25\n",
            "   2008-09-26\n",
            "   2008-09-27\n",
            "   2008-09-28\n",
            "   2008-09-29\n",
            "   2008-09-30\n",
            "   2008-10-01\n",
            "   2008-10-02\n",
            "   2008-10-03\n",
            "   2008-10-04\n",
            "   2008-10-05\n",
            "   2008-10-06\n",
            "   2008-10-07\n",
            "   2008-10-08\n",
            "   2008-10-09\n",
            "   2008-10-10\n",
            "   2008-10-11\n",
            "   2008-10-12\n",
            "   2008-10-13\n",
            "   2008-10-14\n",
            "   2008-10-15\n",
            "   2008-10-16\n",
            "   2008-10-17\n",
            "   2008-10-18\n",
            "   2008-10-19\n",
            "   2008-10-20\n",
            "   2008-10-21\n",
            "   2008-10-22\n",
            "   2008-10-23\n",
            "   2008-10-24\n",
            "   2008-10-25\n",
            "   2008-10-26\n",
            "   2008-10-27\n",
            "   2008-10-28\n",
            "   2008-10-29\n",
            "   2008-10-30\n",
            "   2008-10-31\n",
            "   2008-11-01\n",
            "   2008-11-02\n",
            "   2008-11-03\n",
            "   2008-11-04\n",
            "   2008-11-05\n",
            "   2008-11-06\n",
            "   2008-11-07\n",
            "   2008-11-08\n",
            "   2008-11-09\n",
            "   2008-11-10\n",
            "   2008-11-11\n",
            "   2008-11-12\n",
            "   2008-11-13\n",
            "   2008-11-14\n",
            "   2008-11-15\n",
            "   2008-11-16\n",
            "   2008-11-17\n",
            "   2008-11-18\n",
            "   2008-11-19\n",
            "   2008-11-20\n",
            "   2008-11-21\n",
            "   2008-11-22\n",
            "   2008-11-23\n",
            "   2008-11-24\n",
            "   2008-11-25\n",
            "   2008-11-26\n",
            "   2008-11-27\n",
            "   2008-11-28\n",
            "   2008-11-29\n",
            "   2008-11-30\n",
            "   2008-12-01\n",
            "   2008-12-02\n",
            "   2008-12-03\n",
            "   2008-12-04\n",
            "   2008-12-05\n",
            "   2008-12-06\n",
            "   2008-12-07\n",
            "   2008-12-08\n",
            "   2008-12-09\n",
            "   2008-12-10\n",
            "   2008-12-11\n",
            "   2008-12-12\n",
            "   2008-12-13\n",
            "   2008-12-14\n",
            "   2008-12-15\n",
            "   2008-12-16\n",
            "   2008-12-17\n",
            "   2008-12-18\n",
            "   2008-12-19\n",
            "   2008-12-20\n",
            "   2008-12-21\n",
            "   2008-12-22\n",
            "   2008-12-23\n",
            "   2008-12-24\n",
            "   2008-12-25\n",
            "   2008-12-26\n",
            "   2008-12-27\n",
            "   2008-12-28\n",
            "   2008-12-29\n",
            "   2008-12-30\n",
            "   2008-12-31\n",
            "   2009-01-01\n",
            "   2009-01-02\n",
            "   2009-01-03\n",
            "   2009-01-04\n",
            "   2009-01-05\n",
            "   2009-01-06\n",
            "   2009-01-07\n",
            "   2009-01-08\n",
            "   2009-01-09\n",
            "   2009-01-10\n",
            "   2009-01-11\n",
            "   2009-01-12\n",
            "   2009-01-13\n",
            "   2009-01-14\n",
            "   2009-01-15\n",
            "   2009-01-16\n",
            "   2009-01-17\n",
            "   2009-01-18\n",
            "   2009-01-19\n",
            "   2009-01-20\n",
            "   2009-01-21\n",
            "   2009-01-22\n",
            "   2009-01-23\n",
            "   2009-01-24\n",
            "   2009-01-25\n",
            "   2009-01-26\n",
            "   2009-01-27\n",
            "   2009-01-28\n",
            "   2009-01-29\n",
            "   2009-01-30\n",
            "   2009-01-31\n",
            "   2009-02-01\n",
            "   2009-02-02\n",
            "   2009-02-03\n",
            "   2009-02-04\n",
            "   2009-02-05\n",
            "   2009-02-06\n",
            "   2009-02-07\n",
            "   2009-02-08\n",
            "   2009-02-09\n",
            "   2009-02-10\n",
            "   2009-02-11\n",
            "   2009-02-12\n",
            "   2009-02-13\n",
            "   2009-02-14\n",
            "   2009-02-15\n",
            "   2009-02-16\n",
            "   2009-02-17\n",
            "   2009-02-18\n",
            "   2009-02-19\n",
            "   2009-02-20\n",
            "   2009-02-21\n",
            "   2009-02-22\n",
            "   2009-02-23\n",
            "   2009-02-24\n",
            "   2009-02-25\n",
            "   2009-02-26\n",
            "   2009-02-27\n",
            "   2009-02-28\n",
            "   2009-03-01\n",
            "   2009-03-02\n",
            "   2009-03-03\n",
            "   2009-03-04\n",
            "   2009-03-10\n",
            "   2009-03-11\n",
            "   2009-03-12\n",
            "   2009-03-13\n",
            "   2009-03-14\n",
            "   2009-03-15\n",
            "   2009-03-16\n",
            "   2009-03-17\n",
            "   2009-03-18\n",
            "   2009-03-19\n",
            "   2009-03-20\n",
            "   2009-03-21\n",
            "   2009-03-22\n",
            "   2009-03-23\n",
            "   2009-03-24\n",
            "   2009-03-25\n",
            "   2009-06-04\n",
            "   2009-06-12\n",
            "   2009-06-13\n",
            "   2009-06-14\n",
            "   2009-06-15\n",
            "   2009-06-16\n",
            "   2009-06-17\n",
            "   2009-06-18\n",
            "   2009-08-16\n",
            "   2009-09-25\n",
            "   2009-09-26\n",
            "   2009-09-28\n",
            "   2009-10-25\n",
            "Total:  440\n"
          ]
        }
      ],
      "source": [
        "# Find the range of dates\n",
        "min_date = df_relevant['datetime'].min()\n",
        "max_date = df_relevant['datetime'].max()\n",
        "\n",
        "# Extract unique dates from the datetime column\n",
        "unique_dates_with_measurements = df_relevant['datetime'].dt.date.unique()\n",
        "\n",
        "# Generate a range of dates within the specified range\n",
        "date_range = pd.date_range(min_date, max_date, freq='D')\n",
        "\n",
        "# Identify the missing dates\n",
        "missing_dates = set(date_range.date) - set(unique_dates_with_measurements)\n",
        "\n",
        "# Convert missing dates to DataFrame\n",
        "missing_dates_df = pd.DataFrame({'missing_dates': list(missing_dates)})\n",
        "\n",
        "# Sort the DataFrame by 'missing_dates' column\n",
        "missing_dates_df['missing_dates'] = pd.to_datetime(missing_dates_df['missing_dates'])\n",
        "missing_dates_df = missing_dates_df.sort_values(by='missing_dates')\n",
        "\n",
        "# Display the missing dates\n",
        "print(\"Days with no measurements:\")\n",
        "print(missing_dates_df.to_string(index=False))\n",
        "print(\"Total: \", len(missing_dates_df))"
      ]
    },
    {
      "cell_type": "markdown",
      "metadata": {
        "id": "4Ge0NgeoD010"
      },
      "source": [
        "## Meses sin mediciones"
      ]
    },
    {
      "cell_type": "markdown",
      "metadata": {
        "id": "xyBi8X2hD3_s"
      },
      "source": []
    },
    {
      "cell_type": "code",
      "execution_count": 14,
      "metadata": {
        "colab": {
          "base_uri": "https://localhost:8080/"
        },
        "id": "Q1_In3S5D32D",
        "outputId": "72372b89-d022-4e3f-8f30-9f113813f79c"
      },
      "outputs": [
        {
          "output_type": "stream",
          "name": "stdout",
          "text": [
            "Months with no measurements:\n",
            "missing_months\n",
            "       2008-03\n",
            "       2008-04\n",
            "       2008-05\n",
            "       2008-06\n",
            "       2008-07\n",
            "       2008-08\n",
            "       2008-09\n",
            "       2008-10\n",
            "       2008-11\n",
            "       2008-12\n",
            "       2009-01\n",
            "       2009-02\n",
            "Total:  12\n"
          ]
        }
      ],
      "source": [
        "# Find the range of months\n",
        "min_month = df_relevant['datetime'].min().to_period('M')\n",
        "max_month = df_relevant['datetime'].max().to_period('M')\n",
        "\n",
        "# Extract unique months from the datetime column\n",
        "unique_months_with_measurements = df_relevant['datetime'].dt.to_period('M').unique()\n",
        "\n",
        "# Generate a range of months within the specified range\n",
        "month_range = pd.period_range(min_month, max_month, freq='M')\n",
        "\n",
        "# Identify the missing months\n",
        "missing_months = set(month_range) - set(unique_months_with_measurements)\n",
        "\n",
        "# Convert missing months to DataFrame\n",
        "missing_months_df = pd.DataFrame({'missing_months': list(missing_months)})\n",
        "\n",
        "# Sort the DataFrame by 'missing_months' column\n",
        "missing_months_df = missing_months_df.sort_values(by='missing_months')\n",
        "\n",
        "# Display the missing months\n",
        "print(\"Months with no measurements:\")\n",
        "print(missing_months_df.to_string(index=False))\n",
        "print(\"Total: \", len(missing_months_df))"
      ]
    },
    {
      "cell_type": "markdown",
      "metadata": {
        "id": "uWriJ-4XD4-F"
      },
      "source": [
        "## Gráficos"
      ]
    },
    {
      "cell_type": "markdown",
      "metadata": {
        "id": "731RLU7jD7on"
      },
      "source": [
        "### Días sin mediciones - Raw data\n",
        "\n"
      ]
    },
    {
      "cell_type": "code",
      "execution_count": 15,
      "metadata": {
        "colab": {
          "base_uri": "https://localhost:8080/",
          "height": 573
        },
        "id": "2wEf8OgCEAze",
        "outputId": "512ed807-4a0a-4d4a-dee7-3f37a5433367"
      },
      "outputs": [
        {
          "output_type": "display_data",
          "data": {
            "text/plain": [
              "<Figure size 1200x600 with 1 Axes>"
            ],
            "image/png": "[encoded data removed]"
          },
          "metadata": {}
        }
      ],
      "source": [
        "sns.set(color_codes=True)\n",
        "sns.set(style=\"whitegrid\")\n",
        "measurements_per_day = df_relevant.groupby(df_relevant['datetime'].dt.date).size().reset_index(name='measurement_count')\n",
        "# Create a continuous date range spanning the entire period\n",
        "full_date_range = pd.date_range(start=measurements_per_day['datetime'].min(), end=measurements_per_day['datetime'].max(), freq='D')\n",
        "\n",
        "# Convert the \"datetime\" column in the original DataFrame to datetime data type\n",
        "measurements_per_day['datetime'] = pd.to_datetime(measurements_per_day['datetime'])\n",
        "\n",
        "# Merge with the actual data and fill missing values with 0\n",
        "measurements_per_day = pd.DataFrame({'datetime': full_date_range}).merge(measurements_per_day, on='datetime', how='left').fillna(0)\n",
        "\n",
        "# Plot the raw data\n",
        "plt.figure(figsize=(12, 6))\n",
        "sns.lineplot(x='datetime', y='measurement_count', data=measurements_per_day, color='blue', label='Raw Data')\n",
        "\n",
        "# Adding labels and title\n",
        "plt.title('Number of Measurements per Day (Raw Data)')\n",
        "plt.xlabel('Date')\n",
        "plt.ylabel('Number of Measurements')\n",
        "\n",
        "plt.legend()\n",
        "plt.show()"
      ]
    },
    {
      "cell_type": "markdown",
      "metadata": {
        "id": "9TDNkfiKESBE"
      },
      "source": [
        "### Días sin mediciones - Smoothed data\n"
      ]
    },
    {
      "cell_type": "code",
      "execution_count": 16,
      "metadata": {
        "colab": {
          "base_uri": "https://localhost:8080/",
          "height": 573
        },
        "id": "NEy3y9ErETzC",
        "outputId": "cabf5ca7-64c2-4b0a-f3a7-96fea9b2fdf1"
      },
      "outputs": [
        {
          "output_type": "display_data",
          "data": {
            "text/plain": [
              "<Figure size 1200x600 with 1 Axes>"
            ],
            "image/png": "[encoded data removed]"
          },
          "metadata": {}
        }
      ],
      "source": [
        "# Smooth the data with a rolling average\n",
        "window_size = 7  # You can adjust the window size based on your preference\n",
        "measurements_per_day['measurement_count_smoothed'] = measurements_per_day['measurement_count'].rolling(window=window_size).mean()\n",
        "\n",
        "# Plot the smoothed line using Seaborn\n",
        "plt.figure(figsize=(12, 6))\n",
        "sns.lineplot(x='datetime', y='measurement_count_smoothed', data=measurements_per_day, color='blue', label='Smoothed Line')\n",
        "\n",
        "# Adding labels and title\n",
        "plt.title('Number of Measurements per Day (Smoothed)')\n",
        "plt.xlabel('Date')\n",
        "plt.ylabel('Number of Measurements')\n",
        "\n",
        "plt.legend()\n",
        "plt.show()"
      ]
    },
    {
      "cell_type": "markdown",
      "metadata": {
        "id": "xFyuGsQGExEK"
      },
      "source": [
        "### Evolución de la energía en el tiempo"
      ]
    },
    {
      "cell_type": "code",
      "execution_count": 17,
      "metadata": {
        "colab": {
          "base_uri": "https://localhost:8080/",
          "height": 643
        },
        "id": "HT9ADQBDEw7A",
        "outputId": "7584acd9-83e7-4748-bbfe-57d1518699a3"
      },
      "outputs": [
        {
          "output_type": "stream",
          "name": "stderr",
          "text": [
            "<ipython-input-17-25d0483b57f6>:19: MatplotlibDeprecationWarning: The seaborn styles shipped by Matplotlib are deprecated since 3.6, as they no longer correspond to the styles shipped by seaborn. However, they will remain available as 'seaborn-v0_8-<style>'. Alternatively, directly use the seaborn API instead.\n",
            "  plt.style.use('seaborn-darkgrid')\n"
          ]
        },
        {
          "output_type": "display_data",
          "data": {
            "text/plain": [
              "<Figure size 1200x600 with 1 Axes>"
            ],
            "image/png": "[encoded data removed]"
          },
          "metadata": {}
        }
      ],
      "source": [
        "import matplotlib.dates as mdates\n",
        "\n",
        "# Plotting the energy over time with each day on the x-axis and yearly ticks\n",
        "plt.figure(figsize=(12, 6))\n",
        "plt.plot(df_relevant.index, df_relevant['energy'], color='green', linestyle='-', linewidth=1)\n",
        "plt.title('Energy Over Time')\n",
        "plt.xlabel('Date')\n",
        "plt.ylabel('Energy')\n",
        "plt.grid(True)\n",
        "\n",
        "# Set the x-axis ticks to display only the years\n",
        "plt.gca().xaxis.set_major_locator(mdates.YearLocator())\n",
        "plt.gca().xaxis.set_major_formatter(mdates.DateFormatter('%Y'))\n",
        "\n",
        "# Rotate the x-axis labels for better readability\n",
        "plt.xticks(rotation=45)\n",
        "\n",
        "# Adjust plot style\n",
        "plt.style.use('seaborn-darkgrid')\n",
        "\n",
        "plt.show()\n",
        "\n",
        "\n"
      ]
    },
    {
      "cell_type": "markdown",
      "metadata": {
        "id": "g6U0wAd9GlFi"
      },
      "source": [
        "### Evolución de la energía durante un año (2017)\n",
        "Se calcula la media de energía para cada día para mostrar un gráfico más suave y comprensible"
      ]
    },
    {
      "cell_type": "code",
      "execution_count": 18,
      "metadata": {
        "colab": {
          "base_uri": "https://localhost:8080/",
          "height": 631
        },
        "id": "iItRIu-hGr5D",
        "outputId": "fc0f873c-3fb6-41eb-a1bb-9d6e8ef881c2"
      },
      "outputs": [
        {
          "output_type": "stream",
          "name": "stderr",
          "text": [
            "<ipython-input-18-5446a20db8d4>:26: MatplotlibDeprecationWarning: The seaborn styles shipped by Matplotlib are deprecated since 3.6, as they no longer correspond to the styles shipped by seaborn. However, they will remain available as 'seaborn-v0_8-<style>'. Alternatively, directly use the seaborn API instead.\n",
            "  plt.style.use('seaborn-darkgrid')\n"
          ]
        },
        {
          "output_type": "display_data",
          "data": {
            "text/plain": [
              "<Figure size 1200x600 with 1 Axes>"
            ],
            "image/png": "[encoded data removed]"
          },
          "metadata": {}
        }
      ],
      "source": [
        "# Filter the data for the year 2007\n",
        "df_2007 = df_relevant[df_relevant['year'] == 2007]\n",
        "\n",
        "# Set 'datetime' column as index\n",
        "df_2007.set_index('datetime', inplace=True)\n",
        "\n",
        "# Resample the data to get the daily average energy measurement for each day of the year\n",
        "df_2007_daily_avg = df_2007.resample('D').mean()\n",
        "\n",
        "# Plotting the daily average energy over time\n",
        "plt.figure(figsize=(12, 6))\n",
        "plt.plot(df_2007_daily_avg.index, df_2007_daily_avg['energy'], color='green', linestyle='-', linewidth=1)\n",
        "plt.title('Daily Average Energy Measurements in 2007')\n",
        "plt.xlabel('Date')\n",
        "plt.ylabel('Average Energy')\n",
        "plt.grid(True)\n",
        "\n",
        "# Set the x-axis ticks to display only the months\n",
        "plt.gca().xaxis.set_major_locator(mdates.MonthLocator())\n",
        "plt.gca().xaxis.set_major_formatter(mdates.DateFormatter('%b'))\n",
        "\n",
        "# Rotate the x-axis labels for better readability\n",
        "plt.xticks(rotation=45)\n",
        "\n",
        "# Adjust plot style\n",
        "plt.style.use('seaborn-darkgrid')\n",
        "\n",
        "plt.show()\n"
      ]
    },
    {
      "cell_type": "markdown",
      "metadata": {
        "id": "-9ExnfK4M1Hx"
      },
      "source": [
        "# Evaluación *outer*, *inner* y métrica\n",
        "Debido a que nos encontramos frente a una serie temporal, hemos decidido usar TimeSeriesSplit para llevar a cabo tanto la outer como la inner evaluation.\n",
        "Para el outer se usarán 5 splits y para el inner 3, por ser éste el estándar de la industria.\n",
        "La evaluación outer se utiliza para estimar el rendimiento futuro del modelo en datos no vistos, mientras que la inner se enfoca en el ajuste de hiperparámetros y la comparación de modelos.\n",
        "\n",
        "La métrica que se va a usar es el rmse ya que nos parece la métrica más fácil de interpretar al estar en las mismas unidades que la variable objetivo."
      ]
    },
    {
      "cell_type": "markdown",
      "metadata": {
        "id": "LdbpPNFYGc1A"
      },
      "source": [
        "# Selección de escalador\n",
        "Inner o outer??"
      ]
    },
    {
      "cell_type": "code",
      "execution_count": 19,
      "metadata": {
        "colab": {
          "base_uri": "https://localhost:8080/"
        },
        "id": "nG6xkE6TGca4",
        "outputId": "e37597b5-6204-4f73-dba1-3db08af2a941"
      },
      "outputs": [
        {
          "output_type": "stream",
          "name": "stdout",
          "text": [
            "Para MinMaxScaler, la media de rmse es:  545.1412378487257\n",
            "Para Standard, la media de rmse es:  479.37296174076965\n",
            "Para Robust, la media de rmse es:  461.2175957436966\n"
          ]
        }
      ],
      "source": [
        "inner_cv = TimeSeriesSplit(n_splits=3)\n",
        "df_relevant = df_relevant.drop(columns=['datetime']) # si quitamos esto estalla por qué??\n",
        "\n",
        "X,y = df_relevant.drop(columns=['energy']),df_relevant['energy']\n",
        "\n",
        "scores = {}\n",
        "#Min max\n",
        "pipeline_min_max = Pipeline([\n",
        "        ('scaler', MinMaxScaler()),\n",
        "        ('knn', neighbors.KNeighborsRegressor())\n",
        "    ])\n",
        "\n",
        "scores_min_max = cross_val_score(pipeline_min_max,X,y,cv = inner_cv,scoring=\"neg_root_mean_squared_error\")\n",
        "scores[\"MinMaxScaler\"] = -np.mean(scores_min_max)\n",
        "\n",
        "#Standard\n",
        "pipeline_standard = Pipeline([\n",
        "    ('scaler', StandardScaler()),\n",
        "    ('knn', neighbors.KNeighborsRegressor())\n",
        "])\n",
        "\n",
        "scores_std = cross_val_score(pipeline_standard,X,y,cv = inner_cv,scoring=\"neg_root_mean_squared_error\")\n",
        "scores[\"StandardScaler\"] = -np.mean(scores_std)\n",
        "\n",
        "#Robust\n",
        "pipeline_robust = Pipeline([\n",
        "    ('scaler', RobustScaler()),\n",
        "    ('knn', neighbors.KNeighborsRegressor())\n",
        "])\n",
        "\n",
        "scores_robust = cross_val_score(pipeline_robust,X,y,cv = inner_cv,scoring=\"neg_root_mean_squared_error\")\n",
        "scores[\"RobustScaler\"] = -np.mean(scores_robust)\n",
        "\n",
        "\n",
        "print(\"Para MinMaxScaler, la media de rmse es: \",scores[\"MinMaxScaler\"])\n",
        "print(\"Para Standard, la media de rmse es: \",scores[\"StandardScaler\"])\n",
        "print(\"Para Robust, la media de rmse es: \",scores[\"RobustScaler\"])\n"
      ]
    },
    {
      "cell_type": "markdown",
      "metadata": {
        "id": "Dr5-J8l6Obax"
      },
      "source": [
        "La media más baja para el rmse es la del Robust scaler por lo que usaremos ese escalador cuando usemos KNN regressor.\n"
      ]
    },
    {
      "cell_type": "markdown",
      "metadata": {
        "id": "kXRkIOXYOf0a"
      },
      "source": [
        "# Modelos"
      ]
    },
    {
      "cell_type": "markdown",
      "metadata": {
        "id": "VdByOum-Ojm3"
      },
      "source": [
        "## Hiperparámetros por omisión\n",
        "\n",
        "INNERS O OUTERS???\n",
        "\n"
      ]
    },
    {
      "cell_type": "markdown",
      "metadata": {
        "id": "eaTpLjiJOoXo"
      },
      "source": [
        "### KNN"
      ]
    },
    {
      "cell_type": "code",
      "execution_count": 20,
      "metadata": {
        "colab": {
          "base_uri": "https://localhost:8080/"
        },
        "id": "waip75trOcwC",
        "outputId": "73822147-a927-4d41-b423-8d46506725ca"
      },
      "outputs": [
        {
          "output_type": "stream",
          "name": "stdout",
          "text": [
            "Estimación de rendimiento de KNN con RobustScaler: 461.2175957436966\n"
          ]
        }
      ],
      "source": [
        "# KNN con RobustScaler\n",
        "pipeline_KNN = Pipeline([\n",
        "    ('scaler', RobustScaler()),\n",
        "    ('knn', neighbors.KNeighborsRegressor())\n",
        "])\n",
        "scores_KNN_hpo = cross_val_score(pipeline_KNN, X, y, cv=inner_cv, scoring=\"neg_root_mean_squared_error\")\n",
        "score_KNN = -np.mean(scores_KNN_hpo)\n",
        "\n",
        "print(\"Estimación de rendimiento de KNN con RobustScaler:\", score_KNN)"
      ]
    },
    {
      "cell_type": "markdown",
      "metadata": {
        "id": "2UysH02xOyTF"
      },
      "source": [
        "### Decission Tree"
      ]
    },
    {
      "cell_type": "code",
      "execution_count": 21,
      "metadata": {
        "colab": {
          "base_uri": "https://localhost:8080/"
        },
        "id": "mtuHhY5GO2P0",
        "outputId": "4ef25db5-d91c-4566-d491-beebb68ad8f4"
      },
      "outputs": [
        {
          "output_type": "stream",
          "name": "stdout",
          "text": [
            "Estimación de rendimiento de Decision tree: 524.528686580497\n"
          ]
        }
      ],
      "source": [
        "pipeline_Dec_tree = Pipeline([\n",
        "    ('decision_tree', DecisionTreeRegressor())\n",
        "])\n",
        "scores_Dec_tree_hpo = cross_val_score(pipeline_Dec_tree, X, y, cv=inner_cv, scoring=\"neg_root_mean_squared_error\")\n",
        "score_Dec_tree = -np.mean(scores_Dec_tree_hpo)\n",
        "\n",
        "print(\"Estimación de rendimiento de Decision tree:\", score_Dec_tree)"
      ]
    },
    {
      "cell_type": "markdown",
      "metadata": {
        "id": "XWydmq3AUTNI"
      },
      "source": [
        "### Regresión lineal (normal)"
      ]
    },
    {
      "cell_type": "code",
      "execution_count": 22,
      "metadata": {
        "colab": {
          "base_uri": "https://localhost:8080/"
        },
        "id": "-N7mk-g3UP8K",
        "outputId": "5c7189b1-1748-4d2b-ec0d-018bed059dc6"
      },
      "outputs": [
        {
          "output_type": "stream",
          "name": "stdout",
          "text": [
            "Estimación de rendimiento de Linear Regression con RobustScaler: 565.4292531898157\n"
          ]
        }
      ],
      "source": [
        "from sklearn.linear_model import LinearRegression\n",
        "\n",
        "pipeline_lRegr = Pipeline([\n",
        "    ('scaler', RobustScaler()),  # RobustScaler\n",
        "    ('linear_regression', LinearRegression())  # Linear Regression model\n",
        "])\n",
        "\n",
        "scores_lRegr_hpo = cross_val_score(pipeline_lRegr, X, y, cv=inner_cv, scoring=\"neg_root_mean_squared_error\")\n",
        "scores_lRegr = -np.mean(scores_lRegr_hpo)\n",
        "\n",
        "print(\"Estimación de rendimiento de Linear Regression con RobustScaler:\", scores_lRegr)"
      ]
    },
    {
      "cell_type": "markdown",
      "metadata": {
        "id": "NIr8atY5s2hK"
      },
      "source": [
        "### Regresión lineal (variante Lasso)"
      ]
    },
    {
      "cell_type": "code",
      "execution_count": 23,
      "metadata": {
        "colab": {
          "base_uri": "https://localhost:8080/"
        },
        "id": "wHQdC211s5Zb",
        "outputId": "f2c2efc2-8db4-4907-e270-d6f4aebdac72"
      },
      "outputs": [
        {
          "output_type": "stream",
          "name": "stderr",
          "text": [
            "/usr/local/lib/python3.10/dist-packages/sklearn/linear_model/_coordinate_descent.py:631: ConvergenceWarning: Objective did not converge. You might want to increase the number of iterations, check the scale of the features or consider increasing regularisation. Duality gap: 2.798e+05, tolerance: 5.147e+04\n",
            "  model = cd_fast.enet_coordinate_descent(\n"
          ]
        },
        {
          "output_type": "stream",
          "name": "stdout",
          "text": [
            "Estimación de rendimiento de Linear Regression con RobustScaler: 563.3518625298816\n"
          ]
        }
      ],
      "source": [
        "from sklearn.linear_model import Lasso\n",
        "\n",
        "pipeline_lasso = Pipeline([\n",
        "    ('scaler', RobustScaler()),  # RobustScaler\n",
        "    ('lasso', Lasso())  # Lasso Regression model\n",
        "])\n",
        "\n",
        "scores_lasso_hpo = cross_val_score(pipeline_lasso, X, y, cv=inner_cv, scoring=\"neg_root_mean_squared_error\")\n",
        "scores_lasso = -np.mean(scores_lasso_hpo)\n",
        "\n",
        "print(\"Estimación de rendimiento de Linear Regression con RobustScaler:\", scores_lasso)"
      ]
    },
    {
      "cell_type": "markdown",
      "metadata": {
        "id": "oq6vfW2Itdfj"
      },
      "source": [
        "### Regresión lineal (variante Ridge)"
      ]
    },
    {
      "cell_type": "code",
      "execution_count": 24,
      "metadata": {
        "colab": {
          "base_uri": "https://localhost:8080/"
        },
        "id": "LTYSgGVMtf9A",
        "outputId": "b1608e64-3c7c-442e-9fb2-965f4ca40e62"
      },
      "outputs": [
        {
          "output_type": "stream",
          "name": "stdout",
          "text": [
            "Estimación de rendimiento de Linear Regression con RobustScaler: 562.6683522166535\n"
          ]
        }
      ],
      "source": [
        "from sklearn.linear_model import Ridge\n",
        "pipeline_ridge = Pipeline([\n",
        "    ('scaler', RobustScaler()),  # RobustScaler\n",
        "    ('lasso', Ridge())  # Lasso Regression model\n",
        "])\n",
        "\n",
        "scores_ridge_hpo = cross_val_score(pipeline_ridge, X, y, cv=inner_cv, scoring=\"neg_root_mean_squared_error\")\n",
        "scores_ridge = -np.mean(scores_ridge_hpo)\n",
        "\n",
        "print(\"Estimación de rendimiento de Linear Regression con RobustScaler:\", scores_ridge)"
      ]
    },
    {
      "cell_type": "markdown",
      "metadata": {
        "id": "1uW5Qv4dtscq"
      },
      "source": [
        "### Regresión lineal (Elastic Net)"
      ]
    },
    {
      "cell_type": "code",
      "execution_count": 25,
      "metadata": {
        "colab": {
          "base_uri": "https://localhost:8080/"
        },
        "id": "rG5x4ioCtsMr",
        "outputId": "dd76257a-7921-4512-ecd0-6c8f8988c800"
      },
      "outputs": [
        {
          "output_type": "stream",
          "name": "stdout",
          "text": [
            "Estimación de rendimiento de Linear Regression con RobustScaler: 575.3478012504667\n"
          ]
        }
      ],
      "source": [
        "from sklearn.linear_model import ElasticNet\n",
        "\n",
        "pipeline_elastic_net = Pipeline([\n",
        "    ('scaler', RobustScaler()),  # RobustScaler\n",
        "    ('elasticnet', ElasticNet())  # Elastic Net Regression model\n",
        "])\n",
        "\n",
        "scores_elastic_net_hpo = cross_val_score(pipeline_elastic_net, X, y, cv=inner_cv, scoring=\"neg_root_mean_squared_error\")\n",
        "scores_elastic_net = -np.mean(scores_elastic_net_hpo)\n",
        "\n",
        "print(\"Estimación de rendimiento de Linear Regression con RobustScaler:\", scores_elastic_net)"
      ]
    },
    {
      "cell_type": "markdown",
      "metadata": {
        "id": "7rFvokOfuYkY"
      },
      "source": [
        "### SVM"
      ]
    },
    {
      "cell_type": "code",
      "execution_count": 26,
      "metadata": {
        "colab": {
          "base_uri": "https://localhost:8080/"
        },
        "id": "HqI9UxPBuaQj",
        "outputId": "e0a03565-f288-45b8-a62c-bf77d602849d"
      },
      "outputs": [
        {
          "output_type": "stream",
          "name": "stdout",
          "text": [
            "Estimación de rendimiento de Linear Regression con RobustScaler: 685.3721179075523\n"
          ]
        }
      ],
      "source": [
        "from sklearn.svm import SVR\n",
        "\n",
        "pipeline_svm = Pipeline([\n",
        "    ('scaler', RobustScaler()),\n",
        "    ('svm', SVR())\n",
        "])\n",
        "\n",
        "scores_svm_hpo = cross_val_score(pipeline_svm, X, y, cv=inner_cv, scoring=\"neg_root_mean_squared_error\")\n",
        "scores_svm = -np.mean(scores_svm_hpo)\n",
        "\n",
        "print(\"Estimación de rendimiento de Linear Regression con RobustScaler:\", scores_svm)"
      ]
    },
    {
      "cell_type": "markdown",
      "source": [
        "### Conclusión HPO"
      ],
      "metadata": {
        "id": "2pNnXcb1uinW"
      }
    },
    {
      "cell_type": "markdown",
      "source": [
        "Tras ver el error de todos los métodos antes presentados, observamos que el que menor error tiene es el KNN con 461,21."
      ],
      "metadata": {
        "id": "uJ17wPvnurwS"
      }
    },
    {
      "cell_type": "markdown",
      "metadata": {
        "id": "GXuvF_-G_2SH"
      },
      "source": [
        "## Ajuste de hiperparámetros"
      ]
    },
    {
      "cell_type": "markdown",
      "metadata": {
        "id": "KSeZn8EYAfdE"
      },
      "source": [
        "### KNN con ajuste de hiperparámetros\n",
        "Inicialmente, knn_neighbours tenía como cota superior 11, pero al ser ésta el mejor hiperparámetro, se tuvo que aumentar el espacio de búsqueda"
      ]
    },
    {
      "cell_type": "code",
      "execution_count": 27,
      "metadata": {
        "id": "Rw-nDU9-NaCq",
        "colab": {
          "base_uri": "https://localhost:8080/"
        },
        "outputId": "21c6dc16-3a4b-404e-da86-f6b7a7d19cb3"
      },
      "outputs": [
        {
          "output_type": "stream",
          "name": "stdout",
          "text": [
            "Fitting 3 folds for each of 44 candidates, totalling 132 fits\n",
            "Fitting 3 folds for each of 44 candidates, totalling 132 fits\n",
            "Fitting 3 folds for each of 44 candidates, totalling 132 fits\n",
            "Fitting 3 folds for each of 44 candidates, totalling 132 fits\n",
            "Fitting 3 folds for each of 44 candidates, totalling 132 fits\n"
          ]
        }
      ],
      "source": [
        "from sklearn.neighbors import KNeighborsRegressor\n",
        "\n",
        "outer_cv = TimeSeriesSplit(n_splits=5)\n",
        "inner_cv = TimeSeriesSplit(n_splits=3)\n",
        "\n",
        "pipeline = Pipeline([\n",
        "    ('scaler', RobustScaler()),  # Escalador RobustScaler\n",
        "    ('knn', KNeighborsRegressor())  # Modelo KNN\n",
        "])\n",
        "\n",
        "param_grid_knn = {\n",
        "    'knn__n_neighbors': [3, 5, 7, 9, 11, 13, 15, 17, 19, 21, 23],\n",
        "    'knn__weights': ['uniform', 'distance'],\n",
        "    'knn__p': [1, 2]\n",
        "}\n",
        "\n",
        "knn_grid_search = GridSearchCV(pipeline,\n",
        "                               param_grid_knn,\n",
        "                               scoring='neg_root_mean_squared_error',\n",
        "                               cv=inner_cv,\n",
        "                               n_jobs=1,\n",
        "                               verbose=1)\n",
        "\n",
        "inicio = time.time()\n",
        "knn_scores = cross_validate(knn_grid_search,\n",
        "                            X, y,\n",
        "                            scoring='neg_root_mean_squared_error',\n",
        "                            cv=outer_cv,\n",
        "                            return_estimator=True)\n",
        "fin = time.time()\n"
      ]
    },
    {
      "cell_type": "code",
      "execution_count": 28,
      "metadata": {
        "id": "RWECiSvnO0K-",
        "colab": {
          "base_uri": "https://localhost:8080/"
        },
        "outputId": "b8d7e8aa-aebe-4386-b65c-ba8933dc49e5"
      },
      "outputs": [
        {
          "output_type": "stream",
          "name": "stdout",
          "text": [
            "La media del error cuadrático medio es: 431.1769417843094\n",
            "{'knn__n_neighbors': 7, 'knn__p': 1, 'knn__weights': 'distance'}\n",
            "{'knn__n_neighbors': 13, 'knn__p': 1, 'knn__weights': 'distance'}\n",
            "{'knn__n_neighbors': 13, 'knn__p': 1, 'knn__weights': 'distance'}\n",
            "{'knn__n_neighbors': 11, 'knn__p': 1, 'knn__weights': 'distance'}\n",
            "{'knn__n_neighbors': 21, 'knn__p': 1, 'knn__weights': 'distance'}\n",
            "Tiempo transcurrido en KNN regressor con escalador RobustScaler y configuración de hiperparámetros: 28.732858419418335 segundos\n"
          ]
        }
      ],
      "source": [
        "media = np.mean(knn_scores[\"test_score\"])\n",
        "print(\"La media del error cuadrático medio es:\", -media)\n",
        "\n",
        "# Imprimir los mejores parámetros para cada modelo ajustado\n",
        "for model in knn_scores[\"estimator\"]:\n",
        "    #model.fit(X, y)  # mejor con esto o sin esto  IMPORTANTE\n",
        "    print(model.best_params_)\n",
        "\n",
        "# Calcular el tiempo transcurrido\n",
        "tiempo_transcurrido = fin - inicio\n",
        "print(\"Tiempo transcurrido en KNN regressor con escalador RobustScaler y configuración de hiperparámetros:\", tiempo_transcurrido, \"segundos\")"
      ]
    },
    {
      "cell_type": "markdown",
      "metadata": {
        "id": "zvFILARQPmu9"
      },
      "source": [
        "Construimos el modelo final"
      ]
    },
    {
      "cell_type": "code",
      "execution_count": 29,
      "metadata": {
        "id": "5HT-bCzQPkmX",
        "colab": {
          "base_uri": "https://localhost:8080/",
          "height": 169
        },
        "outputId": "70939b61-7fec-440b-a6cf-bf1baf6491ff"
      },
      "outputs": [
        {
          "output_type": "stream",
          "name": "stdout",
          "text": [
            "Fitting 3 folds for each of 44 candidates, totalling 132 fits\n"
          ]
        },
        {
          "output_type": "execute_result",
          "data": {
            "text/plain": [
              "GridSearchCV(cv=TimeSeriesSplit(gap=0, max_train_size=None, n_splits=3, test_size=None),\n",
              "             estimator=Pipeline(steps=[('scaler', RobustScaler()),\n",
              "                                       ('knn', KNeighborsRegressor())]),\n",
              "             n_jobs=1,\n",
              "             param_grid={'knn__n_neighbors': [3, 5, 7, 9, 11, 13, 15, 17, 19,\n",
              "                                              21, 23],\n",
              "                         'knn__p': [1, 2],\n",
              "                         'knn__weights': ['uniform', 'distance']},\n",
              "             scoring='neg_root_mean_squared_error', verbose=1)"
            ],
            "text/html": [
              "<style>#sk-container-id-1 {color: black;background-color: white;}#sk-container-id-1 pre{padding: 0;}#sk-container-id-1 div.sk-toggleable {background-color: white;}#sk-container-id-1 label.sk-toggleable__label {cursor: pointer;display: block;width: 100%;margin-bottom: 0;padding: 0.3em;box-sizing: border-box;text-align: center;}#sk-container-id-1 label.sk-toggleable__label-arrow:before {content: \"▸\";float: left;margin-right: 0.25em;color: #696969;}#sk-container-id-1 label.sk-toggleable__label-arrow:hover:before {color: black;}#sk-container-id-1 div.sk-estimator:hover label.sk-toggleable__label-arrow:before {color: black;}#sk-container-id-1 div.sk-toggleable__content {max-height: 0;max-width: 0;overflow: hidden;text-align: left;background-color: #f0f8ff;}#sk-container-id-1 div.sk-toggleable__content pre {margin: 0.2em;color: black;border-radius: 0.25em;background-color: #f0f8ff;}#sk-container-id-1 input.sk-toggleable__control:checked~div.sk-toggleable__content {max-height: 200px;max-width: 100%;overflow: auto;}#sk-container-id-1 input.sk-toggleable__control:checked~label.sk-toggleable__label-arrow:before {content: \"▾\";}#sk-container-id-1 div.sk-estimator input.sk-toggleable__control:checked~label.sk-toggleable__label {background-color: #d4ebff;}#sk-container-id-1 div.sk-label input.sk-toggleable__control:checked~label.sk-toggleable__label {background-color: #d4ebff;}#sk-container-id-1 input.sk-hidden--visually {border: 0;clip: rect(1px 1px 1px 1px);clip: rect(1px, 1px, 1px, 1px);height: 1px;margin: -1px;overflow: hidden;padding: 0;position: absolute;width: 1px;}#sk-container-id-1 div.sk-estimator {font-family: monospace;background-color: #f0f8ff;border: 1px dotted black;border-radius: 0.25em;box-sizing: border-box;margin-bottom: 0.5em;}#sk-container-id-1 div.sk-estimator:hover {background-color: #d4ebff;}#sk-container-id-1 div.sk-parallel-item::after {content: \"\";width: 100%;border-bottom: 1px solid gray;flex-grow: 1;}#sk-container-id-1 div.sk-label:hover label.sk-toggleable__label {background-color: #d4ebff;}#sk-container-id-1 div.sk-serial::before {content: \"\";position: absolute;border-left: 1px solid gray;box-sizing: border-box;top: 0;bottom: 0;left: 50%;z-index: 0;}#sk-container-id-1 div.sk-serial {display: flex;flex-direction: column;align-items: center;background-color: white;padding-right: 0.2em;padding-left: 0.2em;position: relative;}#sk-container-id-1 div.sk-item {position: relative;z-index: 1;}#sk-container-id-1 div.sk-parallel {display: flex;align-items: stretch;justify-content: center;background-color: white;position: relative;}#sk-container-id-1 div.sk-item::before, #sk-container-id-1 div.sk-parallel-item::before {content: \"\";position: absolute;border-left: 1px solid gray;box-sizing: border-box;top: 0;bottom: 0;left: 50%;z-index: -1;}#sk-container-id-1 div.sk-parallel-item {display: flex;flex-direction: column;z-index: 1;position: relative;background-color: white;}#sk-container-id-1 div.sk-parallel-item:first-child::after {align-self: flex-end;width: 50%;}#sk-container-id-1 div.sk-parallel-item:last-child::after {align-self: flex-start;width: 50%;}#sk-container-id-1 div.sk-parallel-item:only-child::after {width: 0;}#sk-container-id-1 div.sk-dashed-wrapped {border: 1px dashed gray;margin: 0 0.4em 0.5em 0.4em;box-sizing: border-box;padding-bottom: 0.4em;background-color: white;}#sk-container-id-1 div.sk-label label {font-family: monospace;font-weight: bold;display: inline-block;line-height: 1.2em;}#sk-container-id-1 div.sk-label-container {text-align: center;}#sk-container-id-1 div.sk-container {/* jupyter's `normalize.less` sets `[hidden] { display: none; }` but bootstrap.min.css set `[hidden] { display: none !important; }` so we also need the `!important` here to be able to override the default hidden behavior on the sphinx rendered scikit-learn.org. See: https://github.com/scikit-learn/scikit-learn/issues/21755 */display: inline-block !important;position: relative;}#sk-container-id-1 div.sk-text-repr-fallback {display: none;}</style><div id=\"sk-container-id-1\" class=\"sk-top-container\"><div class=\"sk-text-repr-fallback\"><pre>GridSearchCV(cv=TimeSeriesSplit(gap=0, max_train_size=None, n_splits=3, test_size=None),\n",
              "             estimator=Pipeline(steps=[(&#x27;scaler&#x27;, RobustScaler()),\n",
              "                                       (&#x27;knn&#x27;, KNeighborsRegressor())]),\n",
              "             n_jobs=1,\n",
              "             param_grid={&#x27;knn__n_neighbors&#x27;: [3, 5, 7, 9, 11, 13, 15, 17, 19,\n",
              "                                              21, 23],\n",
              "                         &#x27;knn__p&#x27;: [1, 2],\n",
              "                         &#x27;knn__weights&#x27;: [&#x27;uniform&#x27;, &#x27;distance&#x27;]},\n",
              "             scoring=&#x27;neg_root_mean_squared_error&#x27;, verbose=1)</pre><b>In a Jupyter environment, please rerun this cell to show the HTML representation or trust the notebook. <br />On GitHub, the HTML representation is unable to render, please try loading this page with nbviewer.org.</b></div><div class=\"sk-container\" hidden><div class=\"sk-item sk-dashed-wrapped\"><div class=\"sk-label-container\"><div class=\"sk-label sk-toggleable\"><input class=\"sk-toggleable__control sk-hidden--visually\" id=\"sk-estimator-id-1\" type=\"checkbox\" ><label for=\"sk-estimator-id-1\" class=\"sk-toggleable__label sk-toggleable__label-arrow\">GridSearchCV</label><div class=\"sk-toggleable__content\"><pre>GridSearchCV(cv=TimeSeriesSplit(gap=0, max_train_size=None, n_splits=3, test_size=None),\n",
              "             estimator=Pipeline(steps=[(&#x27;scaler&#x27;, RobustScaler()),\n",
              "                                       (&#x27;knn&#x27;, KNeighborsRegressor())]),\n",
              "             n_jobs=1,\n",
              "             param_grid={&#x27;knn__n_neighbors&#x27;: [3, 5, 7, 9, 11, 13, 15, 17, 19,\n",
              "                                              21, 23],\n",
              "                         &#x27;knn__p&#x27;: [1, 2],\n",
              "                         &#x27;knn__weights&#x27;: [&#x27;uniform&#x27;, &#x27;distance&#x27;]},\n",
              "             scoring=&#x27;neg_root_mean_squared_error&#x27;, verbose=1)</pre></div></div></div><div class=\"sk-parallel\"><div class=\"sk-parallel-item\"><div class=\"sk-item\"><div class=\"sk-label-container\"><div class=\"sk-label sk-toggleable\"><input class=\"sk-toggleable__control sk-hidden--visually\" id=\"sk-estimator-id-2\" type=\"checkbox\" ><label for=\"sk-estimator-id-2\" class=\"sk-toggleable__label sk-toggleable__label-arrow\">estimator: Pipeline</label><div class=\"sk-toggleable__content\"><pre>Pipeline(steps=[(&#x27;scaler&#x27;, RobustScaler()), (&#x27;knn&#x27;, KNeighborsRegressor())])</pre></div></div></div><div class=\"sk-serial\"><div class=\"sk-item\"><div class=\"sk-serial\"><div class=\"sk-item\"><div class=\"sk-estimator sk-toggleable\"><input class=\"sk-toggleable__control sk-hidden--visually\" id=\"sk-estimator-id-3\" type=\"checkbox\" ><label for=\"sk-estimator-id-3\" class=\"sk-toggleable__label sk-toggleable__label-arrow\">RobustScaler</label><div class=\"sk-toggleable__content\"><pre>RobustScaler()</pre></div></div></div><div class=\"sk-item\"><div class=\"sk-estimator sk-toggleable\"><input class=\"sk-toggleable__control sk-hidden--visually\" id=\"sk-estimator-id-4\" type=\"checkbox\" ><label for=\"sk-estimator-id-4\" class=\"sk-toggleable__label sk-toggleable__label-arrow\">KNeighborsRegressor</label><div class=\"sk-toggleable__content\"><pre>KNeighborsRegressor()</pre></div></div></div></div></div></div></div></div></div></div></div></div>"
            ]
          },
          "metadata": {},
          "execution_count": 29
        }
      ],
      "source": [
        "knn_grid_search.fit(X,y)"
      ]
    },
    {
      "cell_type": "markdown",
      "metadata": {
        "id": "It4jqNX2AjAL"
      },
      "source": [
        "### Decision tree con ajuste de hiperparámetros\n",
        "Aumentamos el espacio de búsqueda *'min_samples_split'* porque al analizar los hiperparámetros ganadores del cross_validate, el valor siempre era 14."
      ]
    },
    {
      "cell_type": "code",
      "execution_count": 30,
      "metadata": {
        "id": "e4H4xLmTAm2Q",
        "colab": {
          "base_uri": "https://localhost:8080/"
        },
        "outputId": "06e770b4-7890-496a-a473-d8dfdec3af8f"
      },
      "outputs": [
        {
          "output_type": "stream",
          "name": "stdout",
          "text": [
            "Fitting 3 folds for each of 56 candidates, totalling 168 fits\n",
            "Fitting 3 folds for each of 56 candidates, totalling 168 fits\n",
            "Fitting 3 folds for each of 56 candidates, totalling 168 fits\n",
            "Fitting 3 folds for each of 56 candidates, totalling 168 fits\n",
            "Fitting 3 folds for each of 56 candidates, totalling 168 fits\n"
          ]
        }
      ],
      "source": [
        "param_grid = {'max_depth': [2, 4, 6, 8, 10, 12, 14],\n",
        " 'min_samples_split': [8, 10, 12, 14, 16, 18, 20, 22]}\n",
        "\n",
        "decission_tree = GridSearchCV(DecisionTreeRegressor(random_state=1),\n",
        "                         param_grid,\n",
        "                         scoring='neg_root_mean_squared_error',\n",
        "                         # 3-fold for hyper-parameter tuning\n",
        "                         cv=inner_cv,\n",
        "                         n_jobs=1, verbose=1,\n",
        "                        )\n",
        "inicio = time.time()\n",
        "scores = cross_validate(decission_tree,\n",
        "                            X, y,\n",
        "                            scoring='neg_root_mean_squared_error',\n",
        "                            cv = outer_cv,\n",
        "                        return_estimator=True)\n",
        "fin = time.time()"
      ]
    },
    {
      "cell_type": "code",
      "execution_count": 31,
      "metadata": {
        "id": "XdgrmunDH82-",
        "colab": {
          "base_uri": "https://localhost:8080/"
        },
        "outputId": "5d67a182-a69a-4d98-839d-38a389cd352e"
      },
      "outputs": [
        {
          "output_type": "stream",
          "name": "stdout",
          "text": [
            "Con optimización de hiperparámetros, para Decision tree la media del mrse es:  433.30800466548936\n",
            "{'max_depth': 4, 'min_samples_split': 20}\n",
            "{'max_depth': 4, 'min_samples_split': 14}\n",
            "{'max_depth': 6, 'min_samples_split': 18}\n",
            "{'max_depth': 4, 'min_samples_split': 14}\n",
            "{'max_depth': 6, 'min_samples_split': 16}\n",
            "Tiempo transcurrido en DECISION TREE regressor con config de hiperparámetros: 21.444008350372314 segundos\n"
          ]
        }
      ],
      "source": [
        "media = np.mean(scores[\"test_score\"])\n",
        "print(\"Con optimización de hiperparámetros, para Decision tree la media del mrse es: \", -media)\n",
        "\n",
        "for model in scores[\"estimator\"]:\n",
        "  print(model.best_params_)\n",
        "tiempo_transcurrido = fin - inicio\n",
        "print(\"Tiempo transcurrido en DECISION TREE regressor con config de hiperparámetros:\", tiempo_transcurrido, \"segundos\")"
      ]
    },
    {
      "cell_type": "markdown",
      "metadata": {
        "id": "P_9-BH-_NQ0q"
      },
      "source": [
        "Construimos el modelo final"
      ]
    },
    {
      "cell_type": "code",
      "execution_count": 32,
      "metadata": {
        "id": "7Ju2sTeHfAWk",
        "colab": {
          "base_uri": "https://localhost:8080/",
          "height": 135
        },
        "outputId": "ec808919-1964-4b63-9696-1dc7a9506247"
      },
      "outputs": [
        {
          "output_type": "stream",
          "name": "stdout",
          "text": [
            "Fitting 3 folds for each of 56 candidates, totalling 168 fits\n"
          ]
        },
        {
          "output_type": "execute_result",
          "data": {
            "text/plain": [
              "GridSearchCV(cv=TimeSeriesSplit(gap=0, max_train_size=None, n_splits=3, test_size=None),\n",
              "             estimator=DecisionTreeRegressor(random_state=1), n_jobs=1,\n",
              "             param_grid={'max_depth': [2, 4, 6, 8, 10, 12, 14],\n",
              "                         'min_samples_split': [8, 10, 12, 14, 16, 18, 20, 22]},\n",
              "             scoring='neg_root_mean_squared_error', verbose=1)"
            ],
            "text/html": [
              "<style>#sk-container-id-2 {color: black;background-color: white;}#sk-container-id-2 pre{padding: 0;}#sk-container-id-2 div.sk-toggleable {background-color: white;}#sk-container-id-2 label.sk-toggleable__label {cursor: pointer;display: block;width: 100%;margin-bottom: 0;padding: 0.3em;box-sizing: border-box;text-align: center;}#sk-container-id-2 label.sk-toggleable__label-arrow:before {content: \"▸\";float: left;margin-right: 0.25em;color: #696969;}#sk-container-id-2 label.sk-toggleable__label-arrow:hover:before {color: black;}#sk-container-id-2 div.sk-estimator:hover label.sk-toggleable__label-arrow:before {color: black;}#sk-container-id-2 div.sk-toggleable__content {max-height: 0;max-width: 0;overflow: hidden;text-align: left;background-color: #f0f8ff;}#sk-container-id-2 div.sk-toggleable__content pre {margin: 0.2em;color: black;border-radius: 0.25em;background-color: #f0f8ff;}#sk-container-id-2 input.sk-toggleable__control:checked~div.sk-toggleable__content {max-height: 200px;max-width: 100%;overflow: auto;}#sk-container-id-2 input.sk-toggleable__control:checked~label.sk-toggleable__label-arrow:before {content: \"▾\";}#sk-container-id-2 div.sk-estimator input.sk-toggleable__control:checked~label.sk-toggleable__label {background-color: #d4ebff;}#sk-container-id-2 div.sk-label input.sk-toggleable__control:checked~label.sk-toggleable__label {background-color: #d4ebff;}#sk-container-id-2 input.sk-hidden--visually {border: 0;clip: rect(1px 1px 1px 1px);clip: rect(1px, 1px, 1px, 1px);height: 1px;margin: -1px;overflow: hidden;padding: 0;position: absolute;width: 1px;}#sk-container-id-2 div.sk-estimator {font-family: monospace;background-color: #f0f8ff;border: 1px dotted black;border-radius: 0.25em;box-sizing: border-box;margin-bottom: 0.5em;}#sk-container-id-2 div.sk-estimator:hover {background-color: #d4ebff;}#sk-container-id-2 div.sk-parallel-item::after {content: \"\";width: 100%;border-bottom: 1px solid gray;flex-grow: 1;}#sk-container-id-2 div.sk-label:hover label.sk-toggleable__label {background-color: #d4ebff;}#sk-container-id-2 div.sk-serial::before {content: \"\";position: absolute;border-left: 1px solid gray;box-sizing: border-box;top: 0;bottom: 0;left: 50%;z-index: 0;}#sk-container-id-2 div.sk-serial {display: flex;flex-direction: column;align-items: center;background-color: white;padding-right: 0.2em;padding-left: 0.2em;position: relative;}#sk-container-id-2 div.sk-item {position: relative;z-index: 1;}#sk-container-id-2 div.sk-parallel {display: flex;align-items: stretch;justify-content: center;background-color: white;position: relative;}#sk-container-id-2 div.sk-item::before, #sk-container-id-2 div.sk-parallel-item::before {content: \"\";position: absolute;border-left: 1px solid gray;box-sizing: border-box;top: 0;bottom: 0;left: 50%;z-index: -1;}#sk-container-id-2 div.sk-parallel-item {display: flex;flex-direction: column;z-index: 1;position: relative;background-color: white;}#sk-container-id-2 div.sk-parallel-item:first-child::after {align-self: flex-end;width: 50%;}#sk-container-id-2 div.sk-parallel-item:last-child::after {align-self: flex-start;width: 50%;}#sk-container-id-2 div.sk-parallel-item:only-child::after {width: 0;}#sk-container-id-2 div.sk-dashed-wrapped {border: 1px dashed gray;margin: 0 0.4em 0.5em 0.4em;box-sizing: border-box;padding-bottom: 0.4em;background-color: white;}#sk-container-id-2 div.sk-label label {font-family: monospace;font-weight: bold;display: inline-block;line-height: 1.2em;}#sk-container-id-2 div.sk-label-container {text-align: center;}#sk-container-id-2 div.sk-container {/* jupyter's `normalize.less` sets `[hidden] { display: none; }` but bootstrap.min.css set `[hidden] { display: none !important; }` so we also need the `!important` here to be able to override the default hidden behavior on the sphinx rendered scikit-learn.org. See: https://github.com/scikit-learn/scikit-learn/issues/21755 */display: inline-block !important;position: relative;}#sk-container-id-2 div.sk-text-repr-fallback {display: none;}</style><div id=\"sk-container-id-2\" class=\"sk-top-container\"><div class=\"sk-text-repr-fallback\"><pre>GridSearchCV(cv=TimeSeriesSplit(gap=0, max_train_size=None, n_splits=3, test_size=None),\n",
              "             estimator=DecisionTreeRegressor(random_state=1), n_jobs=1,\n",
              "             param_grid={&#x27;max_depth&#x27;: [2, 4, 6, 8, 10, 12, 14],\n",
              "                         &#x27;min_samples_split&#x27;: [8, 10, 12, 14, 16, 18, 20, 22]},\n",
              "             scoring=&#x27;neg_root_mean_squared_error&#x27;, verbose=1)</pre><b>In a Jupyter environment, please rerun this cell to show the HTML representation or trust the notebook. <br />On GitHub, the HTML representation is unable to render, please try loading this page with nbviewer.org.</b></div><div class=\"sk-container\" hidden><div class=\"sk-item sk-dashed-wrapped\"><div class=\"sk-label-container\"><div class=\"sk-label sk-toggleable\"><input class=\"sk-toggleable__control sk-hidden--visually\" id=\"sk-estimator-id-5\" type=\"checkbox\" ><label for=\"sk-estimator-id-5\" class=\"sk-toggleable__label sk-toggleable__label-arrow\">GridSearchCV</label><div class=\"sk-toggleable__content\"><pre>GridSearchCV(cv=TimeSeriesSplit(gap=0, max_train_size=None, n_splits=3, test_size=None),\n",
              "             estimator=DecisionTreeRegressor(random_state=1), n_jobs=1,\n",
              "             param_grid={&#x27;max_depth&#x27;: [2, 4, 6, 8, 10, 12, 14],\n",
              "                         &#x27;min_samples_split&#x27;: [8, 10, 12, 14, 16, 18, 20, 22]},\n",
              "             scoring=&#x27;neg_root_mean_squared_error&#x27;, verbose=1)</pre></div></div></div><div class=\"sk-parallel\"><div class=\"sk-parallel-item\"><div class=\"sk-item\"><div class=\"sk-label-container\"><div class=\"sk-label sk-toggleable\"><input class=\"sk-toggleable__control sk-hidden--visually\" id=\"sk-estimator-id-6\" type=\"checkbox\" ><label for=\"sk-estimator-id-6\" class=\"sk-toggleable__label sk-toggleable__label-arrow\">estimator: DecisionTreeRegressor</label><div class=\"sk-toggleable__content\"><pre>DecisionTreeRegressor(random_state=1)</pre></div></div></div><div class=\"sk-serial\"><div class=\"sk-item\"><div class=\"sk-estimator sk-toggleable\"><input class=\"sk-toggleable__control sk-hidden--visually\" id=\"sk-estimator-id-7\" type=\"checkbox\" ><label for=\"sk-estimator-id-7\" class=\"sk-toggleable__label sk-toggleable__label-arrow\">DecisionTreeRegressor</label><div class=\"sk-toggleable__content\"><pre>DecisionTreeRegressor(random_state=1)</pre></div></div></div></div></div></div></div></div></div></div>"
            ]
          },
          "metadata": {},
          "execution_count": 32
        }
      ],
      "source": [
        "decission_tree.fit(X, y)"
      ]
    },
    {
      "cell_type": "markdown",
      "metadata": {
        "id": "6YFoqW9IQCgn"
      },
      "source": [
        "### Regresión lineal (normal)"
      ]
    },
    {
      "cell_type": "code",
      "execution_count": 33,
      "metadata": {
        "id": "oIPOlWK0Soct",
        "colab": {
          "base_uri": "https://localhost:8080/"
        },
        "outputId": "3b89d6de-ed5d-47ee-bd0f-68b4528b69c2"
      },
      "outputs": [
        {
          "output_type": "stream",
          "name": "stdout",
          "text": [
            "Fitting 3 folds for each of 2 candidates, totalling 6 fits\n",
            "Fitting 3 folds for each of 2 candidates, totalling 6 fits\n",
            "Fitting 3 folds for each of 2 candidates, totalling 6 fits\n",
            "Fitting 3 folds for each of 2 candidates, totalling 6 fits\n",
            "Fitting 3 folds for each of 2 candidates, totalling 6 fits\n"
          ]
        }
      ],
      "source": [
        "param_grid_lr = {\n",
        "    'linear_regression__fit_intercept': [True, False],\n",
        "    # que más se puede meter\n",
        "}\n",
        "\n",
        "pipeline_lr = Pipeline([\n",
        "    ('scaler', RobustScaler()),  # RobustScaler\n",
        "    ('linear_regression', LinearRegression())  # Linear Regression model\n",
        "])\n",
        "\n",
        "\n",
        "# Initialize GridSearchCV for Linear Regression\n",
        "lr_grid_search = GridSearchCV(pipeline_lr,\n",
        "                              param_grid_lr,\n",
        "                              scoring='neg_root_mean_squared_error',\n",
        "                              cv=inner_cv,\n",
        "                              n_jobs=1,\n",
        "                              verbose=1)\n",
        "\n",
        "# Perform outer cross-validation\n",
        "inicio = time.time()\n",
        "lr_scores = cross_validate(lr_grid_search,\n",
        "                           X, y,\n",
        "                           scoring='neg_root_mean_squared_error',\n",
        "                           cv=outer_cv,\n",
        "                           return_estimator=True)\n",
        "fin = time.time()"
      ]
    },
    {
      "cell_type": "code",
      "execution_count": 34,
      "metadata": {
        "id": "P25JtWh0Twrk",
        "colab": {
          "base_uri": "https://localhost:8080/"
        },
        "outputId": "f06d3222-1213-4210-8e39-7887a1f9a0d0"
      },
      "outputs": [
        {
          "output_type": "stream",
          "name": "stdout",
          "text": [
            "Con optimización de hiperparámetros, para regresión lineal la media del RMSE es: 576.2567488034907\n",
            "[GridSearchCV(cv=TimeSeriesSplit(gap=0, max_train_size=None, n_splits=3, test_size=None),\n",
            "             estimator=Pipeline(steps=[('scaler', RobustScaler()),\n",
            "                                       ('linear_regression',\n",
            "                                        LinearRegression())]),\n",
            "             n_jobs=1,\n",
            "             param_grid={'linear_regression__fit_intercept': [True, False]},\n",
            "             scoring='neg_root_mean_squared_error', verbose=1), GridSearchCV(cv=TimeSeriesSplit(gap=0, max_train_size=None, n_splits=3, test_size=None),\n",
            "             estimator=Pipeline(steps=[('scaler', RobustScaler()),\n",
            "                                       ('linear_regression',\n",
            "                                        LinearRegression())]),\n",
            "             n_jobs=1,\n",
            "             param_grid={'linear_regression__fit_intercept': [True, False]},\n",
            "             scoring='neg_root_mean_squared_error', verbose=1), GridSearchCV(cv=TimeSeriesSplit(gap=0, max_train_size=None, n_splits=3, test_size=None),\n",
            "             estimator=Pipeline(steps=[('scaler', RobustScaler()),\n",
            "                                       ('linear_regression',\n",
            "                                        LinearRegression())]),\n",
            "             n_jobs=1,\n",
            "             param_grid={'linear_regression__fit_intercept': [True, False]},\n",
            "             scoring='neg_root_mean_squared_error', verbose=1), GridSearchCV(cv=TimeSeriesSplit(gap=0, max_train_size=None, n_splits=3, test_size=None),\n",
            "             estimator=Pipeline(steps=[('scaler', RobustScaler()),\n",
            "                                       ('linear_regression',\n",
            "                                        LinearRegression())]),\n",
            "             n_jobs=1,\n",
            "             param_grid={'linear_regression__fit_intercept': [True, False]},\n",
            "             scoring='neg_root_mean_squared_error', verbose=1), GridSearchCV(cv=TimeSeriesSplit(gap=0, max_train_size=None, n_splits=3, test_size=None),\n",
            "             estimator=Pipeline(steps=[('scaler', RobustScaler()),\n",
            "                                       ('linear_regression',\n",
            "                                        LinearRegression())]),\n",
            "             n_jobs=1,\n",
            "             param_grid={'linear_regression__fit_intercept': [True, False]},\n",
            "             scoring='neg_root_mean_squared_error', verbose=1)]\n",
            "Tiempo transcurrido en regresión lineal con optimización de hiperparámetros: 1.5465507507324219 segundos\n"
          ]
        }
      ],
      "source": [
        "# Calculate the mean RMSE\n",
        "media = np.mean(lr_scores[\"test_score\"])\n",
        "print(\"Con optimización de hiperparámetros, para regresión lineal la media del RMSE es:\", -media)\n",
        "\n",
        "print(lr_scores[\"estimator\"])\n",
        "# Print the best parameters for each model DA ERROR\n",
        "#for model in lr_scores[\"estimator\"]:\n",
        "#    print(model.best_params_)\n",
        "\n",
        "# Calculate the elapsed time\n",
        "tiempo_transcurrido = fin - inicio\n",
        "print(\"Tiempo transcurrido en regresión lineal con optimización de hiperparámetros:\", tiempo_transcurrido, \"segundos\")"
      ]
    },
    {
      "cell_type": "markdown",
      "metadata": {
        "id": "SppJ2H6LQLrX"
      },
      "source": [
        "### Regresión lineal (variante Lasso)"
      ]
    },
    {
      "cell_type": "code",
      "execution_count": 35,
      "metadata": {
        "colab": {
          "base_uri": "https://localhost:8080/"
        },
        "id": "ORzlg1xAVIaH",
        "outputId": "e2d4ca65-82b7-48c5-ffad-2eb433fd84c8"
      },
      "outputs": [
        {
          "output_type": "stream",
          "name": "stdout",
          "text": [
            "Fitting 3 folds for each of 16 candidates, totalling 48 fits\n"
          ]
        },
        {
          "output_type": "stream",
          "name": "stderr",
          "text": [
            "/usr/local/lib/python3.10/dist-packages/sklearn/linear_model/_coordinate_descent.py:631: ConvergenceWarning: Objective did not converge. You might want to increase the number of iterations, check the scale of the features or consider increasing regularisation. Duality gap: 1.800e+07, tolerance: 8.447e+03\n",
            "  model = cd_fast.enet_coordinate_descent(\n",
            "/usr/local/lib/python3.10/dist-packages/sklearn/linear_model/_coordinate_descent.py:631: ConvergenceWarning: Objective did not converge. You might want to increase the number of iterations, check the scale of the features or consider increasing regularisation. Duality gap: 1.964e+07, tolerance: 1.777e+04\n",
            "  model = cd_fast.enet_coordinate_descent(\n",
            "/usr/local/lib/python3.10/dist-packages/sklearn/linear_model/_coordinate_descent.py:631: ConvergenceWarning: Objective did not converge. You might want to increase the number of iterations, check the scale of the features or consider increasing regularisation. Duality gap: 4.125e+07, tolerance: 2.480e+04\n",
            "  model = cd_fast.enet_coordinate_descent(\n",
            "/usr/local/lib/python3.10/dist-packages/sklearn/linear_model/_coordinate_descent.py:631: ConvergenceWarning: Objective did not converge. You might want to increase the number of iterations, check the scale of the features or consider increasing regularisation. Duality gap: 1.418e+06, tolerance: 1.893e+04\n",
            "  model = cd_fast.enet_coordinate_descent(\n",
            "/usr/local/lib/python3.10/dist-packages/sklearn/linear_model/_coordinate_descent.py:631: ConvergenceWarning: Objective did not converge. You might want to increase the number of iterations, check the scale of the features or consider increasing regularisation. Duality gap: 4.701e+07, tolerance: 4.120e+04\n",
            "  model = cd_fast.enet_coordinate_descent(\n",
            "/usr/local/lib/python3.10/dist-packages/sklearn/linear_model/_coordinate_descent.py:631: ConvergenceWarning: Objective did not converge. You might want to increase the number of iterations, check the scale of the features or consider increasing regularisation. Duality gap: 7.090e+07, tolerance: 5.578e+04\n",
            "  model = cd_fast.enet_coordinate_descent(\n",
            "/usr/local/lib/python3.10/dist-packages/sklearn/linear_model/_coordinate_descent.py:631: ConvergenceWarning: Objective did not converge. You might want to increase the number of iterations, check the scale of the features or consider increasing regularisation. Duality gap: 1.244e+05, tolerance: 8.447e+03\n",
            "  model = cd_fast.enet_coordinate_descent(\n",
            "/usr/local/lib/python3.10/dist-packages/sklearn/linear_model/_coordinate_descent.py:631: ConvergenceWarning: Objective did not converge. You might want to increase the number of iterations, check the scale of the features or consider increasing regularisation. Duality gap: 1.391e+06, tolerance: 1.777e+04\n",
            "  model = cd_fast.enet_coordinate_descent(\n",
            "/usr/local/lib/python3.10/dist-packages/sklearn/linear_model/_coordinate_descent.py:631: ConvergenceWarning: Objective did not converge. You might want to increase the number of iterations, check the scale of the features or consider increasing regularisation. Duality gap: 6.037e+06, tolerance: 2.480e+04\n",
            "  model = cd_fast.enet_coordinate_descent(\n",
            "/usr/local/lib/python3.10/dist-packages/sklearn/linear_model/_coordinate_descent.py:631: ConvergenceWarning: Objective did not converge. You might want to increase the number of iterations, check the scale of the features or consider increasing regularisation. Duality gap: 1.380e+05, tolerance: 1.893e+04\n",
            "  model = cd_fast.enet_coordinate_descent(\n",
            "/usr/local/lib/python3.10/dist-packages/sklearn/linear_model/_coordinate_descent.py:631: ConvergenceWarning: Objective did not converge. You might want to increase the number of iterations, check the scale of the features or consider increasing regularisation. Duality gap: 1.204e+07, tolerance: 4.120e+04\n",
            "  model = cd_fast.enet_coordinate_descent(\n",
            "/usr/local/lib/python3.10/dist-packages/sklearn/linear_model/_coordinate_descent.py:631: ConvergenceWarning: Objective did not converge. You might want to increase the number of iterations, check the scale of the features or consider increasing regularisation. Duality gap: 4.773e+06, tolerance: 5.578e+04\n",
            "  model = cd_fast.enet_coordinate_descent(\n",
            "/usr/local/lib/python3.10/dist-packages/sklearn/linear_model/_coordinate_descent.py:631: ConvergenceWarning: Objective did not converge. You might want to increase the number of iterations, check the scale of the features or consider increasing regularisation. Duality gap: 6.438e+04, tolerance: 8.447e+03\n",
            "  model = cd_fast.enet_coordinate_descent(\n",
            "/usr/local/lib/python3.10/dist-packages/sklearn/linear_model/_coordinate_descent.py:631: ConvergenceWarning: Objective did not converge. You might want to increase the number of iterations, check the scale of the features or consider increasing regularisation. Duality gap: 2.045e+04, tolerance: 1.777e+04\n",
            "  model = cd_fast.enet_coordinate_descent(\n",
            "/usr/local/lib/python3.10/dist-packages/sklearn/linear_model/_coordinate_descent.py:631: ConvergenceWarning: Objective did not converge. You might want to increase the number of iterations, check the scale of the features or consider increasing regularisation. Duality gap: 2.975e+05, tolerance: 2.480e+04\n",
            "  model = cd_fast.enet_coordinate_descent(\n",
            "/usr/local/lib/python3.10/dist-packages/sklearn/linear_model/_coordinate_descent.py:631: ConvergenceWarning: Objective did not converge. You might want to increase the number of iterations, check the scale of the features or consider increasing regularisation. Duality gap: 4.416e+04, tolerance: 1.893e+04\n",
            "  model = cd_fast.enet_coordinate_descent(\n",
            "/usr/local/lib/python3.10/dist-packages/sklearn/linear_model/_coordinate_descent.py:631: ConvergenceWarning: Objective did not converge. You might want to increase the number of iterations, check the scale of the features or consider increasing regularisation. Duality gap: 1.226e+05, tolerance: 4.120e+04\n",
            "  model = cd_fast.enet_coordinate_descent(\n",
            "/usr/local/lib/python3.10/dist-packages/sklearn/linear_model/_coordinate_descent.py:631: ConvergenceWarning: Objective did not converge. You might want to increase the number of iterations, check the scale of the features or consider increasing regularisation. Duality gap: 6.941e+05, tolerance: 5.578e+04\n",
            "  model = cd_fast.enet_coordinate_descent(\n",
            "/usr/local/lib/python3.10/dist-packages/sklearn/linear_model/_coordinate_descent.py:631: ConvergenceWarning: Objective did not converge. You might want to increase the number of iterations, check the scale of the features or consider increasing regularisation. Duality gap: 2.157e+04, tolerance: 1.777e+04\n",
            "  model = cd_fast.enet_coordinate_descent(\n",
            "/usr/local/lib/python3.10/dist-packages/sklearn/linear_model/_coordinate_descent.py:631: ConvergenceWarning: Objective did not converge. You might want to increase the number of iterations, check the scale of the features or consider increasing regularisation. Duality gap: 5.345e+04, tolerance: 2.480e+04\n",
            "  model = cd_fast.enet_coordinate_descent(\n",
            "/usr/local/lib/python3.10/dist-packages/sklearn/linear_model/_coordinate_descent.py:631: ConvergenceWarning: Objective did not converge. You might want to increase the number of iterations, check the scale of the features or consider increasing regularisation. Duality gap: 8.033e+04, tolerance: 4.120e+04\n",
            "  model = cd_fast.enet_coordinate_descent(\n",
            "/usr/local/lib/python3.10/dist-packages/sklearn/linear_model/_coordinate_descent.py:631: ConvergenceWarning: Objective did not converge. You might want to increase the number of iterations, check the scale of the features or consider increasing regularisation. Duality gap: 5.377e+05, tolerance: 5.578e+04\n",
            "  model = cd_fast.enet_coordinate_descent(\n",
            "/usr/local/lib/python3.10/dist-packages/sklearn/linear_model/_coordinate_descent.py:631: ConvergenceWarning: Objective did not converge. You might want to increase the number of iterations, check the scale of the features or consider increasing regularisation. Duality gap: 3.905e+05, tolerance: 5.578e+04\n",
            "  model = cd_fast.enet_coordinate_descent(\n",
            "/usr/local/lib/python3.10/dist-packages/sklearn/linear_model/_coordinate_descent.py:631: ConvergenceWarning: Objective did not converge. You might want to increase the number of iterations, check the scale of the features or consider increasing regularisation. Duality gap: 3.235e+05, tolerance: 5.578e+04\n",
            "  model = cd_fast.enet_coordinate_descent(\n",
            "/usr/local/lib/python3.10/dist-packages/sklearn/linear_model/_coordinate_descent.py:631: ConvergenceWarning: Objective did not converge. You might want to increase the number of iterations, check the scale of the features or consider increasing regularisation. Duality gap: 1.522e+05, tolerance: 5.578e+04\n",
            "  model = cd_fast.enet_coordinate_descent(\n",
            "/usr/local/lib/python3.10/dist-packages/sklearn/linear_model/_coordinate_descent.py:631: ConvergenceWarning: Objective did not converge. You might want to increase the number of iterations, check the scale of the features or consider increasing regularisation. Duality gap: 3.117e+05, tolerance: 3.005e+04\n",
            "  model = cd_fast.enet_coordinate_descent(\n",
            "/usr/local/lib/python3.10/dist-packages/sklearn/linear_model/_coordinate_descent.py:631: ConvergenceWarning: Objective did not converge. You might want to increase the number of iterations, check the scale of the features or consider increasing regularisation. Duality gap: 1.569e+07, tolerance: 1.776e+04\n",
            "  model = cd_fast.enet_coordinate_descent(\n"
          ]
        },
        {
          "output_type": "stream",
          "name": "stdout",
          "text": [
            "Fitting 3 folds for each of 16 candidates, totalling 48 fits\n"
          ]
        },
        {
          "output_type": "stream",
          "name": "stderr",
          "text": [
            "/usr/local/lib/python3.10/dist-packages/sklearn/linear_model/_coordinate_descent.py:631: ConvergenceWarning: Objective did not converge. You might want to increase the number of iterations, check the scale of the features or consider increasing regularisation. Duality gap: 6.927e+07, tolerance: 3.005e+04\n",
            "  model = cd_fast.enet_coordinate_descent(\n",
            "/usr/local/lib/python3.10/dist-packages/sklearn/linear_model/_coordinate_descent.py:631: ConvergenceWarning: Objective did not converge. You might want to increase the number of iterations, check the scale of the features or consider increasing regularisation. Duality gap: 6.714e+07, tolerance: 5.148e+04\n",
            "  model = cd_fast.enet_coordinate_descent(\n",
            "/usr/local/lib/python3.10/dist-packages/sklearn/linear_model/_coordinate_descent.py:631: ConvergenceWarning: Objective did not converge. You might want to increase the number of iterations, check the scale of the features or consider increasing regularisation. Duality gap: 4.346e+07, tolerance: 4.118e+04\n",
            "  model = cd_fast.enet_coordinate_descent(\n",
            "/usr/local/lib/python3.10/dist-packages/sklearn/linear_model/_coordinate_descent.py:631: ConvergenceWarning: Objective did not converge. You might want to increase the number of iterations, check the scale of the features or consider increasing regularisation. Duality gap: 7.577e+07, tolerance: 6.648e+04\n",
            "  model = cd_fast.enet_coordinate_descent(\n",
            "/usr/local/lib/python3.10/dist-packages/sklearn/linear_model/_coordinate_descent.py:631: ConvergenceWarning: Objective did not converge. You might want to increase the number of iterations, check the scale of the features or consider increasing regularisation. Duality gap: 1.654e+08, tolerance: 1.098e+05\n",
            "  model = cd_fast.enet_coordinate_descent(\n",
            "/usr/local/lib/python3.10/dist-packages/sklearn/linear_model/_coordinate_descent.py:631: ConvergenceWarning: Objective did not converge. You might want to increase the number of iterations, check the scale of the features or consider increasing regularisation. Duality gap: 1.339e+06, tolerance: 1.776e+04\n",
            "  model = cd_fast.enet_coordinate_descent(\n",
            "/usr/local/lib/python3.10/dist-packages/sklearn/linear_model/_coordinate_descent.py:631: ConvergenceWarning: Objective did not converge. You might want to increase the number of iterations, check the scale of the features or consider increasing regularisation. Duality gap: 8.769e+05, tolerance: 3.005e+04\n",
            "  model = cd_fast.enet_coordinate_descent(\n",
            "/usr/local/lib/python3.10/dist-packages/sklearn/linear_model/_coordinate_descent.py:631: ConvergenceWarning: Objective did not converge. You might want to increase the number of iterations, check the scale of the features or consider increasing regularisation. Duality gap: 1.575e+06, tolerance: 5.148e+04\n",
            "  model = cd_fast.enet_coordinate_descent(\n",
            "/usr/local/lib/python3.10/dist-packages/sklearn/linear_model/_coordinate_descent.py:631: ConvergenceWarning: Objective did not converge. You might want to increase the number of iterations, check the scale of the features or consider increasing regularisation. Duality gap: 6.311e+06, tolerance: 4.118e+04\n",
            "  model = cd_fast.enet_coordinate_descent(\n",
            "/usr/local/lib/python3.10/dist-packages/sklearn/linear_model/_coordinate_descent.py:631: ConvergenceWarning: Objective did not converge. You might want to increase the number of iterations, check the scale of the features or consider increasing regularisation. Duality gap: 1.219e+07, tolerance: 6.648e+04\n",
            "  model = cd_fast.enet_coordinate_descent(\n",
            "/usr/local/lib/python3.10/dist-packages/sklearn/linear_model/_coordinate_descent.py:631: ConvergenceWarning: Objective did not converge. You might want to increase the number of iterations, check the scale of the features or consider increasing regularisation. Duality gap: 4.604e+07, tolerance: 1.098e+05\n",
            "  model = cd_fast.enet_coordinate_descent(\n",
            "/usr/local/lib/python3.10/dist-packages/sklearn/linear_model/_coordinate_descent.py:631: ConvergenceWarning: Objective did not converge. You might want to increase the number of iterations, check the scale of the features or consider increasing regularisation. Duality gap: 5.606e+04, tolerance: 1.776e+04\n",
            "  model = cd_fast.enet_coordinate_descent(\n",
            "/usr/local/lib/python3.10/dist-packages/sklearn/linear_model/_coordinate_descent.py:631: ConvergenceWarning: Objective did not converge. You might want to increase the number of iterations, check the scale of the features or consider increasing regularisation. Duality gap: 3.114e+05, tolerance: 3.005e+04\n",
            "  model = cd_fast.enet_coordinate_descent(\n",
            "/usr/local/lib/python3.10/dist-packages/sklearn/linear_model/_coordinate_descent.py:631: ConvergenceWarning: Objective did not converge. You might want to increase the number of iterations, check the scale of the features or consider increasing regularisation. Duality gap: 2.816e+05, tolerance: 5.148e+04\n",
            "  model = cd_fast.enet_coordinate_descent(\n",
            "/usr/local/lib/python3.10/dist-packages/sklearn/linear_model/_coordinate_descent.py:631: ConvergenceWarning: Objective did not converge. You might want to increase the number of iterations, check the scale of the features or consider increasing regularisation. Duality gap: 1.512e+05, tolerance: 4.118e+04\n",
            "  model = cd_fast.enet_coordinate_descent(\n",
            "/usr/local/lib/python3.10/dist-packages/sklearn/linear_model/_coordinate_descent.py:631: ConvergenceWarning: Objective did not converge. You might want to increase the number of iterations, check the scale of the features or consider increasing regularisation. Duality gap: 3.618e+06, tolerance: 6.648e+04\n",
            "  model = cd_fast.enet_coordinate_descent(\n",
            "/usr/local/lib/python3.10/dist-packages/sklearn/linear_model/_coordinate_descent.py:631: ConvergenceWarning: Objective did not converge. You might want to increase the number of iterations, check the scale of the features or consider increasing regularisation. Duality gap: 1.142e+07, tolerance: 1.098e+05\n",
            "  model = cd_fast.enet_coordinate_descent(\n",
            "/usr/local/lib/python3.10/dist-packages/sklearn/linear_model/_coordinate_descent.py:631: ConvergenceWarning: Objective did not converge. You might want to increase the number of iterations, check the scale of the features or consider increasing regularisation. Duality gap: 1.964e+04, tolerance: 1.776e+04\n",
            "  model = cd_fast.enet_coordinate_descent(\n",
            "/usr/local/lib/python3.10/dist-packages/sklearn/linear_model/_coordinate_descent.py:631: ConvergenceWarning: Objective did not converge. You might want to increase the number of iterations, check the scale of the features or consider increasing regularisation. Duality gap: 4.620e+04, tolerance: 3.005e+04\n",
            "  model = cd_fast.enet_coordinate_descent(\n",
            "/usr/local/lib/python3.10/dist-packages/sklearn/linear_model/_coordinate_descent.py:631: ConvergenceWarning: Objective did not converge. You might want to increase the number of iterations, check the scale of the features or consider increasing regularisation. Duality gap: 8.894e+04, tolerance: 4.118e+04\n",
            "  model = cd_fast.enet_coordinate_descent(\n",
            "/usr/local/lib/python3.10/dist-packages/sklearn/linear_model/_coordinate_descent.py:631: ConvergenceWarning: Objective did not converge. You might want to increase the number of iterations, check the scale of the features or consider increasing regularisation. Duality gap: 8.652e+05, tolerance: 6.648e+04\n",
            "  model = cd_fast.enet_coordinate_descent(\n",
            "/usr/local/lib/python3.10/dist-packages/sklearn/linear_model/_coordinate_descent.py:631: ConvergenceWarning: Objective did not converge. You might want to increase the number of iterations, check the scale of the features or consider increasing regularisation. Duality gap: 1.152e+06, tolerance: 1.098e+05\n",
            "  model = cd_fast.enet_coordinate_descent(\n",
            "/usr/local/lib/python3.10/dist-packages/sklearn/linear_model/_coordinate_descent.py:631: ConvergenceWarning: Objective did not converge. You might want to increase the number of iterations, check the scale of the features or consider increasing regularisation. Duality gap: 5.058e+05, tolerance: 6.648e+04\n",
            "  model = cd_fast.enet_coordinate_descent(\n",
            "/usr/local/lib/python3.10/dist-packages/sklearn/linear_model/_coordinate_descent.py:631: ConvergenceWarning: Objective did not converge. You might want to increase the number of iterations, check the scale of the features or consider increasing regularisation. Duality gap: 2.110e+05, tolerance: 1.098e+05\n",
            "  model = cd_fast.enet_coordinate_descent(\n",
            "/usr/local/lib/python3.10/dist-packages/sklearn/linear_model/_coordinate_descent.py:631: ConvergenceWarning: Objective did not converge. You might want to increase the number of iterations, check the scale of the features or consider increasing regularisation. Duality gap: 2.385e+05, tolerance: 6.648e+04\n",
            "  model = cd_fast.enet_coordinate_descent(\n",
            "/usr/local/lib/python3.10/dist-packages/sklearn/linear_model/_coordinate_descent.py:631: ConvergenceWarning: Objective did not converge. You might want to increase the number of iterations, check the scale of the features or consider increasing regularisation. Duality gap: 1.669e+05, tolerance: 6.648e+04\n",
            "  model = cd_fast.enet_coordinate_descent(\n"
          ]
        },
        {
          "output_type": "stream",
          "name": "stdout",
          "text": [
            "Fitting 3 folds for each of 16 candidates, totalling 48 fits\n"
          ]
        },
        {
          "output_type": "stream",
          "name": "stderr",
          "text": [
            "/usr/local/lib/python3.10/dist-packages/sklearn/linear_model/_coordinate_descent.py:631: ConvergenceWarning: Objective did not converge. You might want to increase the number of iterations, check the scale of the features or consider increasing regularisation. Duality gap: 3.836e+07, tolerance: 2.483e+04\n",
            "  model = cd_fast.enet_coordinate_descent(\n",
            "/usr/local/lib/python3.10/dist-packages/sklearn/linear_model/_coordinate_descent.py:631: ConvergenceWarning: Objective did not converge. You might want to increase the number of iterations, check the scale of the features or consider increasing regularisation. Duality gap: 6.705e+07, tolerance: 5.148e+04\n",
            "  model = cd_fast.enet_coordinate_descent(\n",
            "/usr/local/lib/python3.10/dist-packages/sklearn/linear_model/_coordinate_descent.py:631: ConvergenceWarning: Objective did not converge. You might want to increase the number of iterations, check the scale of the features or consider increasing regularisation. Duality gap: 7.822e+07, tolerance: 8.233e+04\n",
            "  model = cd_fast.enet_coordinate_descent(\n",
            "/usr/local/lib/python3.10/dist-packages/sklearn/linear_model/_coordinate_descent.py:631: ConvergenceWarning: Objective did not converge. You might want to increase the number of iterations, check the scale of the features or consider increasing regularisation. Duality gap: 7.215e+07, tolerance: 5.579e+04\n",
            "  model = cd_fast.enet_coordinate_descent(\n",
            "/usr/local/lib/python3.10/dist-packages/sklearn/linear_model/_coordinate_descent.py:631: ConvergenceWarning: Objective did not converge. You might want to increase the number of iterations, check the scale of the features or consider increasing regularisation. Duality gap: 1.640e+08, tolerance: 1.098e+05\n",
            "  model = cd_fast.enet_coordinate_descent(\n",
            "/usr/local/lib/python3.10/dist-packages/sklearn/linear_model/_coordinate_descent.py:631: ConvergenceWarning: Objective did not converge. You might want to increase the number of iterations, check the scale of the features or consider increasing regularisation. Duality gap: 1.865e+08, tolerance: 1.736e+05\n",
            "  model = cd_fast.enet_coordinate_descent(\n",
            "/usr/local/lib/python3.10/dist-packages/sklearn/linear_model/_coordinate_descent.py:631: ConvergenceWarning: Objective did not converge. You might want to increase the number of iterations, check the scale of the features or consider increasing regularisation. Duality gap: 5.282e+06, tolerance: 2.483e+04\n",
            "  model = cd_fast.enet_coordinate_descent(\n",
            "/usr/local/lib/python3.10/dist-packages/sklearn/linear_model/_coordinate_descent.py:631: ConvergenceWarning: Objective did not converge. You might want to increase the number of iterations, check the scale of the features or consider increasing regularisation. Duality gap: 1.635e+06, tolerance: 5.148e+04\n",
            "  model = cd_fast.enet_coordinate_descent(\n",
            "/usr/local/lib/python3.10/dist-packages/sklearn/linear_model/_coordinate_descent.py:631: ConvergenceWarning: Objective did not converge. You might want to increase the number of iterations, check the scale of the features or consider increasing regularisation. Duality gap: 4.582e+06, tolerance: 8.233e+04\n",
            "  model = cd_fast.enet_coordinate_descent(\n",
            "/usr/local/lib/python3.10/dist-packages/sklearn/linear_model/_coordinate_descent.py:631: ConvergenceWarning: Objective did not converge. You might want to increase the number of iterations, check the scale of the features or consider increasing regularisation. Duality gap: 7.861e+06, tolerance: 5.579e+04\n",
            "  model = cd_fast.enet_coordinate_descent(\n",
            "/usr/local/lib/python3.10/dist-packages/sklearn/linear_model/_coordinate_descent.py:631: ConvergenceWarning: Objective did not converge. You might want to increase the number of iterations, check the scale of the features or consider increasing regularisation. Duality gap: 4.304e+07, tolerance: 1.098e+05\n",
            "  model = cd_fast.enet_coordinate_descent(\n",
            "/usr/local/lib/python3.10/dist-packages/sklearn/linear_model/_coordinate_descent.py:631: ConvergenceWarning: Objective did not converge. You might want to increase the number of iterations, check the scale of the features or consider increasing regularisation. Duality gap: 4.047e+07, tolerance: 1.736e+05\n",
            "  model = cd_fast.enet_coordinate_descent(\n",
            "/usr/local/lib/python3.10/dist-packages/sklearn/linear_model/_coordinate_descent.py:631: ConvergenceWarning: Objective did not converge. You might want to increase the number of iterations, check the scale of the features or consider increasing regularisation. Duality gap: 2.608e+05, tolerance: 2.483e+04\n",
            "  model = cd_fast.enet_coordinate_descent(\n",
            "/usr/local/lib/python3.10/dist-packages/sklearn/linear_model/_coordinate_descent.py:631: ConvergenceWarning: Objective did not converge. You might want to increase the number of iterations, check the scale of the features or consider increasing regularisation. Duality gap: 2.803e+05, tolerance: 5.148e+04\n",
            "  model = cd_fast.enet_coordinate_descent(\n",
            "/usr/local/lib/python3.10/dist-packages/sklearn/linear_model/_coordinate_descent.py:631: ConvergenceWarning: Objective did not converge. You might want to increase the number of iterations, check the scale of the features or consider increasing regularisation. Duality gap: 8.608e+04, tolerance: 8.233e+04\n",
            "  model = cd_fast.enet_coordinate_descent(\n",
            "/usr/local/lib/python3.10/dist-packages/sklearn/linear_model/_coordinate_descent.py:631: ConvergenceWarning: Objective did not converge. You might want to increase the number of iterations, check the scale of the features or consider increasing regularisation. Duality gap: 2.207e+06, tolerance: 5.579e+04\n",
            "  model = cd_fast.enet_coordinate_descent(\n",
            "/usr/local/lib/python3.10/dist-packages/sklearn/linear_model/_coordinate_descent.py:631: ConvergenceWarning: Objective did not converge. You might want to increase the number of iterations, check the scale of the features or consider increasing regularisation. Duality gap: 1.080e+07, tolerance: 1.098e+05\n",
            "  model = cd_fast.enet_coordinate_descent(\n",
            "/usr/local/lib/python3.10/dist-packages/sklearn/linear_model/_coordinate_descent.py:631: ConvergenceWarning: Objective did not converge. You might want to increase the number of iterations, check the scale of the features or consider increasing regularisation. Duality gap: 1.412e+07, tolerance: 1.736e+05\n",
            "  model = cd_fast.enet_coordinate_descent(\n",
            "/usr/local/lib/python3.10/dist-packages/sklearn/linear_model/_coordinate_descent.py:631: ConvergenceWarning: Objective did not converge. You might want to increase the number of iterations, check the scale of the features or consider increasing regularisation. Duality gap: 5.202e+04, tolerance: 2.483e+04\n",
            "  model = cd_fast.enet_coordinate_descent(\n",
            "/usr/local/lib/python3.10/dist-packages/sklearn/linear_model/_coordinate_descent.py:631: ConvergenceWarning: Objective did not converge. You might want to increase the number of iterations, check the scale of the features or consider increasing regularisation. Duality gap: 5.159e+05, tolerance: 5.579e+04\n",
            "  model = cd_fast.enet_coordinate_descent(\n",
            "/usr/local/lib/python3.10/dist-packages/sklearn/linear_model/_coordinate_descent.py:631: ConvergenceWarning: Objective did not converge. You might want to increase the number of iterations, check the scale of the features or consider increasing regularisation. Duality gap: 1.237e+06, tolerance: 1.098e+05\n",
            "  model = cd_fast.enet_coordinate_descent(\n",
            "/usr/local/lib/python3.10/dist-packages/sklearn/linear_model/_coordinate_descent.py:631: ConvergenceWarning: Objective did not converge. You might want to increase the number of iterations, check the scale of the features or consider increasing regularisation. Duality gap: 3.906e+05, tolerance: 5.579e+04\n",
            "  model = cd_fast.enet_coordinate_descent(\n",
            "/usr/local/lib/python3.10/dist-packages/sklearn/linear_model/_coordinate_descent.py:631: ConvergenceWarning: Objective did not converge. You might want to increase the number of iterations, check the scale of the features or consider increasing regularisation. Duality gap: 2.764e+05, tolerance: 1.098e+05\n",
            "  model = cd_fast.enet_coordinate_descent(\n",
            "/usr/local/lib/python3.10/dist-packages/sklearn/linear_model/_coordinate_descent.py:631: ConvergenceWarning: Objective did not converge. You might want to increase the number of iterations, check the scale of the features or consider increasing regularisation. Duality gap: 2.372e+05, tolerance: 5.579e+04\n",
            "  model = cd_fast.enet_coordinate_descent(\n",
            "/usr/local/lib/python3.10/dist-packages/sklearn/linear_model/_coordinate_descent.py:631: ConvergenceWarning: Objective did not converge. You might want to increase the number of iterations, check the scale of the features or consider increasing regularisation. Duality gap: 1.298e+05, tolerance: 5.579e+04\n",
            "  model = cd_fast.enet_coordinate_descent(\n"
          ]
        },
        {
          "output_type": "stream",
          "name": "stdout",
          "text": [
            "Fitting 3 folds for each of 16 candidates, totalling 48 fits\n"
          ]
        },
        {
          "output_type": "stream",
          "name": "stderr",
          "text": [
            "/usr/local/lib/python3.10/dist-packages/sklearn/linear_model/_coordinate_descent.py:631: ConvergenceWarning: Objective did not converge. You might want to increase the number of iterations, check the scale of the features or consider increasing regularisation. Duality gap: 6.946e+07, tolerance: 3.005e+04\n",
            "  model = cd_fast.enet_coordinate_descent(\n",
            "/usr/local/lib/python3.10/dist-packages/sklearn/linear_model/_coordinate_descent.py:631: ConvergenceWarning: Objective did not converge. You might want to increase the number of iterations, check the scale of the features or consider increasing regularisation. Duality gap: 6.284e+07, tolerance: 7.500e+04\n",
            "  model = cd_fast.enet_coordinate_descent(\n",
            "/usr/local/lib/python3.10/dist-packages/sklearn/linear_model/_coordinate_descent.py:631: ConvergenceWarning: Objective did not converge. You might want to increase the number of iterations, check the scale of the features or consider increasing regularisation. Duality gap: 7.447e+07, tolerance: 1.026e+05\n",
            "  model = cd_fast.enet_coordinate_descent(\n",
            "/usr/local/lib/python3.10/dist-packages/sklearn/linear_model/_coordinate_descent.py:631: ConvergenceWarning: Objective did not converge. You might want to increase the number of iterations, check the scale of the features or consider increasing regularisation. Duality gap: 7.783e+07, tolerance: 6.651e+04\n",
            "  model = cd_fast.enet_coordinate_descent(\n",
            "/usr/local/lib/python3.10/dist-packages/sklearn/linear_model/_coordinate_descent.py:631: ConvergenceWarning: Objective did not converge. You might want to increase the number of iterations, check the scale of the features or consider increasing regularisation. Duality gap: 2.168e+08, tolerance: 1.609e+05\n",
            "  model = cd_fast.enet_coordinate_descent(\n",
            "/usr/local/lib/python3.10/dist-packages/sklearn/linear_model/_coordinate_descent.py:631: ConvergenceWarning: Objective did not converge. You might want to increase the number of iterations, check the scale of the features or consider increasing regularisation. Duality gap: 2.233e+08, tolerance: 2.066e+05\n",
            "  model = cd_fast.enet_coordinate_descent(\n",
            "/usr/local/lib/python3.10/dist-packages/sklearn/linear_model/_coordinate_descent.py:631: ConvergenceWarning: Objective did not converge. You might want to increase the number of iterations, check the scale of the features or consider increasing regularisation. Duality gap: 8.212e+05, tolerance: 3.005e+04\n",
            "  model = cd_fast.enet_coordinate_descent(\n",
            "/usr/local/lib/python3.10/dist-packages/sklearn/linear_model/_coordinate_descent.py:631: ConvergenceWarning: Objective did not converge. You might want to increase the number of iterations, check the scale of the features or consider increasing regularisation. Duality gap: 3.121e+06, tolerance: 7.500e+04\n",
            "  model = cd_fast.enet_coordinate_descent(\n",
            "/usr/local/lib/python3.10/dist-packages/sklearn/linear_model/_coordinate_descent.py:631: ConvergenceWarning: Objective did not converge. You might want to increase the number of iterations, check the scale of the features or consider increasing regularisation. Duality gap: 2.686e+06, tolerance: 1.026e+05\n",
            "  model = cd_fast.enet_coordinate_descent(\n",
            "/usr/local/lib/python3.10/dist-packages/sklearn/linear_model/_coordinate_descent.py:631: ConvergenceWarning: Objective did not converge. You might want to increase the number of iterations, check the scale of the features or consider increasing regularisation. Duality gap: 1.277e+07, tolerance: 6.651e+04\n",
            "  model = cd_fast.enet_coordinate_descent(\n",
            "/usr/local/lib/python3.10/dist-packages/sklearn/linear_model/_coordinate_descent.py:631: ConvergenceWarning: Objective did not converge. You might want to increase the number of iterations, check the scale of the features or consider increasing regularisation. Duality gap: 6.930e+07, tolerance: 1.609e+05\n",
            "  model = cd_fast.enet_coordinate_descent(\n",
            "/usr/local/lib/python3.10/dist-packages/sklearn/linear_model/_coordinate_descent.py:631: ConvergenceWarning: Objective did not converge. You might want to increase the number of iterations, check the scale of the features or consider increasing regularisation. Duality gap: 4.968e+07, tolerance: 2.066e+05\n",
            "  model = cd_fast.enet_coordinate_descent(\n",
            "/usr/local/lib/python3.10/dist-packages/sklearn/linear_model/_coordinate_descent.py:631: ConvergenceWarning: Objective did not converge. You might want to increase the number of iterations, check the scale of the features or consider increasing regularisation. Duality gap: 3.117e+05, tolerance: 3.005e+04\n",
            "  model = cd_fast.enet_coordinate_descent(\n",
            "/usr/local/lib/python3.10/dist-packages/sklearn/linear_model/_coordinate_descent.py:631: ConvergenceWarning: Objective did not converge. You might want to increase the number of iterations, check the scale of the features or consider increasing regularisation. Duality gap: 9.331e+04, tolerance: 7.500e+04\n",
            "  model = cd_fast.enet_coordinate_descent(\n",
            "/usr/local/lib/python3.10/dist-packages/sklearn/linear_model/_coordinate_descent.py:631: ConvergenceWarning: Objective did not converge. You might want to increase the number of iterations, check the scale of the features or consider increasing regularisation. Duality gap: 3.813e+06, tolerance: 6.651e+04\n",
            "  model = cd_fast.enet_coordinate_descent(\n",
            "/usr/local/lib/python3.10/dist-packages/sklearn/linear_model/_coordinate_descent.py:631: ConvergenceWarning: Objective did not converge. You might want to increase the number of iterations, check the scale of the features or consider increasing regularisation. Duality gap: 1.359e+07, tolerance: 1.609e+05\n",
            "  model = cd_fast.enet_coordinate_descent(\n",
            "/usr/local/lib/python3.10/dist-packages/sklearn/linear_model/_coordinate_descent.py:631: ConvergenceWarning: Objective did not converge. You might want to increase the number of iterations, check the scale of the features or consider increasing regularisation. Duality gap: 8.652e+05, tolerance: 2.066e+05\n",
            "  model = cd_fast.enet_coordinate_descent(\n",
            "/usr/local/lib/python3.10/dist-packages/sklearn/linear_model/_coordinate_descent.py:631: ConvergenceWarning: Objective did not converge. You might want to increase the number of iterations, check the scale of the features or consider increasing regularisation. Duality gap: 4.555e+04, tolerance: 3.005e+04\n",
            "  model = cd_fast.enet_coordinate_descent(\n",
            "/usr/local/lib/python3.10/dist-packages/sklearn/linear_model/_coordinate_descent.py:631: ConvergenceWarning: Objective did not converge. You might want to increase the number of iterations, check the scale of the features or consider increasing regularisation. Duality gap: 9.633e+05, tolerance: 6.651e+04\n",
            "  model = cd_fast.enet_coordinate_descent(\n",
            "/usr/local/lib/python3.10/dist-packages/sklearn/linear_model/_coordinate_descent.py:631: ConvergenceWarning: Objective did not converge. You might want to increase the number of iterations, check the scale of the features or consider increasing regularisation. Duality gap: 4.168e+05, tolerance: 1.609e+05\n",
            "  model = cd_fast.enet_coordinate_descent(\n",
            "/usr/local/lib/python3.10/dist-packages/sklearn/linear_model/_coordinate_descent.py:631: ConvergenceWarning: Objective did not converge. You might want to increase the number of iterations, check the scale of the features or consider increasing regularisation. Duality gap: 6.417e+05, tolerance: 2.066e+05\n",
            "  model = cd_fast.enet_coordinate_descent(\n",
            "/usr/local/lib/python3.10/dist-packages/sklearn/linear_model/_coordinate_descent.py:631: ConvergenceWarning: Objective did not converge. You might want to increase the number of iterations, check the scale of the features or consider increasing regularisation. Duality gap: 5.154e+05, tolerance: 6.651e+04\n",
            "  model = cd_fast.enet_coordinate_descent(\n",
            "/usr/local/lib/python3.10/dist-packages/sklearn/linear_model/_coordinate_descent.py:631: ConvergenceWarning: Objective did not converge. You might want to increase the number of iterations, check the scale of the features or consider increasing regularisation. Duality gap: 2.384e+05, tolerance: 2.066e+05\n",
            "  model = cd_fast.enet_coordinate_descent(\n",
            "/usr/local/lib/python3.10/dist-packages/sklearn/linear_model/_coordinate_descent.py:631: ConvergenceWarning: Objective did not converge. You might want to increase the number of iterations, check the scale of the features or consider increasing regularisation. Duality gap: 2.283e+05, tolerance: 6.651e+04\n",
            "  model = cd_fast.enet_coordinate_descent(\n",
            "/usr/local/lib/python3.10/dist-packages/sklearn/linear_model/_coordinate_descent.py:631: ConvergenceWarning: Objective did not converge. You might want to increase the number of iterations, check the scale of the features or consider increasing regularisation. Duality gap: 1.437e+05, tolerance: 6.651e+04\n",
            "  model = cd_fast.enet_coordinate_descent(\n"
          ]
        },
        {
          "output_type": "stream",
          "name": "stdout",
          "text": [
            "Fitting 3 folds for each of 16 candidates, totalling 48 fits\n"
          ]
        },
        {
          "output_type": "stream",
          "name": "stderr",
          "text": [
            "/usr/local/lib/python3.10/dist-packages/sklearn/linear_model/_coordinate_descent.py:631: ConvergenceWarning: Objective did not converge. You might want to increase the number of iterations, check the scale of the features or consider increasing regularisation. Duality gap: 7.242e+07, tolerance: 3.656e+04\n",
            "  model = cd_fast.enet_coordinate_descent(\n",
            "/usr/local/lib/python3.10/dist-packages/sklearn/linear_model/_coordinate_descent.py:631: ConvergenceWarning: Objective did not converge. You might want to increase the number of iterations, check the scale of the features or consider increasing regularisation. Duality gap: 8.830e+07, tolerance: 8.930e+04\n",
            "  model = cd_fast.enet_coordinate_descent(\n",
            "/usr/local/lib/python3.10/dist-packages/sklearn/linear_model/_coordinate_descent.py:631: ConvergenceWarning: Objective did not converge. You might want to increase the number of iterations, check the scale of the features or consider increasing regularisation. Duality gap: 1.090e+08, tolerance: 1.315e+05\n",
            "  model = cd_fast.enet_coordinate_descent(\n",
            "/usr/local/lib/python3.10/dist-packages/sklearn/linear_model/_coordinate_descent.py:631: ConvergenceWarning: Objective did not converge. You might want to increase the number of iterations, check the scale of the features or consider increasing regularisation. Duality gap: 7.374e+07, tolerance: 7.759e+04\n",
            "  model = cd_fast.enet_coordinate_descent(\n",
            "/usr/local/lib/python3.10/dist-packages/sklearn/linear_model/_coordinate_descent.py:631: ConvergenceWarning: Objective did not converge. You might want to increase the number of iterations, check the scale of the features or consider increasing regularisation. Duality gap: 2.262e+08, tolerance: 1.810e+05\n",
            "  model = cd_fast.enet_coordinate_descent(\n",
            "/usr/local/lib/python3.10/dist-packages/sklearn/linear_model/_coordinate_descent.py:631: ConvergenceWarning: Objective did not converge. You might want to increase the number of iterations, check the scale of the features or consider increasing regularisation. Duality gap: 2.141e+08, tolerance: 2.743e+05\n",
            "  model = cd_fast.enet_coordinate_descent(\n",
            "/usr/local/lib/python3.10/dist-packages/sklearn/linear_model/_coordinate_descent.py:631: ConvergenceWarning: Objective did not converge. You might want to increase the number of iterations, check the scale of the features or consider increasing regularisation. Duality gap: 6.631e+06, tolerance: 3.656e+04\n",
            "  model = cd_fast.enet_coordinate_descent(\n",
            "/usr/local/lib/python3.10/dist-packages/sklearn/linear_model/_coordinate_descent.py:631: ConvergenceWarning: Objective did not converge. You might want to increase the number of iterations, check the scale of the features or consider increasing regularisation. Duality gap: 5.138e+06, tolerance: 8.930e+04\n",
            "  model = cd_fast.enet_coordinate_descent(\n",
            "/usr/local/lib/python3.10/dist-packages/sklearn/linear_model/_coordinate_descent.py:631: ConvergenceWarning: Objective did not converge. You might want to increase the number of iterations, check the scale of the features or consider increasing regularisation. Duality gap: 3.459e+06, tolerance: 1.315e+05\n",
            "  model = cd_fast.enet_coordinate_descent(\n",
            "/usr/local/lib/python3.10/dist-packages/sklearn/linear_model/_coordinate_descent.py:631: ConvergenceWarning: Objective did not converge. You might want to increase the number of iterations, check the scale of the features or consider increasing regularisation. Duality gap: 1.603e+07, tolerance: 7.759e+04\n",
            "  model = cd_fast.enet_coordinate_descent(\n",
            "/usr/local/lib/python3.10/dist-packages/sklearn/linear_model/_coordinate_descent.py:631: ConvergenceWarning: Objective did not converge. You might want to increase the number of iterations, check the scale of the features or consider increasing regularisation. Duality gap: 3.478e+05, tolerance: 1.810e+05\n",
            "  model = cd_fast.enet_coordinate_descent(\n",
            "/usr/local/lib/python3.10/dist-packages/sklearn/linear_model/_coordinate_descent.py:631: ConvergenceWarning: Objective did not converge. You might want to increase the number of iterations, check the scale of the features or consider increasing regularisation. Duality gap: 4.505e+06, tolerance: 2.743e+05\n",
            "  model = cd_fast.enet_coordinate_descent(\n",
            "/usr/local/lib/python3.10/dist-packages/sklearn/linear_model/_coordinate_descent.py:631: ConvergenceWarning: Objective did not converge. You might want to increase the number of iterations, check the scale of the features or consider increasing regularisation. Duality gap: 4.596e+05, tolerance: 3.656e+04\n",
            "  model = cd_fast.enet_coordinate_descent(\n",
            "/usr/local/lib/python3.10/dist-packages/sklearn/linear_model/_coordinate_descent.py:631: ConvergenceWarning: Objective did not converge. You might want to increase the number of iterations, check the scale of the features or consider increasing regularisation. Duality gap: 6.460e+06, tolerance: 7.759e+04\n",
            "  model = cd_fast.enet_coordinate_descent(\n",
            "/usr/local/lib/python3.10/dist-packages/sklearn/linear_model/_coordinate_descent.py:631: ConvergenceWarning: Objective did not converge. You might want to increase the number of iterations, check the scale of the features or consider increasing regularisation. Duality gap: 2.106e+06, tolerance: 1.810e+05\n",
            "  model = cd_fast.enet_coordinate_descent(\n",
            "/usr/local/lib/python3.10/dist-packages/sklearn/linear_model/_coordinate_descent.py:631: ConvergenceWarning: Objective did not converge. You might want to increase the number of iterations, check the scale of the features or consider increasing regularisation. Duality gap: 6.592e+05, tolerance: 2.743e+05\n",
            "  model = cd_fast.enet_coordinate_descent(\n",
            "/usr/local/lib/python3.10/dist-packages/sklearn/linear_model/_coordinate_descent.py:631: ConvergenceWarning: Objective did not converge. You might want to increase the number of iterations, check the scale of the features or consider increasing regularisation. Duality gap: 7.830e+04, tolerance: 3.656e+04\n",
            "  model = cd_fast.enet_coordinate_descent(\n",
            "/usr/local/lib/python3.10/dist-packages/sklearn/linear_model/_coordinate_descent.py:631: ConvergenceWarning: Objective did not converge. You might want to increase the number of iterations, check the scale of the features or consider increasing regularisation. Duality gap: 3.234e+06, tolerance: 7.759e+04\n",
            "  model = cd_fast.enet_coordinate_descent(\n",
            "/usr/local/lib/python3.10/dist-packages/sklearn/linear_model/_coordinate_descent.py:631: ConvergenceWarning: Objective did not converge. You might want to increase the number of iterations, check the scale of the features or consider increasing regularisation. Duality gap: 7.961e+05, tolerance: 1.810e+05\n",
            "  model = cd_fast.enet_coordinate_descent(\n",
            "/usr/local/lib/python3.10/dist-packages/sklearn/linear_model/_coordinate_descent.py:631: ConvergenceWarning: Objective did not converge. You might want to increase the number of iterations, check the scale of the features or consider increasing regularisation. Duality gap: 6.854e+05, tolerance: 7.759e+04\n",
            "  model = cd_fast.enet_coordinate_descent(\n",
            "/usr/local/lib/python3.10/dist-packages/sklearn/linear_model/_coordinate_descent.py:631: ConvergenceWarning: Objective did not converge. You might want to increase the number of iterations, check the scale of the features or consider increasing regularisation. Duality gap: 3.691e+05, tolerance: 1.810e+05\n",
            "  model = cd_fast.enet_coordinate_descent(\n",
            "/usr/local/lib/python3.10/dist-packages/sklearn/linear_model/_coordinate_descent.py:631: ConvergenceWarning: Objective did not converge. You might want to increase the number of iterations, check the scale of the features or consider increasing regularisation. Duality gap: 5.844e+05, tolerance: 7.759e+04\n",
            "  model = cd_fast.enet_coordinate_descent(\n",
            "/usr/local/lib/python3.10/dist-packages/sklearn/linear_model/_coordinate_descent.py:631: ConvergenceWarning: Objective did not converge. You might want to increase the number of iterations, check the scale of the features or consider increasing regularisation. Duality gap: 3.450e+05, tolerance: 7.759e+04\n",
            "  model = cd_fast.enet_coordinate_descent(\n"
          ]
        }
      ],
      "source": [
        "# Define the parameter grid for Lasso Regression\n",
        "param_grid_lasso = {\n",
        "    'lasso__alpha': [0.1, 0.5, 1.0, 1.5, 2.0, 2.5, 3.0, 10.0],  # Valores para el término de regularización\n",
        "    'lasso__fit_intercept': [True, False],  # Si ajustar la intersección\n",
        "    # Otros parámetros específicos del modelo de regresión Lasso pueden ir aquí\n",
        "}\n",
        "\n",
        "# Create the pipeline with RobustScaler and Lasso Regression\n",
        "pipeline_lasso = Pipeline([\n",
        "    ('scaler', RobustScaler()),  # RobustScaler\n",
        "    ('lasso', Lasso())  # Lasso Regression model\n",
        "])\n",
        "\n",
        "# Initialize GridSearchCV for Lasso Regression\n",
        "lasso_grid_search = GridSearchCV(pipeline_lasso,\n",
        "                                 param_grid_lasso,\n",
        "                                 scoring='neg_root_mean_squared_error',\n",
        "                                 cv=inner_cv,\n",
        "                                 n_jobs=1,\n",
        "                                 verbose=1)\n",
        "\n",
        "# Perform outer cross-validation\n",
        "inicio = time.time()\n",
        "lasso_scores = cross_validate(lasso_grid_search,\n",
        "                              X, y,\n",
        "                              scoring='neg_root_mean_squared_error',\n",
        "                              cv=outer_cv,\n",
        "                              return_estimator=True)\n",
        "fin = time.time()"
      ]
    },
    {
      "cell_type": "code",
      "execution_count": 36,
      "metadata": {
        "colab": {
          "base_uri": "https://localhost:8080/"
        },
        "id": "esoLG2zsVkBr",
        "outputId": "8ca15069-349b-483b-c8c6-f1a3413bcb66"
      },
      "outputs": [
        {
          "output_type": "stream",
          "name": "stdout",
          "text": [
            "Con optimización de hiperparámetros, para regresión Lasso la media del RMSE es: 573.2230619781069\n",
            "{'lasso__alpha': 1.0, 'lasso__fit_intercept': True}\n",
            "{'lasso__alpha': 10.0, 'lasso__fit_intercept': True}\n",
            "{'lasso__alpha': 10.0, 'lasso__fit_intercept': True}\n",
            "{'lasso__alpha': 3.0, 'lasso__fit_intercept': True}\n",
            "{'lasso__alpha': 3.0, 'lasso__fit_intercept': True}\n",
            "Tiempo transcurrido en regresión Lasso con optimización de hiperparámetros: 18.18797779083252 segundos\n"
          ]
        }
      ],
      "source": [
        "# Calculate the mean RMSE\n",
        "media = np.mean(lasso_scores[\"test_score\"])\n",
        "print(\"Con optimización de hiperparámetros, para regresión Lasso la media del RMSE es:\", -media)\n",
        "\n",
        "# Print the best parameters for each model\n",
        "for model in lasso_scores[\"estimator\"]:\n",
        "    print(model.best_params_)\n",
        "\n",
        "# Calculate the elapsed time\n",
        "tiempo_transcurrido = fin - inicio\n",
        "print(\"Tiempo transcurrido en regresión Lasso con optimización de hiperparámetros:\", tiempo_transcurrido, \"segundos\")"
      ]
    },
    {
      "cell_type": "markdown",
      "metadata": {
        "id": "o4QG7bHVQPDl"
      },
      "source": [
        "### Regresión lineal (variante Ridge)\n",
        "\n"
      ]
    },
    {
      "cell_type": "code",
      "execution_count": 37,
      "metadata": {
        "id": "jC2mMeM-W82v",
        "colab": {
          "base_uri": "https://localhost:8080/"
        },
        "outputId": "fa1137e8-f61c-42bc-970d-dcc4259fb62c"
      },
      "outputs": [
        {
          "output_type": "stream",
          "name": "stdout",
          "text": [
            "Fitting 3 folds for each of 16 candidates, totalling 48 fits\n",
            "Fitting 3 folds for each of 16 candidates, totalling 48 fits\n",
            "Fitting 3 folds for each of 16 candidates, totalling 48 fits\n",
            "Fitting 3 folds for each of 16 candidates, totalling 48 fits\n",
            "Fitting 3 folds for each of 16 candidates, totalling 48 fits\n"
          ]
        }
      ],
      "source": [
        "# Define the parameter grid for Ridge Regression\n",
        "param_grid_ridge = {\n",
        "    'ridge__alpha': [0.1, 0.5, 1.0, 1.5, 2.0, 2.5, 3.0, 10.0],  # Values for the regularization term\n",
        "    'ridge__fit_intercept': [True, False],  # Whether to fit the intercept\n",
        "    # Other specific parameters for the Ridge Regression model can be added here\n",
        "}\n",
        "\n",
        "# Create the pipeline with RobustScaler and Ridge Regression\n",
        "pipeline_ridge = Pipeline([\n",
        "    ('scaler', RobustScaler()),  # RobustScaler\n",
        "    ('ridge', Ridge())  # Ridge Regression model\n",
        "])\n",
        "\n",
        "# Initialize GridSearchCV for Ridge Regression\n",
        "ridge_grid_search = GridSearchCV(pipeline_ridge,\n",
        "                                 param_grid_ridge,\n",
        "                                 scoring='neg_root_mean_squared_error',\n",
        "                                 cv=inner_cv,\n",
        "                                 n_jobs=1,\n",
        "                                 verbose=1)\n",
        "\n",
        "# Perform outer cross-validation\n",
        "inicio = time.time()\n",
        "ridge_scores = cross_validate(ridge_grid_search,\n",
        "                              X, y,\n",
        "                              scoring='neg_root_mean_squared_error',\n",
        "                              cv=outer_cv,\n",
        "                              return_estimator=True)\n",
        "fin = time.time()"
      ]
    },
    {
      "cell_type": "code",
      "execution_count": 38,
      "metadata": {
        "id": "_o59NdRKW-WG",
        "colab": {
          "base_uri": "https://localhost:8080/"
        },
        "outputId": "739ca012-a3ec-4c39-97dc-2551aa5e3125"
      },
      "outputs": [
        {
          "output_type": "stream",
          "name": "stdout",
          "text": [
            "Con optimización de hiperparámetros, para regresión Ridge la media del RMSE es: 574.3036416546827\n",
            "{'ridge__alpha': 0.1, 'ridge__fit_intercept': True}\n",
            "{'ridge__alpha': 10.0, 'ridge__fit_intercept': True}\n",
            "{'ridge__alpha': 10.0, 'ridge__fit_intercept': True}\n",
            "{'ridge__alpha': 10.0, 'ridge__fit_intercept': True}\n",
            "{'ridge__alpha': 10.0, 'ridge__fit_intercept': True}\n",
            "Tiempo transcurrido en regresión Ridge con optimización de hiperparámetros: 6.007229328155518 segundos\n"
          ]
        }
      ],
      "source": [
        "# Calculate the mean RMSE\n",
        "media = np.mean(ridge_scores[\"test_score\"])\n",
        "print(\"Con optimización de hiperparámetros, para regresión Ridge la media del RMSE es:\", -media)\n",
        "\n",
        "# Print the best parameters for each model\n",
        "for model in ridge_scores[\"estimator\"]:\n",
        "    print(model.best_params_)\n",
        "\n",
        "# Calculate the elapsed time\n",
        "tiempo_transcurrido = fin - inicio\n",
        "print(\"Tiempo transcurrido en regresión Ridge con optimización de hiperparámetros:\", tiempo_transcurrido, \"segundos\")"
      ]
    },
    {
      "cell_type": "markdown",
      "metadata": {
        "id": "eCvhpoPWQTZf"
      },
      "source": [
        "### Regresión lineal (Elastic Net)"
      ]
    },
    {
      "cell_type": "code",
      "execution_count": 39,
      "metadata": {
        "colab": {
          "base_uri": "https://localhost:8080/"
        },
        "id": "qG6MHhnZXagI",
        "outputId": "93aeae3c-b554-4042-e593-141603cf2c0f"
      },
      "outputs": [
        {
          "output_type": "stream",
          "name": "stdout",
          "text": [
            "Fitting 3 folds for each of 48 candidates, totalling 144 fits\n",
            "Fitting 3 folds for each of 48 candidates, totalling 144 fits\n",
            "Fitting 3 folds for each of 48 candidates, totalling 144 fits\n",
            "Fitting 3 folds for each of 48 candidates, totalling 144 fits\n",
            "Fitting 3 folds for each of 48 candidates, totalling 144 fits\n"
          ]
        }
      ],
      "source": [
        "# Define the parameter grid for Elastic Net Regression\n",
        "param_grid_elastic_net = {\n",
        "    'elasticnet__alpha': [0.1, 0.5, 1.0, 1.5, 2.0, 2.5, 3.0, 10.0],  # Values for the regularization term\n",
        "    'elasticnet__l1_ratio': [0.1, 0.5, 0.9],  # Mixing parameter, 0 for L2 penalty, 1 for L1 penalty\n",
        "    'elasticnet__fit_intercept': [True, False],  # Whether to fit the intercept\n",
        "    # Other specific parameters for the Elastic Net Regression model can be added here\n",
        "}\n",
        "\n",
        "# Create the pipeline with RobustScaler and Elastic Net Regression\n",
        "pipeline_elastic_net = Pipeline([\n",
        "    ('scaler', RobustScaler()),  # RobustScaler\n",
        "    ('elasticnet', ElasticNet())  # Elastic Net Regression model\n",
        "])\n",
        "\n",
        "# Initialize GridSearchCV for Elastic Net Regression\n",
        "elastic_net_grid_search = GridSearchCV(pipeline_elastic_net,\n",
        "                                      param_grid_elastic_net,\n",
        "                                      scoring='neg_root_mean_squared_error',\n",
        "                                      cv=inner_cv,\n",
        "                                      n_jobs=1,\n",
        "                                      verbose=1)\n",
        "\n",
        "# Perform outer cross-validation\n",
        "inicio = time.time()\n",
        "elastic_net_scores = cross_validate(elastic_net_grid_search,\n",
        "                                    X, y,\n",
        "                                    scoring='neg_root_mean_squared_error',\n",
        "                                    cv=outer_cv,\n",
        "                                    return_estimator=True)\n",
        "fin = time.time()"
      ]
    },
    {
      "cell_type": "code",
      "execution_count": 40,
      "metadata": {
        "colab": {
          "base_uri": "https://localhost:8080/"
        },
        "id": "SzmTuNn8XfXR",
        "outputId": "ade16f33-420d-4ffd-e25b-1e4c2b679b8e"
      },
      "outputs": [
        {
          "output_type": "stream",
          "name": "stdout",
          "text": [
            "Con optimización de hiperparámetros, para regresión Ridge la media del RMSE es: 608.0766805933101\n",
            "{'elasticnet__alpha': 10.0, 'elasticnet__fit_intercept': True, 'elasticnet__l1_ratio': 0.1}\n",
            "{'elasticnet__alpha': 10.0, 'elasticnet__fit_intercept': True, 'elasticnet__l1_ratio': 0.1}\n",
            "{'elasticnet__alpha': 0.1, 'elasticnet__fit_intercept': True, 'elasticnet__l1_ratio': 0.5}\n",
            "{'elasticnet__alpha': 0.5, 'elasticnet__fit_intercept': True, 'elasticnet__l1_ratio': 0.9}\n",
            "{'elasticnet__alpha': 0.5, 'elasticnet__fit_intercept': True, 'elasticnet__l1_ratio': 0.9}\n",
            "Tiempo transcurrido en regresión Elastic Net con optimización de hiperparámetros: 27.991819620132446 segundos\n"
          ]
        }
      ],
      "source": [
        "# Calculate the mean RMSE\n",
        "media = np.mean(elastic_net_scores[\"test_score\"])\n",
        "print(\"Con optimización de hiperparámetros, para regresión Ridge la media del RMSE es:\", -media)\n",
        "\n",
        "# Print the best parameters for each model\n",
        "for model in elastic_net_scores[\"estimator\"]:\n",
        "    print(model.best_params_)\n",
        "\n",
        "# Calculate the elapsed time\n",
        "tiempo_transcurrido = fin - inicio\n",
        "print(\"Tiempo transcurrido en regresión Elastic Net con optimización de hiperparámetros:\", tiempo_transcurrido, \"segundos\")"
      ]
    },
    {
      "cell_type": "markdown",
      "metadata": {
        "id": "DMjgBX2RXw6W"
      },
      "source": [
        "### SVM"
      ]
    },
    {
      "cell_type": "code",
      "execution_count": 43,
      "metadata": {
        "colab": {
          "base_uri": "https://localhost:8080/"
        },
        "id": "Gv_o36H4XwiA",
        "outputId": "2d77cae5-79e3-42ef-bb75-f8130c0a8f95"
      },
      "outputs": [
        {
          "output_type": "stream",
          "name": "stdout",
          "text": [
            "Fitting 3 folds for each of 32 candidates, totalling 96 fits\n",
            "Fitting 3 folds for each of 32 candidates, totalling 96 fits\n",
            "Fitting 3 folds for each of 32 candidates, totalling 96 fits\n",
            "Fitting 3 folds for each of 32 candidates, totalling 96 fits\n",
            "Fitting 3 folds for each of 32 candidates, totalling 96 fits\n"
          ]
        }
      ],
      "source": [
        "pipeline = Pipeline([\n",
        "    ('scaler', RobustScaler()),\n",
        "    ('svm', SVR())\n",
        "])\n",
        "\n",
        "param_grid_svm = {\n",
        "    'svm__kernel': ['linear', 'poly', 'rbf', 'sigmoid'],\n",
        "    'svm__C': [0.1, 1, 10, 100],\n",
        "    'svm__gamma': ['scale', 'auto']\n",
        "}\n",
        "\n",
        "svm_grid_search = GridSearchCV(pipeline,\n",
        "                               param_grid_svm,\n",
        "                               scoring='neg_root_mean_squared_error',\n",
        "                               cv=inner_cv,\n",
        "                               n_jobs=1,\n",
        "                               verbose=1)\n",
        "\n",
        "inicio = time.time()\n",
        "svm_scores = cross_validate(svm_grid_search,\n",
        "                            X, y,\n",
        "                            scoring='neg_root_mean_squared_error',\n",
        "                            cv=outer_cv,\n",
        "                            return_estimator=True)\n",
        "fin = time.time()"
      ]
    },
    {
      "cell_type": "code",
      "execution_count": 44,
      "metadata": {
        "id": "LDK4YVxqYUqM",
        "colab": {
          "base_uri": "https://localhost:8080/"
        },
        "outputId": "29c21f9a-5008-4cc5-deb1-911022a9a960"
      },
      "outputs": [
        {
          "output_type": "stream",
          "name": "stdout",
          "text": [
            "La media del error cuadrático medio es: 456.1586969515747\n",
            "{'svm__C': 100, 'svm__gamma': 'auto', 'svm__kernel': 'rbf'}\n",
            "{'svm__C': 100, 'svm__gamma': 'auto', 'svm__kernel': 'rbf'}\n",
            "{'svm__C': 100, 'svm__gamma': 'auto', 'svm__kernel': 'rbf'}\n",
            "{'svm__C': 100, 'svm__gamma': 'auto', 'svm__kernel': 'rbf'}\n",
            "{'svm__C': 100, 'svm__gamma': 'auto', 'svm__kernel': 'rbf'}\n",
            "Tiempo transcurrido en SVM regressor con escalador RobustScaler y configuración de hiperparámetros: 572.6828217506409 segundos\n"
          ]
        }
      ],
      "source": [
        "# Calcular la media del error cuadrático medio\n",
        "media = np.mean(-svm_scores[\"test_score\"])\n",
        "print(\"La media del error cuadrático medio es:\", media)\n",
        "\n",
        "# Imprimir los mejores parámetros para cada modelo ajustado\n",
        "for model in svm_scores[\"estimator\"]:\n",
        "    print(model.best_params_)\n",
        "\n",
        "# Calcular el tiempo transcurrido\n",
        "tiempo_transcurrido = fin - inicio\n",
        "print(\"Tiempo transcurrido en SVM regressor con escalador RobustScaler y configuración de hiperparámetros:\", tiempo_transcurrido, \"segundos\")"
      ]
    },
    {
      "cell_type": "markdown",
      "source": [
        "### Conclusión Ajuste de Hiperparámetros"
      ],
      "metadata": {
        "id": "aPg4t0t40fSS"
      }
    },
    {
      "cell_type": "markdown",
      "source": [
        "Tras observar cómo se comportan todos los modelos, se puede identificar que aquel con menor rmse sigue siendo KNN pero esta vez con 431,17 más pequeño que con la omisión de hiperparámetros."
      ],
      "metadata": {
        "id": "k4ows1wv0j48"
      }
    },
    {
      "cell_type": "markdown",
      "source": [
        "## Conclusiones generales (4.c)\n"
      ],
      "metadata": {
        "id": "u-o4Lb1l1j0Y"
      }
    },
    {
      "cell_type": "markdown",
      "source": [
        "### Mejor método y método más rápido"
      ],
      "metadata": {
        "id": "ecT-2NWE9lkQ"
      }
    },
    {
      "cell_type": "markdown",
      "source": [
        "En conclusión, el mejor método tanto para omisión de hiperparámetros como para ajuste de hiperparámetros es el KNN.\n",
        "En cuanto al tiempo, en HPO, la ejecución es prácticamente instantánea, sin embargo al ajustar hiperparámetros, al usar grid search para probar todas las posibles combinaciones de hiperparámetros, la complejidad temporal creció bastante, hasta 28 segundos para KNN por ejemplo. Esto tiene sentido ya que en KNN, se debe calcular la distancia de la nueva instancia a clasificar hasta todo el resto de instancias del modelo, lo que tarda bastante.\n",
        "Por otro lado, otros métodos han sido más rápidos como la regresión normal sin regularización a cual tarda alrededor de 1,54 segundos.\n",
        "Por lo tanto, podemos decir que el método más rápido es la regresión lineal sin regularización. Por otra parte, el más lento ha sido el SVM ya que ha tardado un total de 572,68 segundos, mucho más que cualquier otro de los métodos utilizados.\n",
        "Esta alta complejidad temporal que presenta la SVM se debe a que la complejidad computacional al usar kernels no lineales como el rbf (el cual es elegido como mejor parámetro), es muy alta y por ello este incremento en el tiempo."
      ],
      "metadata": {
        "id": "QWvO_4tj1nec"
      }
    },
    {
      "cell_type": "markdown",
      "source": [
        "### Regresor dummy"
      ],
      "metadata": {
        "id": "-ZdJ5cHI9dM2"
      }
    },
    {
      "cell_type": "markdown",
      "source": [
        "Para probar el regresor dummy, usaremos la misma lógica que usamos en hpo, hacemos un cross validation (quizás demasiado complejo para lo que queremos calcular) y calcularemos el rmse que nos sale al usar ese dummy regressor"
      ],
      "metadata": {
        "id": "vWofw_-d6o9j"
      }
    },
    {
      "cell_type": "code",
      "source": [
        "from sklearn.dummy import DummyRegressor\n",
        "\n",
        "dummy_regr = DummyRegressor(strategy=\"mean\")\n",
        "\n",
        "scores_lRegrDummy_hpo = cross_val_score(dummy_regr, X, y, cv=inner_cv, scoring=\"neg_root_mean_squared_error\")\n",
        "scores_lRegrDummy = -np.mean(scores_lRegrDummy_hpo)\n",
        "\n",
        "print(\"Estimación de rendimiento de Linear Regression con RobustScaler:\", scores_lRegrDummy)"
      ],
      "metadata": {
        "colab": {
          "base_uri": "https://localhost:8080/"
        },
        "id": "lrO7CMKg63Ak",
        "outputId": "8e45f894-4c94-4500-c0f3-c4f535a0a604"
      },
      "execution_count": 45,
      "outputs": [
        {
          "output_type": "stream",
          "name": "stdout",
          "text": [
            "Estimación de rendimiento de Linear Regression con RobustScaler: 668.9181131869674\n"
          ]
        }
      ]
    },
    {
      "cell_type": "markdown",
      "source": [
        "Como se puede observar, a diferencia de la regresión lineal normal, la cual dió un rmse = 565,42, la regresión dummy da 668,91, la cual es más alta, por lo que nuestro modelo es mejor que el Dummy."
      ],
      "metadata": {
        "id": "z504YDtH7gvQ"
      }
    },
    {
      "cell_type": "markdown",
      "source": [
        "### Mejora de HPO a ajuste de hiperparámetros"
      ],
      "metadata": {
        "id": "phA7xSW29twg"
      }
    },
    {
      "cell_type": "markdown",
      "source": [
        "Por otra parte, en cuanto a la mejora de HPO a ajuste de hiperparámetros, para KNN, decision tree y SVM, el error mejora si ajustamos hiperparámetros. Sin embargo, para todas las regresiones, el error empeora al ajustar hiperparámetros."
      ],
      "metadata": {
        "id": "Wr7fomFl8iaz"
      }
    },
    {
      "cell_type": "markdown",
      "source": [
        "### Equilibrio entre tiempo de ejecución y mejora de resultados."
      ],
      "metadata": {
        "id": "3LiAqs-39yWc"
      }
    },
    {
      "cell_type": "markdown",
      "source": [
        "Para KNN, aumentando de un tiempo prácticamente instantáneo a 28 segundos, se reduce el error de 461,21 a 431,17 resultando en una bajada del error de aproximadamente un 6.51%.\n",
        "\n",
        "Para Decision tree, aumentando el tiempo hasta 21 segundos, se pasa de un error de 565,42 en HPO a 433,3 con ajuste de hiperparámetros. Esto significa una bajada en el error de un 23,4%.\n",
        "\n",
        "(Regresiones lineales)\n",
        "\n",
        "Para SVM sin embargo, tiene un muy alto tiempo de cómputo, 572,68 segundos.\n",
        "Se pasa de un error en HPO de 685,37 a un error con ajuste de hiperparámetros de 456,15. Esto resulta en una bajada del error de un 33,5%.\n",
        "Esta es la bajada de error más alta que encontramos en los modelos, sin embargo, debido al alto coste temporal que tiene, se tendría que estudiar si merece o no la pena."
      ],
      "metadata": {
        "id": "2wypKn2L-f6o"
      }
    }
  ],
  "metadata": {
    "colab": {
      "provenance": []
    },
    "kernelspec": {
      "display_name": "Python 3",
      "name": "python3"
    },
    "language_info": {
      "name": "python"
    }
  },
  "nbformat": 4,
  "nbformat_minor": 0
}