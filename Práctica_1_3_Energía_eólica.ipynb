{
  "nbformat": 4,
  "nbformat_minor": 0,
  "metadata": {
    "colab": {
      "provenance": [],
      "toc_visible": true
    },
    "kernelspec": {
      "name": "python3",
      "display_name": "Python 3"
    },
    "language_info": {
      "name": "python"
    }
  },
  "cells": [
    {
      "cell_type": "markdown",
      "source": [
        "# Imports generales"
      ],
      "metadata": {
        "id": "KYAtpEx_vNfR"
      }
    },
    {
      "cell_type": "code",
      "source": [
        "!pip install scikit-optimize\n",
        "import time\n",
        "from scipy.stats import randint, uniform\n",
        "\n",
        "from skopt import BayesSearchCV\n",
        "from skopt.space import Real, Categorical, Integer\n",
        "from sklearn.preprocessing import MinMaxScaler, StandardScaler, RobustScaler\n",
        "from sklearn.pipeline import Pipeline\n",
        "from sklearn.model_selection import RandomizedSearchCV, GridSearchCV, TimeSeriesSplit\n",
        "\n",
        "import pandas as pd\n",
        "import numpy as np\n",
        "import seaborn as sns  # visualisation\n",
        "import matplotlib.pyplot as plt  # visualisation"
      ],
      "metadata": {
        "colab": {
          "base_uri": "https://localhost:8080/"
        },
        "id": "pa2Fk8UCvO_L",
        "outputId": "b9d73b2f-091b-4363-cf1e-834da0860e6d"
      },
      "execution_count": 1,
      "outputs": [
        {
          "output_type": "stream",
          "name": "stdout",
          "text": [
            "Collecting scikit-optimize\n",
            "  Downloading scikit_optimize-0.10.1-py2.py3-none-any.whl (107 kB)\n",
            "\u001b[?25l     \u001b[90m━━━━━━━━━━━━━━━━━━━━━━━━━━━━━━━━━━━━━━━━\u001b[0m \u001b[32m0.0/107.7 kB\u001b[0m \u001b[31m?\u001b[0m eta \u001b[36m-:--:--\u001b[0m\r\u001b[2K     \u001b[91m━━━━━━━━━━━━━━━━━━━━━━\u001b[0m\u001b[91m╸\u001b[0m\u001b[90m━━━━━━━━━━━━━━━━━\u001b[0m \u001b[32m61.4/107.7 kB\u001b[0m \u001b[31m1.7 MB/s\u001b[0m eta \u001b[36m0:00:01\u001b[0m\r\u001b[2K     \u001b[90m━━━━━━━━━━━━━━━━━━━━━━━━━━━━━━━━━━━━━━━━\u001b[0m \u001b[32m107.7/107.7 kB\u001b[0m \u001b[31m1.9 MB/s\u001b[0m eta \u001b[36m0:00:00\u001b[0m\n",
            "\u001b[?25hRequirement already satisfied: joblib>=0.11 in /usr/local/lib/python3.10/dist-packages (from scikit-optimize) (1.4.0)\n",
            "Collecting pyaml>=16.9 (from scikit-optimize)\n",
            "  Downloading pyaml-23.12.0-py3-none-any.whl (23 kB)\n",
            "Requirement already satisfied: numpy>=1.20.3 in /usr/local/lib/python3.10/dist-packages (from scikit-optimize) (1.25.2)\n",
            "Requirement already satisfied: scipy>=1.1.0 in /usr/local/lib/python3.10/dist-packages (from scikit-optimize) (1.11.4)\n",
            "Requirement already satisfied: scikit-learn>=1.0.0 in /usr/local/lib/python3.10/dist-packages (from scikit-optimize) (1.2.2)\n",
            "Requirement already satisfied: packaging>=21.3 in /usr/local/lib/python3.10/dist-packages (from scikit-optimize) (24.0)\n",
            "Requirement already satisfied: PyYAML in /usr/local/lib/python3.10/dist-packages (from pyaml>=16.9->scikit-optimize) (6.0.1)\n",
            "Requirement already satisfied: threadpoolctl>=2.0.0 in /usr/local/lib/python3.10/dist-packages (from scikit-learn>=1.0.0->scikit-optimize) (3.4.0)\n",
            "Installing collected packages: pyaml, scikit-optimize\n",
            "Successfully installed pyaml-23.12.0 scikit-optimize-0.10.1\n"
          ]
        }
      ]
    },
    {
      "cell_type": "markdown",
      "metadata": {
        "id": "rZ5fNsWWA-A8"
      },
      "source": [
        "# Leer archivo"
      ]
    },
    {
      "cell_type": "code",
      "execution_count": 2,
      "metadata": {
        "id": "gX2xqLVVA9KU",
        "colab": {
          "base_uri": "https://localhost:8080/",
          "height": 447
        },
        "outputId": "22db64a2-1ff6-48c7-d3b4-f7a1d143efe6"
      },
      "outputs": [
        {
          "output_type": "stream",
          "name": "stdout",
          "text": [
            "Mounted at /content/drive\n"
          ]
        },
        {
          "output_type": "execute_result",
          "data": {
            "text/plain": [
              "              datetime   energy     p54.162.1     p54.162.2     p54.162.3  \\\n",
              "0  2005-01-02 18:00:00   402.71  2.534970e+06  2.526864e+06  2.518754e+06   \n",
              "1  2005-01-03 00:00:00   696.80  2.537369e+06  2.529277e+06  2.521184e+06   \n",
              "2  2005-01-03 06:00:00  1591.15  2.533727e+06  2.525703e+06  2.517678e+06   \n",
              "3  2005-01-03 12:00:00  1338.62  2.534491e+06  2.526548e+06  2.518609e+06   \n",
              "4  2005-01-03 18:00:00   562.50  2.529543e+06  2.521623e+06  2.513702e+06   \n",
              "\n",
              "      p54.162.4     p54.162.5     p54.162.6     p54.162.7     p54.162.8  ...  \\\n",
              "0  2.510648e+06  2.502537e+06  2.531111e+06  2.522721e+06  2.514330e+06  ...   \n",
              "1  2.513088e+06  2.504995e+06  2.533465e+06  2.525088e+06  2.516716e+06  ...   \n",
              "2  2.509654e+06  2.501629e+06  2.529801e+06  2.521496e+06  2.513187e+06  ...   \n",
              "3  2.510670e+06  2.502732e+06  2.530569e+06  2.522346e+06  2.514127e+06  ...   \n",
              "4  2.505782e+06  2.497861e+06  2.525621e+06  2.517421e+06  2.509215e+06  ...   \n",
              "\n",
              "    v100.16   v100.17   v100.18   v100.19   v100.20   v100.21   v100.22  \\\n",
              "0 -4.683596 -4.545396 -4.407196 -4.268996 -4.131295 -4.669626 -4.528932   \n",
              "1 -3.397886 -3.257192 -3.115998 -2.975304 -2.834609 -3.396390 -3.254198   \n",
              "2 -1.454105 -1.296447 -1.138290 -0.980134 -0.822476 -1.459094 -1.302933   \n",
              "3  1.255015  1.370265  1.485515  1.600765  1.716015  1.210612  1.319376   \n",
              "4  1.939031  2.023847  2.108663  2.193977  2.278793  1.873673  1.953000   \n",
              "\n",
              "    v100.23   v100.24   v100.25  \n",
              "0 -4.388736 -4.248540 -4.107846  \n",
              "1 -3.112506 -2.970314 -2.828622  \n",
              "2 -1.147271 -0.991110 -0.834949  \n",
              "3  1.428140  1.536405  1.645169  \n",
              "4  2.031829  2.111157  2.189986  \n",
              "\n",
              "[5 rows x 552 columns]"
            ],
            "text/html": [
              "\n",
              "  <div id=\"df-670004ce-e9b4-4d05-b354-16341408846e\" class=\"colab-df-container\">\n",
              "    <div>\n",
              "<style scoped>\n",
              "    .dataframe tbody tr th:only-of-type {\n",
              "        vertical-align: middle;\n",
              "    }\n",
              "\n",
              "    .dataframe tbody tr th {\n",
              "        vertical-align: top;\n",
              "    }\n",
              "\n",
              "    .dataframe thead th {\n",
              "        text-align: right;\n",
              "    }\n",
              "</style>\n",
              "<table border=\"1\" class=\"dataframe\">\n",
              "  <thead>\n",
              "    <tr style=\"text-align: right;\">\n",
              "      <th></th>\n",
              "      <th>datetime</th>\n",
              "      <th>energy</th>\n",
              "      <th>p54.162.1</th>\n",
              "      <th>p54.162.2</th>\n",
              "      <th>p54.162.3</th>\n",
              "      <th>p54.162.4</th>\n",
              "      <th>p54.162.5</th>\n",
              "      <th>p54.162.6</th>\n",
              "      <th>p54.162.7</th>\n",
              "      <th>p54.162.8</th>\n",
              "      <th>...</th>\n",
              "      <th>v100.16</th>\n",
              "      <th>v100.17</th>\n",
              "      <th>v100.18</th>\n",
              "      <th>v100.19</th>\n",
              "      <th>v100.20</th>\n",
              "      <th>v100.21</th>\n",
              "      <th>v100.22</th>\n",
              "      <th>v100.23</th>\n",
              "      <th>v100.24</th>\n",
              "      <th>v100.25</th>\n",
              "    </tr>\n",
              "  </thead>\n",
              "  <tbody>\n",
              "    <tr>\n",
              "      <th>0</th>\n",
              "      <td>2005-01-02 18:00:00</td>\n",
              "      <td>402.71</td>\n",
              "      <td>2.534970e+06</td>\n",
              "      <td>2.526864e+06</td>\n",
              "      <td>2.518754e+06</td>\n",
              "      <td>2.510648e+06</td>\n",
              "      <td>2.502537e+06</td>\n",
              "      <td>2.531111e+06</td>\n",
              "      <td>2.522721e+06</td>\n",
              "      <td>2.514330e+06</td>\n",
              "      <td>...</td>\n",
              "      <td>-4.683596</td>\n",
              "      <td>-4.545396</td>\n",
              "      <td>-4.407196</td>\n",
              "      <td>-4.268996</td>\n",
              "      <td>-4.131295</td>\n",
              "      <td>-4.669626</td>\n",
              "      <td>-4.528932</td>\n",
              "      <td>-4.388736</td>\n",
              "      <td>-4.248540</td>\n",
              "      <td>-4.107846</td>\n",
              "    </tr>\n",
              "    <tr>\n",
              "      <th>1</th>\n",
              "      <td>2005-01-03 00:00:00</td>\n",
              "      <td>696.80</td>\n",
              "      <td>2.537369e+06</td>\n",
              "      <td>2.529277e+06</td>\n",
              "      <td>2.521184e+06</td>\n",
              "      <td>2.513088e+06</td>\n",
              "      <td>2.504995e+06</td>\n",
              "      <td>2.533465e+06</td>\n",
              "      <td>2.525088e+06</td>\n",
              "      <td>2.516716e+06</td>\n",
              "      <td>...</td>\n",
              "      <td>-3.397886</td>\n",
              "      <td>-3.257192</td>\n",
              "      <td>-3.115998</td>\n",
              "      <td>-2.975304</td>\n",
              "      <td>-2.834609</td>\n",
              "      <td>-3.396390</td>\n",
              "      <td>-3.254198</td>\n",
              "      <td>-3.112506</td>\n",
              "      <td>-2.970314</td>\n",
              "      <td>-2.828622</td>\n",
              "    </tr>\n",
              "    <tr>\n",
              "      <th>2</th>\n",
              "      <td>2005-01-03 06:00:00</td>\n",
              "      <td>1591.15</td>\n",
              "      <td>2.533727e+06</td>\n",
              "      <td>2.525703e+06</td>\n",
              "      <td>2.517678e+06</td>\n",
              "      <td>2.509654e+06</td>\n",
              "      <td>2.501629e+06</td>\n",
              "      <td>2.529801e+06</td>\n",
              "      <td>2.521496e+06</td>\n",
              "      <td>2.513187e+06</td>\n",
              "      <td>...</td>\n",
              "      <td>-1.454105</td>\n",
              "      <td>-1.296447</td>\n",
              "      <td>-1.138290</td>\n",
              "      <td>-0.980134</td>\n",
              "      <td>-0.822476</td>\n",
              "      <td>-1.459094</td>\n",
              "      <td>-1.302933</td>\n",
              "      <td>-1.147271</td>\n",
              "      <td>-0.991110</td>\n",
              "      <td>-0.834949</td>\n",
              "    </tr>\n",
              "    <tr>\n",
              "      <th>3</th>\n",
              "      <td>2005-01-03 12:00:00</td>\n",
              "      <td>1338.62</td>\n",
              "      <td>2.534491e+06</td>\n",
              "      <td>2.526548e+06</td>\n",
              "      <td>2.518609e+06</td>\n",
              "      <td>2.510670e+06</td>\n",
              "      <td>2.502732e+06</td>\n",
              "      <td>2.530569e+06</td>\n",
              "      <td>2.522346e+06</td>\n",
              "      <td>2.514127e+06</td>\n",
              "      <td>...</td>\n",
              "      <td>1.255015</td>\n",
              "      <td>1.370265</td>\n",
              "      <td>1.485515</td>\n",
              "      <td>1.600765</td>\n",
              "      <td>1.716015</td>\n",
              "      <td>1.210612</td>\n",
              "      <td>1.319376</td>\n",
              "      <td>1.428140</td>\n",
              "      <td>1.536405</td>\n",
              "      <td>1.645169</td>\n",
              "    </tr>\n",
              "    <tr>\n",
              "      <th>4</th>\n",
              "      <td>2005-01-03 18:00:00</td>\n",
              "      <td>562.50</td>\n",
              "      <td>2.529543e+06</td>\n",
              "      <td>2.521623e+06</td>\n",
              "      <td>2.513702e+06</td>\n",
              "      <td>2.505782e+06</td>\n",
              "      <td>2.497861e+06</td>\n",
              "      <td>2.525621e+06</td>\n",
              "      <td>2.517421e+06</td>\n",
              "      <td>2.509215e+06</td>\n",
              "      <td>...</td>\n",
              "      <td>1.939031</td>\n",
              "      <td>2.023847</td>\n",
              "      <td>2.108663</td>\n",
              "      <td>2.193977</td>\n",
              "      <td>2.278793</td>\n",
              "      <td>1.873673</td>\n",
              "      <td>1.953000</td>\n",
              "      <td>2.031829</td>\n",
              "      <td>2.111157</td>\n",
              "      <td>2.189986</td>\n",
              "    </tr>\n",
              "  </tbody>\n",
              "</table>\n",
              "<p>5 rows × 552 columns</p>\n",
              "</div>\n",
              "    <div class=\"colab-df-buttons\">\n",
              "\n",
              "  <div class=\"colab-df-container\">\n",
              "    <button class=\"colab-df-convert\" onclick=\"convertToInteractive('df-670004ce-e9b4-4d05-b354-16341408846e')\"\n",
              "            title=\"Convert this dataframe to an interactive table.\"\n",
              "            style=\"display:none;\">\n",
              "\n",
              "  <svg xmlns=\"http://www.w3.org/2000/svg\" height=\"24px\" viewBox=\"0 -960 960 960\">\n",
              "    <path d=\"M120-120v-720h720v720H120Zm60-500h600v-160H180v160Zm220 220h160v-160H400v160Zm0 220h160v-160H400v160ZM180-400h160v-160H180v160Zm440 0h160v-160H620v160ZM180-180h160v-160H180v160Zm440 0h160v-160H620v160Z\"/>\n",
              "  </svg>\n",
              "    </button>\n",
              "\n",
              "  <style>\n",
              "    .colab-df-container {\n",
              "      display:flex;\n",
              "      gap: 12px;\n",
              "    }\n",
              "\n",
              "    .colab-df-convert {\n",
              "      background-color: #E8F0FE;\n",
              "      border: none;\n",
              "      border-radius: 50%;\n",
              "      cursor: pointer;\n",
              "      display: none;\n",
              "      fill: #1967D2;\n",
              "      height: 32px;\n",
              "      padding: 0 0 0 0;\n",
              "      width: 32px;\n",
              "    }\n",
              "\n",
              "    .colab-df-convert:hover {\n",
              "      background-color: #E2EBFA;\n",
              "      box-shadow: 0px 1px 2px rgba(60, 64, 67, 0.3), 0px 1px 3px 1px rgba(60, 64, 67, 0.15);\n",
              "      fill: #174EA6;\n",
              "    }\n",
              "\n",
              "    .colab-df-buttons div {\n",
              "      margin-bottom: 4px;\n",
              "    }\n",
              "\n",
              "    [theme=dark] .colab-df-convert {\n",
              "      background-color: #3B4455;\n",
              "      fill: #D2E3FC;\n",
              "    }\n",
              "\n",
              "    [theme=dark] .colab-df-convert:hover {\n",
              "      background-color: #434B5C;\n",
              "      box-shadow: 0px 1px 3px 1px rgba(0, 0, 0, 0.15);\n",
              "      filter: drop-shadow(0px 1px 2px rgba(0, 0, 0, 0.3));\n",
              "      fill: #FFFFFF;\n",
              "    }\n",
              "  </style>\n",
              "\n",
              "    <script>\n",
              "      const buttonEl =\n",
              "        document.querySelector('#df-670004ce-e9b4-4d05-b354-16341408846e button.colab-df-convert');\n",
              "      buttonEl.style.display =\n",
              "        google.colab.kernel.accessAllowed ? 'block' : 'none';\n",
              "\n",
              "      async function convertToInteractive(key) {\n",
              "        const element = document.querySelector('#df-670004ce-e9b4-4d05-b354-16341408846e');\n",
              "        const dataTable =\n",
              "          await google.colab.kernel.invokeFunction('convertToInteractive',\n",
              "                                                    [key], {});\n",
              "        if (!dataTable) return;\n",
              "\n",
              "        const docLinkHtml = 'Like what you see? Visit the ' +\n",
              "          '<a target=\"_blank\" href=https://colab.research.google.com/notebooks/data_table.ipynb>data table notebook</a>'\n",
              "          + ' to learn more about interactive tables.';\n",
              "        element.innerHTML = '';\n",
              "        dataTable['output_type'] = 'display_data';\n",
              "        await google.colab.output.renderOutput(dataTable, element);\n",
              "        const docLink = document.createElement('div');\n",
              "        docLink.innerHTML = docLinkHtml;\n",
              "        element.appendChild(docLink);\n",
              "      }\n",
              "    </script>\n",
              "  </div>\n",
              "\n",
              "\n",
              "<div id=\"df-c9f13bdf-2c24-4c35-b9b8-ffd30cafd043\">\n",
              "  <button class=\"colab-df-quickchart\" onclick=\"quickchart('df-c9f13bdf-2c24-4c35-b9b8-ffd30cafd043')\"\n",
              "            title=\"Suggest charts\"\n",
              "            style=\"display:none;\">\n",
              "\n",
              "<svg xmlns=\"http://www.w3.org/2000/svg\" height=\"24px\"viewBox=\"0 0 24 24\"\n",
              "     width=\"24px\">\n",
              "    <g>\n",
              "        <path d=\"M19 3H5c-1.1 0-2 .9-2 2v14c0 1.1.9 2 2 2h14c1.1 0 2-.9 2-2V5c0-1.1-.9-2-2-2zM9 17H7v-7h2v7zm4 0h-2V7h2v10zm4 0h-2v-4h2v4z\"/>\n",
              "    </g>\n",
              "</svg>\n",
              "  </button>\n",
              "\n",
              "<style>\n",
              "  .colab-df-quickchart {\n",
              "      --bg-color: #E8F0FE;\n",
              "      --fill-color: #1967D2;\n",
              "      --hover-bg-color: #E2EBFA;\n",
              "      --hover-fill-color: #174EA6;\n",
              "      --disabled-fill-color: #AAA;\n",
              "      --disabled-bg-color: #DDD;\n",
              "  }\n",
              "\n",
              "  [theme=dark] .colab-df-quickchart {\n",
              "      --bg-color: #3B4455;\n",
              "      --fill-color: #D2E3FC;\n",
              "      --hover-bg-color: #434B5C;\n",
              "      --hover-fill-color: #FFFFFF;\n",
              "      --disabled-bg-color: #3B4455;\n",
              "      --disabled-fill-color: #666;\n",
              "  }\n",
              "\n",
              "  .colab-df-quickchart {\n",
              "    background-color: var(--bg-color);\n",
              "    border: none;\n",
              "    border-radius: 50%;\n",
              "    cursor: pointer;\n",
              "    display: none;\n",
              "    fill: var(--fill-color);\n",
              "    height: 32px;\n",
              "    padding: 0;\n",
              "    width: 32px;\n",
              "  }\n",
              "\n",
              "  .colab-df-quickchart:hover {\n",
              "    background-color: var(--hover-bg-color);\n",
              "    box-shadow: 0 1px 2px rgba(60, 64, 67, 0.3), 0 1px 3px 1px rgba(60, 64, 67, 0.15);\n",
              "    fill: var(--button-hover-fill-color);\n",
              "  }\n",
              "\n",
              "  .colab-df-quickchart-complete:disabled,\n",
              "  .colab-df-quickchart-complete:disabled:hover {\n",
              "    background-color: var(--disabled-bg-color);\n",
              "    fill: var(--disabled-fill-color);\n",
              "    box-shadow: none;\n",
              "  }\n",
              "\n",
              "  .colab-df-spinner {\n",
              "    border: 2px solid var(--fill-color);\n",
              "    border-color: transparent;\n",
              "    border-bottom-color: var(--fill-color);\n",
              "    animation:\n",
              "      spin 1s steps(1) infinite;\n",
              "  }\n",
              "\n",
              "  @keyframes spin {\n",
              "    0% {\n",
              "      border-color: transparent;\n",
              "      border-bottom-color: var(--fill-color);\n",
              "      border-left-color: var(--fill-color);\n",
              "    }\n",
              "    20% {\n",
              "      border-color: transparent;\n",
              "      border-left-color: var(--fill-color);\n",
              "      border-top-color: var(--fill-color);\n",
              "    }\n",
              "    30% {\n",
              "      border-color: transparent;\n",
              "      border-left-color: var(--fill-color);\n",
              "      border-top-color: var(--fill-color);\n",
              "      border-right-color: var(--fill-color);\n",
              "    }\n",
              "    40% {\n",
              "      border-color: transparent;\n",
              "      border-right-color: var(--fill-color);\n",
              "      border-top-color: var(--fill-color);\n",
              "    }\n",
              "    60% {\n",
              "      border-color: transparent;\n",
              "      border-right-color: var(--fill-color);\n",
              "    }\n",
              "    80% {\n",
              "      border-color: transparent;\n",
              "      border-right-color: var(--fill-color);\n",
              "      border-bottom-color: var(--fill-color);\n",
              "    }\n",
              "    90% {\n",
              "      border-color: transparent;\n",
              "      border-bottom-color: var(--fill-color);\n",
              "    }\n",
              "  }\n",
              "</style>\n",
              "\n",
              "  <script>\n",
              "    async function quickchart(key) {\n",
              "      const quickchartButtonEl =\n",
              "        document.querySelector('#' + key + ' button');\n",
              "      quickchartButtonEl.disabled = true;  // To prevent multiple clicks.\n",
              "      quickchartButtonEl.classList.add('colab-df-spinner');\n",
              "      try {\n",
              "        const charts = await google.colab.kernel.invokeFunction(\n",
              "            'suggestCharts', [key], {});\n",
              "      } catch (error) {\n",
              "        console.error('Error during call to suggestCharts:', error);\n",
              "      }\n",
              "      quickchartButtonEl.classList.remove('colab-df-spinner');\n",
              "      quickchartButtonEl.classList.add('colab-df-quickchart-complete');\n",
              "    }\n",
              "    (() => {\n",
              "      let quickchartButtonEl =\n",
              "        document.querySelector('#df-c9f13bdf-2c24-4c35-b9b8-ffd30cafd043 button');\n",
              "      quickchartButtonEl.style.display =\n",
              "        google.colab.kernel.accessAllowed ? 'block' : 'none';\n",
              "    })();\n",
              "  </script>\n",
              "</div>\n",
              "    </div>\n",
              "  </div>\n"
            ],
            "application/vnd.google.colaboratory.intrinsic+json": {
              "type": "dataframe",
              "variable_name": "df"
            }
          },
          "metadata": {},
          "execution_count": 2
        }
      ],
      "source": [
        "from google.colab import drive\n",
        "\n",
        "drive.mount('/content/drive')\n",
        "\n",
        "file_path = '/content/drive/MyDrive/wind_ava.csv'\n",
        "df = pd.read_csv(file_path)\n",
        "df.head(5)"
      ]
    },
    {
      "cell_type": "markdown",
      "metadata": {
        "id": "32E4lJSLCIei"
      },
      "source": [
        "# EDA"
      ]
    },
    {
      "cell_type": "markdown",
      "metadata": {
        "id": "wT5qcrrHDGHu"
      },
      "source": [
        "## Selección de columnas relevantes"
      ]
    },
    {
      "cell_type": "markdown",
      "source": [
        "Se eliminan las columnas que no pertenecen al parque Sotavento"
      ],
      "metadata": {
        "id": "u4EtM2f8dAjl"
      }
    },
    {
      "cell_type": "code",
      "execution_count": 3,
      "metadata": {
        "id": "mD_4xbVNDEOu",
        "colab": {
          "base_uri": "https://localhost:8080/"
        },
        "outputId": "c2f118e3-9f9f-4fef-c896-ee0f37960c0a"
      },
      "outputs": [
        {
          "output_type": "stream",
          "name": "stdout",
          "text": [
            "Columnas relevantes:\n",
            "Número de columnas relevantes:  24\n"
          ]
        }
      ],
      "source": [
        "# Eliminación de variables meteorológicas no correspondientes a la localización 13\n",
        "print(\"Columnas relevantes:\")\n",
        "relevant_columns = [col for col in df.columns if col.endswith(\".13\") or col in ['datetime', 'energy']]\n",
        "df_relevant = df[relevant_columns]\n",
        "print(\"Número de columnas relevantes: \", len(df_relevant.columns))"
      ]
    },
    {
      "cell_type": "markdown",
      "metadata": {
        "id": "IIZTSjg6lS15"
      },
      "source": [
        "## Preparar datos para entrenamiento\n",
        "\n"
      ]
    },
    {
      "cell_type": "markdown",
      "source": [
        "Debemos separar los datos entre 'Train' y 'Test'. Para ello hemos decidido almacenar en 'Train' todos los datos anteriores al \"parón\" de 2008 y en 'Test' los posteriores."
      ],
      "metadata": {
        "id": "slgizsxWdl6E"
      }
    },
    {
      "cell_type": "code",
      "source": [
        "df_relevant['datetime'] = pd.to_datetime(df_relevant['datetime'])\n",
        "\n",
        "df_relevant['year'] = df_relevant['datetime'].dt.year\n",
        "\n",
        "# Filter the DataFrame where 'year' is equal to 2018\n",
        "filtered_df_2008 = df_relevant[df_relevant['year'] == 2008]\n",
        "\n",
        "# Find the highest index of the filtered DataFrame\n",
        "highest_index_2008 = filtered_df_2008.index.max()\n",
        "\n",
        "print(\"Highest index of an element with 'year' equal to 2008:\", highest_index_2008)\n",
        "\n",
        "# Filter the DataFrame where 'year' is equal to 2009\n",
        "filtered_df = df_relevant[df_relevant['year'] == 2009]\n",
        "\n",
        "# Find the first index of the filtered DataFrame\n",
        "first_index_2009 = filtered_df.index.min()\n",
        "\n",
        "print(\"First index of an element with 'year' equal to 200:\", first_index_2009)"
      ],
      "metadata": {
        "colab": {
          "base_uri": "https://localhost:8080/"
        },
        "id": "cVYM3xqFgRhe",
        "outputId": "7b326d14-9b84-4db5-cdf5-922547dba5d6"
      },
      "execution_count": 4,
      "outputs": [
        {
          "output_type": "stream",
          "name": "stdout",
          "text": [
            "Highest index of an element with 'year' equal to 2008: 3826\n",
            "First index of an element with 'year' equal to 200: 3827\n"
          ]
        },
        {
          "output_type": "stream",
          "name": "stderr",
          "text": [
            "<ipython-input-4-296c450f639b>:1: SettingWithCopyWarning: \n",
            "A value is trying to be set on a copy of a slice from a DataFrame.\n",
            "Try using .loc[row_indexer,col_indexer] = value instead\n",
            "\n",
            "See the caveats in the documentation: https://pandas.pydata.org/pandas-docs/stable/user_guide/indexing.html#returning-a-view-versus-a-copy\n",
            "  df_relevant['datetime'] = pd.to_datetime(df_relevant['datetime'])\n",
            "<ipython-input-4-296c450f639b>:3: SettingWithCopyWarning: \n",
            "A value is trying to be set on a copy of a slice from a DataFrame.\n",
            "Try using .loc[row_indexer,col_indexer] = value instead\n",
            "\n",
            "See the caveats in the documentation: https://pandas.pydata.org/pandas-docs/stable/user_guide/indexing.html#returning-a-view-versus-a-copy\n",
            "  df_relevant['year'] = df_relevant['datetime'].dt.year\n"
          ]
        }
      ]
    },
    {
      "cell_type": "code",
      "execution_count": 5,
      "metadata": {
        "id": "zywzbzh4lbmo",
        "colab": {
          "base_uri": "https://localhost:8080/"
        },
        "outputId": "e8667e21-5f01-45ff-a9ff-c16c7f38292d"
      },
      "outputs": [
        {
          "output_type": "stream",
          "name": "stdout",
          "text": [
            "X_train shape: (3827, 22)\n",
            "y_train shape: (3827,)\n",
            "X_test shape: (921, 22)\n",
            "y_test shape: (921,)\n"
          ]
        }
      ],
      "source": [
        "from sklearn.model_selection import train_test_split\n",
        "\n",
        "# Drop unnecessary columns\n",
        "df_relevant = df_relevant.drop(columns=['datetime', 'year'])\n",
        "\n",
        "# Splitting indices\n",
        "train_index_end = 3826\n",
        "test_index_start = 3827\n",
        "\n",
        "# Splitting data\n",
        "X,y = df_relevant.drop(columns=['energy']),df_relevant['energy']\n",
        "X_train, X_test = X.iloc[:train_index_end + 1], X.iloc[test_index_start:]\n",
        "y_train, y_test = y.iloc[:train_index_end + 1], y.iloc[test_index_start:]\n",
        "\n",
        "# Sanity check\n",
        "print(\"X_train shape:\", X_train.shape)\n",
        "print(\"y_train shape:\", y_train.shape)\n",
        "print(\"X_test shape:\", X_test.shape)\n",
        "print(\"y_test shape:\", y_test.shape)"
      ]
    },
    {
      "cell_type": "markdown",
      "source": [
        "# Problema de clasificación"
      ],
      "metadata": {
        "id": "yVT_BIbTt2X0"
      }
    },
    {
      "cell_type": "markdown",
      "metadata": {
        "id": "sedVqcXjW_ky"
      },
      "source": [
        "## Convertir en problema de clasificación"
      ]
    },
    {
      "cell_type": "markdown",
      "source": [
        "Se busca el tercer cuantil y se clasifican entre energía alta y baja"
      ],
      "metadata": {
        "id": "RnEsqsOu4tC8"
      }
    },
    {
      "cell_type": "code",
      "execution_count": 6,
      "metadata": {
        "colab": {
          "base_uri": "https://localhost:8080/"
        },
        "id": "c83Tjv3YWHQ3",
        "outputId": "18e1a05f-8d58-4f60-f9a9-1d76e61f9d03"
      },
      "outputs": [
        {
          "output_type": "stream",
          "name": "stdout",
          "text": [
            "1089.375\n"
          ]
        }
      ],
      "source": [
        "third_quantile = df_relevant['energy'].quantile(0.75)\n",
        "print(third_quantile)\n",
        "\n",
        "# Asignar clases basadas en el tercer cuartil\n",
        "#predictions_df['predicted_class'] = np.where(predictions_df['predicted_energy'] < third_quantile, 'low', 'high')\n",
        "df_relevant['predicted_class'] = np.where(df_relevant['energy'] < third_quantile, 'low', 'high')"
      ]
    },
    {
      "cell_type": "markdown",
      "source": [
        "###Preparar datos para clasificación"
      ],
      "metadata": {
        "id": "e-1FvqbxZwRE"
      }
    },
    {
      "cell_type": "code",
      "source": [
        "X_class, y_class = df_relevant.drop(columns=['energy', 'predicted_class']), df_relevant['predicted_class']\n",
        "\n",
        "from sklearn.preprocessing import LabelEncoder\n",
        "\n",
        "# Encode the string labels into numerical labels One Hot Encoding\n",
        "label_encoder = LabelEncoder()\n",
        "y_encoded = label_encoder.fit_transform(y_class)\n",
        "\n",
        "# Dividir los datos\n",
        "X_train, X_test = X_class.loc[:highest_index_2008], X_class.loc[first_index_2009:]\n",
        "y_train, y_test = y_encoded[:highest_index_2008 + 1], y_encoded[first_index_2009:]\n",
        "\n",
        "# Verificación\n",
        "print(\"X_train shape:\", X_train.shape)\n",
        "print(\"y_train shape:\", y_train.shape)\n",
        "print(\"X_test shape:\", X_test.shape)\n",
        "print(\"y_test shape:\", y_test.shape)"
      ],
      "metadata": {
        "colab": {
          "base_uri": "https://localhost:8080/"
        },
        "id": "0Uff-Qq0Z1rA",
        "outputId": "da2aa49c-b80f-41cd-f5c8-2b0cca1e1be8"
      },
      "execution_count": 7,
      "outputs": [
        {
          "output_type": "stream",
          "name": "stdout",
          "text": [
            "X_train shape: (3827, 22)\n",
            "y_train shape: (3827,)\n",
            "X_test shape: (921, 22)\n",
            "y_test shape: (921,)\n"
          ]
        }
      ]
    },
    {
      "cell_type": "markdown",
      "source": [
        "#Seleccionar método de escalado"
      ],
      "metadata": {
        "id": "deqXq_3sn-lv"
      }
    },
    {
      "cell_type": "code",
      "source": [
        "from sklearn.neighbors import KNeighborsClassifier\n",
        "from sklearn.metrics import mean_squared_error\n",
        "from sklearn.metrics import f1_score\n",
        "\n",
        "# Initialize dictionaries to store scores\n",
        "scores = {}\n",
        "\n",
        "# MinMaxScaler\n",
        "pipeline_min_max = Pipeline([\n",
        "    ('scaler', MinMaxScaler()),\n",
        "    ('knn', KNeighborsClassifier())\n",
        "])\n",
        "pipeline_min_max.fit(X_train, y_train)\n",
        "y_pred_min_max = pipeline_min_max.predict(X_test)\n",
        "f1_min_max = f1_score(y_test, y_pred_min_max, average='weighted')\n",
        "scores[\"MinMaxScaler\"] = f1_min_max\n",
        "\n",
        "# StandardScaler\n",
        "pipeline_standard = Pipeline([\n",
        "    ('scaler', StandardScaler()),\n",
        "    ('knn', KNeighborsClassifier())\n",
        "])\n",
        "pipeline_standard.fit(X_train, y_train)\n",
        "y_pred_standard = pipeline_standard.predict(X_test)\n",
        "f1_standard = f1_score(y_test, y_pred_standard, average='weighted')\n",
        "scores[\"StandardScaler\"] = f1_standard\n",
        "\n",
        "# RobustScaler\n",
        "pipeline_robust = Pipeline([\n",
        "    ('scaler', RobustScaler()),\n",
        "    ('knn', KNeighborsClassifier())\n",
        "])\n",
        "pipeline_robust.fit(X_train, y_train)\n",
        "y_pred_robust = pipeline_robust.predict(X_test)\n",
        "f1_robust = f1_score(y_test, y_pred_robust, average='weighted')\n",
        "scores[\"RobustScaler\"] = f1_robust\n",
        "\n",
        "# Print results\n",
        "print(\"F1 Score for MinMaxScaler:\", scores[\"MinMaxScaler\"])\n",
        "print(\"F1 Score for StandardScaler:\", scores[\"StandardScaler\"])\n",
        "print(\"F1 Score for RobustScaler:\", scores[\"RobustScaler\"])"
      ],
      "metadata": {
        "colab": {
          "base_uri": "https://localhost:8080/"
        },
        "id": "4-9pqxuIoErc",
        "outputId": "d92fe47d-b8c7-4380-a301-aeddf1c3f01d"
      },
      "execution_count": 8,
      "outputs": [
        {
          "output_type": "stream",
          "name": "stdout",
          "text": [
            "F1 Score for MinMaxScaler: 0.817014881064433\n",
            "F1 Score for StandardScaler: 0.8269146902845452\n",
            "F1 Score for RobustScaler: 0.835129234497837\n"
          ]
        }
      ]
    },
    {
      "cell_type": "markdown",
      "source": [
        "Para clasificación el mejor escalador es el Robust ya que da el F1-score más alto."
      ],
      "metadata": {
        "id": "Zdj1bHQFpT2g"
      }
    },
    {
      "cell_type": "markdown",
      "metadata": {
        "id": "QfICbuLabUyh"
      },
      "source": [
        "### KNN Classifier"
      ]
    },
    {
      "cell_type": "code",
      "execution_count": 9,
      "metadata": {
        "colab": {
          "base_uri": "https://localhost:8080/"
        },
        "id": "bs_BjyDKXLFu",
        "outputId": "514f3e56-5ad0-4b5c-a1a7-b5cb6e043a95"
      },
      "outputs": [
        {
          "output_type": "stream",
          "name": "stdout",
          "text": [
            "Fitting 3 folds for each of 44 candidates, totalling 132 fits\n",
            "F1 Score para KNN Classification: 0.8398310675844494\n",
            "Best parameters: {'knn__n_neighbors': 15, 'knn__p': 2, 'knn__weights': 'distance'}\n",
            "Elapsed time: 36.0717339515686 seconds\n"
          ]
        }
      ],
      "source": [
        "from sklearn.neighbors import KNeighborsClassifier\n",
        "from sklearn.metrics import f1_score\n",
        "\n",
        "knn_class = Pipeline([\n",
        "    ('scaler', RobustScaler()),  # Escalador RobustScaler\n",
        "    ('knn', KNeighborsClassifier())  # Modelo KNN\n",
        "])\n",
        "\n",
        "# Definir el espacio de parámetros para GridSearchCV\n",
        "param_grid_knn_class = {\n",
        "    'knn__n_neighbors': [3, 5, 7, 9, 11, 13, 15, 17, 19, 21, 23],\n",
        "    'knn__weights': ['uniform', 'distance'],\n",
        "    'knn__p': [1, 2]\n",
        "}\n",
        "\n",
        "# Inicializar GridSearchCV para el modelo de clasificación KNN\n",
        "knn_class_model = GridSearchCV(knn_class,\n",
        "                               param_grid_knn_class,\n",
        "                               scoring='f1',  # Usar f1_weighted para problemas multiclase\n",
        "                               cv=TimeSeriesSplit(n_splits=3),\n",
        "                               n_jobs=1,\n",
        "                               verbose=1)\n",
        "\n",
        "# Ajustar el modelo con los datos de entrenamiento\n",
        "inicio = time.time()\n",
        "knn_class_model.fit(X_train, y_train)\n",
        "fin = time.time()\n",
        "\n",
        "# Predecir sobre el conjunto de prueba\n",
        "y_pred_knn_class = knn_class_model.predict(X_test)\n",
        "\n",
        "# Calcular el F1 score\n",
        "f1_knn_class = f1_score(y_test, y_pred_knn_class, average='weighted')\n",
        "\n",
        "print(\"F1 Score para KNN Classification:\", f1_knn_class)\n",
        "print(\"Best parameters:\", knn_class_model.best_params_)\n",
        "\n",
        "# Calcular el tiempo transcurrido\n",
        "elapsed_time = fin - inicio\n",
        "print(\"Elapsed time:\", elapsed_time, \"seconds\")"
      ]
    },
    {
      "cell_type": "markdown",
      "metadata": {
        "id": "8QYNBMlPjy-G"
      },
      "source": [
        "### Random Forest Classifier"
      ]
    },
    {
      "cell_type": "code",
      "execution_count": 14,
      "metadata": {
        "id": "bzD0rr7pjyZM",
        "colab": {
          "base_uri": "https://localhost:8080/"
        },
        "outputId": "6a86d795-b7cd-4bc3-c5f8-c35dbbe55fc7"
      },
      "outputs": [
        {
          "output_type": "stream",
          "name": "stdout",
          "text": [
            "Fitting 3 folds for each of 1 candidates, totalling 3 fits\n",
            "Fitting 3 folds for each of 1 candidates, totalling 3 fits\n",
            "F1 Score para RandomForest Classification: 0.8588416724105079\n",
            "Best parameters: OrderedDict([('rf__bootstrap', True), ('rf__class_weight', None), ('rf__max_depth', None), ('rf__min_samples_leaf', 1), ('rf__min_samples_split', 5), ('rf__n_estimators', 50)])\n",
            "Elapsed time: 8.978439569473267 seconds\n"
          ]
        }
      ],
      "source": [
        "from sklearn.ensemble import RandomForestClassifier\n",
        "from sklearn.metrics import f1_score\n",
        "rf_class = Pipeline([\n",
        "    ('rf', RandomForestClassifier())\n",
        "])\n",
        "\n",
        "param_grid_rf_class = {\n",
        "    'rf__n_estimators': [50, 100, 150],\n",
        "    'rf__max_depth': [None, 10, 20, 30],\n",
        "    'rf__min_samples_split': [2, 5, 10],\n",
        "    'rf__min_samples_leaf': [1, 2, 4],\n",
        "    'rf__bootstrap': [True, False],\n",
        "    'rf__class_weight': ['balanced', None]\n",
        "}\n",
        "\n",
        "rf_class_model = BayesSearchCV(rf_class,\n",
        "                               param_grid_rf_class,\n",
        "                               scoring='f1',\n",
        "                               cv=TimeSeriesSplit(n_splits=3),\n",
        "                               n_jobs=1,\n",
        "                               verbose=1,\n",
        "                               n_iter=2)\n",
        "\n",
        "inicio = time.time()\n",
        "rf_class_model.fit(X_train, y_train)\n",
        "fin = time.time()\n",
        "\n",
        "y_pred_rf_class = rf_class_model.predict(X_test)\n",
        "\n",
        "f1_rf_class = f1_score(y_test, y_pred_rf_class, average='weighted')\n",
        "\n",
        "print(\"F1 Score para RandomForest Classification:\", f1_rf_class)\n",
        "print(\"Best parameters:\", rf_class_model.best_params_)\n",
        "elapsed_time = fin - inicio\n",
        "print(\"Elapsed time:\", elapsed_time, \"seconds\")"
      ]
    },
    {
      "cell_type": "markdown",
      "metadata": {
        "id": "nir4Wd5KlFoM"
      },
      "source": [
        "### Decission Tree Classifier"
      ]
    },
    {
      "cell_type": "code",
      "execution_count": 15,
      "metadata": {
        "id": "6t_MnxwvlIIA",
        "colab": {
          "base_uri": "https://localhost:8080/"
        },
        "outputId": "1aeb3b9f-3079-4785-fe2c-24c538e66894"
      },
      "outputs": [
        {
          "output_type": "stream",
          "name": "stdout",
          "text": [
            "Fitting 3 folds for each of 180 candidates, totalling 540 fits\n",
            "F1 Score para Decision Tree Classification: 0.8422864065328287\n",
            "Best parameters: {'dt__class_weight': None, 'dt__max_depth': 5, 'dt__max_features': 'sqrt', 'dt__min_samples_leaf': 4, 'dt__min_samples_split': 2}\n",
            "Elapsed time: 13.5190110206604 seconds\n"
          ]
        }
      ],
      "source": [
        "from sklearn.tree import DecisionTreeClassifier\n",
        "from sklearn.metrics import f1_score\n",
        "\n",
        "dt_class = Pipeline([\n",
        "    ('scaler', RobustScaler()),\n",
        "    ('dt', DecisionTreeClassifier())\n",
        "])\n",
        "\n",
        "param_grid_dt_class = {\n",
        "    'dt__max_depth': [None, 5, 10, 15, 20],\n",
        "    'dt__min_samples_split': [2, 5, 10],\n",
        "    'dt__min_samples_leaf': [1, 2, 4],\n",
        "    'dt__max_features': ['sqrt', 'log2'],\n",
        "    'dt__class_weight': ['balanced', None]\n",
        "}\n",
        "\n",
        "dt_class_model = GridSearchCV(dt_class,\n",
        "                              param_grid_dt_class,\n",
        "                              scoring='f1',\n",
        "                              cv=TimeSeriesSplit(n_splits=3),\n",
        "                              n_jobs=1,\n",
        "                              verbose=1)\n",
        "\n",
        "inicio = time.time()\n",
        "dt_class_model.fit(X_train, y_train)\n",
        "fin = time.time()\n",
        "\n",
        "y_pred_dt_class = dt_class_model.predict(X_test)\n",
        "\n",
        "f1_dt_class = f1_score(y_test, y_pred_dt_class, average='weighted')\n",
        "\n",
        "print(\"F1 Score para Decision Tree Classification:\", f1_dt_class)\n",
        "print(\"Best parameters:\", dt_class_model.best_params_)\n",
        "\n",
        "elapsed_time = fin - inicio\n",
        "print(\"Elapsed time:\", elapsed_time, \"seconds\")"
      ]
    },
    {
      "cell_type": "markdown",
      "metadata": {
        "id": "CRAWZPb-ljjg"
      },
      "source": [
        "### SVM Classifier"
      ]
    },
    {
      "cell_type": "code",
      "execution_count": 16,
      "metadata": {
        "id": "r2-bRgQflqRO",
        "colab": {
          "base_uri": "https://localhost:8080/"
        },
        "outputId": "d6f08122-ed08-4f9c-8124-6fc6199db335"
      },
      "outputs": [
        {
          "output_type": "stream",
          "name": "stdout",
          "text": [
            "Fitting 3 folds for each of 24 candidates, totalling 72 fits\n",
            "F1 Score para SVM Classification: 0.861371157471188\n",
            "Best parameters: {'svm__C': 1, 'svm__class_weight': None, 'svm__gamma': 'auto', 'svm__kernel': 'rbf'}\n",
            "Elapsed time: 45.6844162940979 seconds\n"
          ]
        }
      ],
      "source": [
        "from sklearn.svm import SVC\n",
        "from sklearn.metrics import f1_score\n",
        "\n",
        "svm_class = Pipeline([\n",
        "    ('scaler', RobustScaler()),  # Escalador RobustScaler\n",
        "    ('svm', SVC())  # Modelo SVM Classifier\n",
        "])\n",
        "\n",
        "param_grid_svm_class = {\n",
        "    'svm__C': [0.1, 1, 10],\n",
        "    'svm__kernel': ['linear', 'rbf'],\n",
        "    'svm__gamma': ['scale', 'auto'],\n",
        "    'svm__class_weight': [None, 'balanced']\n",
        "}\n",
        "\n",
        "svm_class_model = GridSearchCV(svm_class,\n",
        "                               param_grid_svm_class,\n",
        "                               scoring='f1',\n",
        "                               cv=TimeSeriesSplit(n_splits=3),\n",
        "                               n_jobs=1,\n",
        "                               verbose=1)\n",
        "\n",
        "inicio = time.time()\n",
        "svm_class_model.fit(X_train, y_train)\n",
        "fin = time.time()\n",
        "y_pred_svm_class = svm_class_model.predict(X_test)\n",
        "\n",
        "f1_svm_class = f1_score(y_test, y_pred_svm_class, average='weighted')\n",
        "\n",
        "print(\"F1 Score para SVM Classification:\", f1_svm_class)\n",
        "print(\"Best parameters:\", svm_class_model.best_params_)\n",
        "\n",
        "elapsed_time = fin - inicio\n",
        "print(\"Elapsed time:\", elapsed_time, \"seconds\")"
      ]
    },
    {
      "cell_type": "markdown",
      "metadata": {
        "id": "CyX-yAN_cDiH"
      },
      "source": [
        "## Elegir mejor modelo"
      ]
    },
    {
      "cell_type": "markdown",
      "metadata": {
        "id": "091Qka8GceG6"
      },
      "source": [
        "El mejor modelo es SVM classifier ya que de todos los modelos es el que más mayor valor de F1-score tiene."
      ]
    }
  ]
}