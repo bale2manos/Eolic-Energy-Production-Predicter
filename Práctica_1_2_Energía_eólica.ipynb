{
  "nbformat": 4,
  "nbformat_minor": 0,
  "metadata": {
    "colab": {
      "provenance": []
    },
    "kernelspec": {
      "name": "python3",
      "display_name": "Python 3"
    },
    "language_info": {
      "name": "python"
    }
  },
  "cells": [
    {
      "cell_type": "markdown",
      "source": [
        "# Archivo de competición"
      ],
      "metadata": {
        "id": "movLvcK0rprX"
      }
    },
    {
      "cell_type": "markdown",
      "source": [
        "## Lectura del archivo de competición"
      ],
      "metadata": {
        "id": "StmBz-0Jr1nY"
      }
    },
    {
      "cell_type": "markdown",
      "metadata": {
        "id": "wDbm5Gjzr1nY"
      },
      "source": [
        "Se lee el archivo con los datos de competición y el modelo previamente almacenado"
      ]
    },
    {
      "cell_type": "code",
      "execution_count": 1,
      "metadata": {
        "colab": {
          "base_uri": "https://localhost:8080/"
        },
        "id": "s_c9LSi5r1nY",
        "outputId": "5a786c03-2f1d-401c-b4fb-617a3b5fc5ce"
      },
      "outputs": [
        {
          "output_type": "stream",
          "name": "stdout",
          "text": [
            "Mounted at /content/drive\n"
          ]
        }
      ],
      "source": [
        "import pandas as pd\n",
        "import joblib\n",
        "from google.colab import drive\n",
        "drive.mount('/content/drive')\n",
        "\n",
        "# Load the competition dataset\n",
        "file_path = '/content/drive/MyDrive/wind_comp.csv'\n",
        "comp_df = pd.read_csv(file_path)\n",
        "\n",
        "# Load the trained model\n",
        "loaded_model = joblib.load('/content/drive/MyDrive/modelo_final.pkl')"
      ]
    },
    {
      "cell_type": "markdown",
      "source": [
        "## Preprocesado de los datos de competición"
      ],
      "metadata": {
        "id": "KL3FOqFXr1nY"
      }
    },
    {
      "cell_type": "markdown",
      "metadata": {
        "id": "m6aw47mwr1nY"
      },
      "source": [
        "Limpiar datos de competición"
      ]
    },
    {
      "cell_type": "code",
      "execution_count": 2,
      "metadata": {
        "colab": {
          "base_uri": "https://localhost:8080/"
        },
        "outputId": "4cca148b-a375-48b9-b833-1b3e62559ba7",
        "id": "C5A72a52r1nY"
      },
      "outputs": [
        {
          "output_type": "stream",
          "name": "stdout",
          "text": [
            "Columnas relevantes:\n",
            "Número de columnas relevantes:  22\n"
          ]
        }
      ],
      "source": [
        "# Eliminación de variables meteorológicas no correspondientes a la localización 13\n",
        "print(\"Columnas relevantes:\")\n",
        "relevant_columns = [col for col in comp_df.columns if col.endswith(\".13\")]\n",
        "X_comp = comp_df[relevant_columns]\n",
        "print(\"Número de columnas relevantes: \", len(X_comp.columns))"
      ]
    },
    {
      "cell_type": "markdown",
      "source": [
        "## Predicciones"
      ],
      "metadata": {
        "id": "wqzFPtyzr1nY"
      }
    },
    {
      "cell_type": "markdown",
      "metadata": {
        "id": "USp9sJQyr1nY"
      },
      "source": [
        "Se hacen las predicciones y se guardan en Google Drive"
      ]
    },
    {
      "cell_type": "code",
      "execution_count": 3,
      "metadata": {
        "id": "vBuMM2Opr1nY"
      },
      "outputs": [],
      "source": [
        "# Make predictions on the competition dataset\n",
        "predictions = loaded_model.predict(X_comp)\n",
        "\n",
        "# Create a DataFrame for predictions\n",
        "predictions_df = pd.DataFrame(predictions, columns=['predicted_energy'])\n",
        "\n",
        "# Specify the directory in your Google Drive where you want to save the file\n",
        "save_path = '/content/drive/MyDrive/'\n",
        "\n",
        "# Save the predictions to a CSV file in the specified directory\n",
        "predictions_df.to_csv(save_path + 'predicciones.csv', index=False)\n"
      ]
    }
  ]
}